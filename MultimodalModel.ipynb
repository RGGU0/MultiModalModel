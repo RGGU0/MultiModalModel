{
  "cells": [
    {
      "cell_type": "code",
      "execution_count": 68,
      "metadata": {
        "id": "oeNZ8OIM_Aa1"
      },
      "outputs": [],
      "source": [
        "import transformers\n",
        "#!pip install torchtext\n",
        "import torch, torchtext\n",
        "import torch.nn.functional as F\n",
        "import torch.nn as nn"
      ]
    },
    {
      "cell_type": "code",
      "execution_count": 69,
      "metadata": {
        "id": "ch8wYq8qC0l_"
      },
      "outputs": [],
      "source": [
        "from torch.nn.utils.rnn import pad_sequence\n",
        "from torch.utils.data import DataLoader\n",
        "#!pip install torcheval\n",
        "#from torcheval.metrics.functional import multiclass_f1_score\n",
        "from transformers import BertTokenizer, BertModel, AutoModel, AutoProcessor\n",
        "from tqdm import tqdm"
      ]
    },
    {
      "cell_type": "code",
      "execution_count": 70,
      "metadata": {
        "colab": {
          "base_uri": "https://localhost:8080/"
        },
        "id": "oLPEvpwQBGvV",
        "outputId": "b8978d39-6248-45e4-9296-22365ceb6fb2"
      },
      "outputs": [
        {
          "output_type": "stream",
          "name": "stdout",
          "text": [
            "Downloading chest-xrays-indiana-university, 14134513955 bytes compressed\n",
            "[==================================================] 14134513955 bytes downloaded\n",
            "Downloaded and uncompressed: chest-xrays-indiana-university\n",
            "Data source import complete.\n"
          ]
        }
      ],
      "source": [
        "\n",
        "# IMPORTANT: RUN THIS CELL IN ORDER TO IMPORT YOUR KAGGLE DATA SOURCES\n",
        "# TO THE CORRECT LOCATION (/kaggle/input) IN YOUR NOTEBOOK,\n",
        "# THEN FEEL FREE TO DELETE THIS CELL.\n",
        "# NOTE: THIS NOTEBOOK ENVIRONMENT DIFFERS FROM KAGGLE'S PYTHON\n",
        "# ENVIRONMENT SO THERE MAY BE MISSING LIBRARIES USED BY YOUR\n",
        "# NOTEBOOK.\n",
        "\n",
        "import os\n",
        "import sys\n",
        "from tempfile import NamedTemporaryFile\n",
        "from urllib.request import urlopen\n",
        "from urllib.parse import unquote, urlparse\n",
        "from urllib.error import HTTPError\n",
        "from zipfile import ZipFile\n",
        "import tarfile\n",
        "import shutil\n",
        "\n",
        "CHUNK_SIZE = 40960\n",
        "DATA_SOURCE_MAPPING = 'chest-xrays-indiana-university:https%3A%2F%2Fstorage.googleapis.com%2Fkaggle-data-sets%2F516716%2F951996%2Fbundle%2Farchive.zip%3FX-Goog-Algorithm%3DGOOG4-RSA-SHA256%26X-Goog-Credential%3Dgcp-kaggle-com%2540kaggle-161607.iam.gserviceaccount.com%252F20240320%252Fauto%252Fstorage%252Fgoog4_request%26X-Goog-Date%3D20240320T035635Z%26X-Goog-Expires%3D259200%26X-Goog-SignedHeaders%3Dhost%26X-Goog-Signature%3D404b09365fdb79e898fcfd70fe20e944fcc269178ee8a35a1ed2d7ab25b8ff29fe44a2af5b830c22df1b1d0daea49f258558d9c284d25d41fb81936fdff63b89bcb5d2ccdabab9ee9781ec43baf0e47e8731ad2be4c96aedb8450dadd385fdd94da1742d65edfa037d010bc8e20ba1d9b577159afdcbbb247bed1432defc2289798eb616cda94e45e6140cdc865aa4cb1e86c5ecbc4fc8f1f538f0c0942ed07ef4a4e1950dc35e7277de9f25e8b0fdecd2d0923a38493e5bfd9471c9e79983d22cb5f2f4965d1dd4b0988909b2c8b5de2886269055744f0522cc0d7afc7b7c2e3f20ada0f1b8f986c0dd804d11ba834ae4b0a39ee5ee10055de20fde32030de4'\n",
        "\n",
        "KAGGLE_INPUT_PATH='/kaggle/input'\n",
        "KAGGLE_WORKING_PATH='/kaggle/working'\n",
        "KAGGLE_SYMLINK='kaggle'\n",
        "\n",
        "!umount /kaggle/input/ 2> /dev/null\n",
        "shutil.rmtree('/kaggle/input', ignore_errors=True)\n",
        "os.makedirs(KAGGLE_INPUT_PATH, 0o777, exist_ok=True)\n",
        "os.makedirs(KAGGLE_WORKING_PATH, 0o777, exist_ok=True)\n",
        "\n",
        "try:\n",
        "  os.symlink(KAGGLE_INPUT_PATH, os.path.join(\"..\", 'input'), target_is_directory=True)\n",
        "except FileExistsError:\n",
        "  pass\n",
        "try:\n",
        "  os.symlink(KAGGLE_WORKING_PATH, os.path.join(\"..\", 'working'), target_is_directory=True)\n",
        "except FileExistsError:\n",
        "  pass\n",
        "\n",
        "for data_source_mapping in DATA_SOURCE_MAPPING.split(','):\n",
        "    directory, download_url_encoded = data_source_mapping.split(':')\n",
        "    download_url = unquote(download_url_encoded)\n",
        "    filename = urlparse(download_url).path\n",
        "    destination_path = os.path.join(KAGGLE_INPUT_PATH, directory)\n",
        "    try:\n",
        "        with urlopen(download_url) as fileres, NamedTemporaryFile() as tfile:\n",
        "            total_length = fileres.headers['content-length']\n",
        "            print(f'Downloading {directory}, {total_length} bytes compressed')\n",
        "            dl = 0\n",
        "            data = fileres.read(CHUNK_SIZE)\n",
        "            while len(data) > 0:\n",
        "                dl += len(data)\n",
        "                tfile.write(data)\n",
        "                done = int(50 * dl / int(total_length))\n",
        "                sys.stdout.write(f\"\\r[{'=' * done}{' ' * (50-done)}] {dl} bytes downloaded\")\n",
        "                sys.stdout.flush()\n",
        "                data = fileres.read(CHUNK_SIZE)\n",
        "            if filename.endswith('.zip'):\n",
        "              with ZipFile(tfile) as zfile:\n",
        "                zfile.extractall(destination_path)\n",
        "            else:\n",
        "              with tarfile.open(tfile.name) as tarfile:\n",
        "                tarfile.extractall(destination_path)\n",
        "            print(f'\\nDownloaded and uncompressed: {directory}')\n",
        "    except HTTPError as e:\n",
        "        print(f'Failed to load (likely expired) {download_url} to path {destination_path}')\n",
        "        continue\n",
        "    except OSError as e:\n",
        "        print(f'Failed to load {download_url} to path {destination_path}')\n",
        "        continue\n",
        "\n",
        "print('Data source import complete.')"
      ]
    },
    {
      "cell_type": "code",
      "execution_count": 71,
      "metadata": {
        "execution": {
          "iopub.execute_input": "2024-01-28T06:32:25.313809Z",
          "iopub.status.busy": "2024-01-28T06:32:25.313121Z",
          "iopub.status.idle": "2024-01-28T06:32:25.318012Z",
          "shell.execute_reply": "2024-01-28T06:32:25.316933Z",
          "shell.execute_reply.started": "2024-01-28T06:32:25.313775Z"
        },
        "id": "9DtU-hxbBGvb",
        "papermill": {
          "duration": 0.082325,
          "end_time": "2023-08-30T20:42:44.894024",
          "exception": false,
          "start_time": "2023-08-30T20:42:44.811699",
          "status": "completed"
        },
        "tags": []
      },
      "outputs": [],
      "source": [
        "batch_size = 4\n",
        "num_epochs = 25\n",
        "#image_size = 256\n",
        "image_size = 224"
      ]
    },
    {
      "cell_type": "code",
      "source": [
        "#!/usr/bin/env python\n",
        "# coding: utf-8\n",
        "\n",
        "# In[ ]:\n",
        "\n",
        "\n",
        "import math\n",
        "import torch\n",
        "import torch.nn.functional as F\n",
        "import torch.nn as nn\n",
        "\n",
        "device = torch.device(\"cuda\" if torch.cuda.is_available() else \"cpu\")\n",
        "\n",
        "class PositionalEncoding(nn.Module):\n",
        "    \"\"\"\n",
        "        Positional Encoding for Transformer\n",
        "    \"\"\"\n",
        "    def __init__(self, d_model: int, dual_modality=False, dropout: float = 0.1, max_len: int = 5000):\n",
        "        \"\"\"\n",
        "        Args:\n",
        "            d_model: dimension of model\n",
        "            dual_modality: when True, add a sequence of 0s or 1s depending on the modality\n",
        "            dropout: dropout rate\n",
        "            max_len: max length of sequence\n",
        "        \"\"\"\n",
        "        super().__init__()\n",
        "        self.dropout = nn.Dropout(p=dropout)\n",
        "        position = torch.arange(max_len).unsqueeze(1)\n",
        "        div_term = torch.exp(torch.arange(0, d_model, 2) * (-math.log(10000.0) / d_model))\n",
        "        pe = torch.zeros(1, max_len, d_model)\n",
        "        pe[0, :, 0::2] = torch.sin(position * div_term)\n",
        "        pe[0, :, 1::2] = torch.cos(position * div_term)\n",
        "        self.register_buffer('pe', pe)\n",
        "        self.dual_modality = dual_modality\n",
        "        self.pe = self.pe.to(device)\n",
        "\n",
        "    def forward(self, x, is_first=True):\n",
        "        \"\"\"\n",
        "        Args:\n",
        "            x: input tensor (bs, sqlen, emb)\n",
        "            is_first: True if the first modality, False if the second modality\n",
        "        \"\"\"\n",
        "        if self.dual_modality:\n",
        "            modality = torch.ones((x.shape[0], x.shape[1], 4), dtype=torch.float32).to(device) * (0 if is_first else 1)\n",
        "            x = x + self.pe[:, :x.size(1)]\n",
        "            x = self.dropout(x)\n",
        "            return torch.cat((x, modality), axis=-1)\n",
        "        else:\n",
        "            # x = (bs, sqlen, emb)  pe = (1, sqlen, emb)\n",
        "            x = x + self.pe[:, :x.size(1)]\n",
        "            return self.dropout(x)\n",
        "\n",
        "\n",
        "\n",
        "class CustomScaleDotProductAttention(nn.Module):\n",
        "    \"\"\"\n",
        "    compute scale dot product attention\n",
        "\n",
        "    Query : given sentence that we focused on (decoder)\n",
        "    Key : every sentence to check relationship with Qeury(encoder)\n",
        "    Value : every sentence same with Key (encoder)\n",
        "    \"\"\"\n",
        "\n",
        "    def __init__(self):\n",
        "        super(CustomScaleDotProductAttention, self).__init__()\n",
        "        self.softmax = nn.Softmax(dim=-1)\n",
        "\n",
        "    def forward(self, q, k, v, text_mask, audio_mask, e=1e-12):\n",
        "        \"\"\"\n",
        "        Args:\n",
        "            q: query (decoder)\n",
        "            k: key (encoder)\n",
        "            v: value (encoder)\n",
        "            text_mask: mask for text sequence\n",
        "            audio_mask: mask for audio sequence\n",
        "            e: epsilon value for masking\n",
        "        \"\"\"\n",
        "        # input is 4 dimension tensor\n",
        "        # [batch_size, head, length, d_tensor]\n",
        "        batch_size, head, length, d_tensor = k.size()\n",
        "\n",
        "        # 1. dot product Query with Key^T to compute similarity\n",
        "        k_t = k.transpose(2, 3)  # transpose\n",
        "        score = (q @ k_t) / math.sqrt(d_tensor)  # scaled dot product\n",
        "        ## score dimension: (batch, n_heads, length, length)\n",
        "\n",
        "        # 2. apply masking (opt)\n",
        "        padding_mask = torch.cat((text_mask, audio_mask), dim=1).unsqueeze(1)\n",
        "        ## padding_mask is now (batch, 1, seq_length)\n",
        "        score = score.masked_fill(padding_mask.unsqueeze(-1) == 0, -10_000) # padding_mask applied = (batch, 1, seq_length, 1)\n",
        "        score = score.masked_fill(padding_mask.unsqueeze(1) == 0, -10_000) # padding_mask applied = (batch, 1, 1, seq_length)\n",
        "\n",
        "        # 3. pass them softmax to make [0, 1] range\n",
        "        score = self.softmax(score)\n",
        "\n",
        "        # 4. multipy score with attention coefficients\n",
        "        text_lengths = torch.sum(text_mask, dim=1)\n",
        "        audio_lengths = torch.sum(audio_mask, dim=1)\n",
        "        ## text_length and audio_length dimension = (batch,)\n",
        "\n",
        "        total_lengths = text_lengths + audio_lengths\n",
        "        ## total_lengths dimension = (batch,)\n",
        "\n",
        "        text_coefficients = (total_lengths / (2*text_lengths)).unsqueeze(-1)\n",
        "        audio_coefficients = (total_lengths / (2*audio_lengths)).unsqueeze(-1)\n",
        "        ## text_coefficients and audio_coefficients dimension = (batch, 1)\n",
        "\n",
        "        text_weights = text_mask*text_coefficients\n",
        "        audio_weights = audio_mask*audio_coefficients\n",
        "        ## text_weights dimension = (batch, text_sequence_length)\n",
        "        ## audio_weights dimension = (batch, audio_sequence_length)\n",
        "\n",
        "        attention_coefficients = torch.cat((text_weights, audio_weights), dim=1).unsqueeze(1).unsqueeze(1)\n",
        "        ## attention_coefficients dimension = (batch, 1, 1, total_sequence_length)\n",
        "        score = score * attention_coefficients\n",
        "\n",
        "        # 5. multiply with Value\n",
        "        v = score @ v\n",
        "\n",
        "        return v, score\n",
        "\n",
        "\n",
        "class CustomMultiHeadAttention(nn.Module):\n",
        "    \"\"\"\n",
        "    Multi Head Attention Class for Transformer\n",
        "    \"\"\"\n",
        "    def __init__(self, d_model, n_head):\n",
        "        \"\"\"\n",
        "        Args:\n",
        "            d_model: dimension of model\n",
        "            n_head: number of heads\n",
        "        \"\"\"\n",
        "        super(CustomMultiHeadAttention, self).__init__()\n",
        "        self.n_head = n_head\n",
        "        self.attention = CustomScaleDotProductAttention()\n",
        "        self.w_q = nn.Linear(d_model, d_model)\n",
        "        self.w_k = nn.Linear(d_model, d_model)\n",
        "        self.w_v = nn.Linear(d_model, d_model)\n",
        "        self.w_concat = nn.Linear(d_model, d_model)\n",
        "\n",
        "    def forward(self, q, k, v, text_mask, audio_mask):\n",
        "        \"\"\"\n",
        "        Args:\n",
        "            q: query (decoder)\n",
        "            k: key (encoder)\n",
        "            v: value (encoder)\n",
        "            text_mask: mask for text sequence\n",
        "            audio_mask: mask for audio sequence\n",
        "        \"\"\"\n",
        "        # 1. dot product with weight matrices\n",
        "        q, k, v = self.w_q(q), self.w_k(k), self.w_v(v)\n",
        "\n",
        "        # 2. split tensor by number of heads\n",
        "        q, k, v = self.split(q), self.split(k), self.split(v)\n",
        "\n",
        "        # 3. do scale dot product to compute similarity\n",
        "        out, attention = self.attention(q, k, v, text_mask, audio_mask)\n",
        "\n",
        "        # 4. concat and pass to linear layer\n",
        "        out = self.concat(out)\n",
        "        out = self.w_concat(out)\n",
        "\n",
        "        # 5. visualize attention map\n",
        "        # TODO : we should implement visualization\n",
        "\n",
        "        return out\n",
        "\n",
        "    def split(self, tensor):\n",
        "        \"\"\"\n",
        "        split tensor by number of head\n",
        "\n",
        "        Args:\n",
        "            tensor: [batch_size, length, d_model]\n",
        "        \"\"\"\n",
        "\n",
        "        batch_size, length, d_model = tensor.size()\n",
        "\n",
        "        d_tensor = d_model // self.n_head\n",
        "        tensor = tensor.view(batch_size, length, self.n_head, d_tensor).transpose(1, 2)\n",
        "        # it is similar with group convolution (split by number of heads)\n",
        "\n",
        "        return tensor\n",
        "\n",
        "    def concat(self, tensor):\n",
        "        \"\"\"\n",
        "        inverse function of self.split(tensor : torch.Tensor)\n",
        "        Args:\n",
        "            tensor: [batch_size, head, length, d_tensor]\n",
        "        \"\"\"\n",
        "        batch_size, head, length, d_tensor = tensor.size()\n",
        "        d_model = head * d_tensor\n",
        "\n",
        "        tensor = tensor.transpose(1, 2).contiguous().view(batch_size, length, d_model)\n",
        "        return tensor\n",
        "\n",
        "class LayerNorm(nn.Module):\n",
        "    \"\"\"\n",
        "    Layer Normalization Class\n",
        "    \"\"\"\n",
        "    def __init__(self, d_model, eps=1e-12):\n",
        "        \"\"\"\n",
        "        Args:\n",
        "            d_model: dimension of model\n",
        "            eps: epsilon value for masking\n",
        "        \"\"\"\n",
        "        super(LayerNorm, self).__init__()\n",
        "        self.gamma = nn.Parameter(torch.ones(d_model))\n",
        "        self.beta = nn.Parameter(torch.zeros(d_model))\n",
        "        self.eps = eps\n",
        "\n",
        "    def forward(self, x):\n",
        "        \"\"\"\n",
        "        Args:\n",
        "            x: input tensor\n",
        "        \"\"\"\n",
        "        mean = x.mean(-1, keepdim=True)\n",
        "        var = x.var(-1, unbiased=False, keepdim=True)\n",
        "        # '-1' means last dimension.\n",
        "\n",
        "        out = (x - mean) / torch.sqrt(var + self.eps)\n",
        "        out = self.gamma * out + self.beta\n",
        "        return out\n",
        "\n",
        "class PositionwiseFeedForward(nn.Module):\n",
        "    \"\"\"\n",
        "    Position-wise Feed Forward Layer\n",
        "    \"\"\"\n",
        "    def __init__(self, d_model, hidden, drop_prob=0.1):\n",
        "        \"\"\"\n",
        "        Args:\n",
        "            d_model: dimension of model\n",
        "            hidden: dimension of hidden layer\n",
        "            drop_prob: dropout rate\n",
        "        \"\"\"\n",
        "        super(PositionwiseFeedForward, self).__init__()\n",
        "        self.linear1 = nn.Linear(d_model, hidden)\n",
        "        self.linear2 = nn.Linear(hidden, d_model)\n",
        "        self.relu = nn.ReLU()\n",
        "        self.dropout = nn.Dropout(p=drop_prob)\n",
        "\n",
        "    def forward(self, x):\n",
        "        \"\"\"\n",
        "        Args:\n",
        "            x: input tensor\n",
        "        \"\"\"\n",
        "        x = self.linear1(x)\n",
        "        x = self.relu(x)\n",
        "        x = self.dropout(x)\n",
        "        x = self.linear2(x)\n",
        "        return x\n",
        "\n",
        "class CustomEncoderLayer(nn.Module):\n",
        "    \"\"\"\n",
        "    Encoder Layer Class\n",
        "    \"\"\"\n",
        "    def __init__(self, d_model, ffn_hidden, n_head, drop_prob):\n",
        "        \"\"\"\n",
        "        Args:\n",
        "            d_model: dimension of model\n",
        "            ffn_hidden: dimension of hidden layer\n",
        "            n_head: number of heads\n",
        "            drop_prob: dropout rate\n",
        "        \"\"\"\n",
        "        super(CustomEncoderLayer, self).__init__()\n",
        "        self.attention = CustomMultiHeadAttention(d_model=d_model, n_head=n_head)\n",
        "        self.norm1 = LayerNorm(d_model=d_model)\n",
        "        self.dropout1 = nn.Dropout(p=drop_prob)\n",
        "\n",
        "        self.ffn = PositionwiseFeedForward(d_model=d_model, hidden=ffn_hidden, drop_prob=drop_prob)\n",
        "        self.norm2 = LayerNorm(d_model=d_model)\n",
        "        self.dropout2 = nn.Dropout(p=drop_prob)\n",
        "\n",
        "    def forward(self, x, text_mask, audio_mask):\n",
        "        \"\"\"\n",
        "        Args:\n",
        "            x: input tensor\n",
        "            text_mask: mask for text sequence\n",
        "            audio_mask: mask for audio sequence\n",
        "        \"\"\"\n",
        "        # 1. compute self attention\n",
        "        _x = x\n",
        "        x = self.attention(q=x, k=x, v=x, text_mask=text_mask, audio_mask=audio_mask)\n",
        "\n",
        "        # 2. add and norm\n",
        "        x = self.dropout1(x)\n",
        "        x = self.norm1(x + _x)\n",
        "\n",
        "        # 3. positionwise feed forward network\n",
        "        _x = x\n",
        "        x = self.ffn(x)\n",
        "\n",
        "        # 4. add and norm\n",
        "        x = self.dropout2(x)\n",
        "        x = self.norm2(x + _x)\n",
        "        return x\n",
        "\n",
        "class CustomEncoder(nn.Module):\n",
        "    \"\"\"\n",
        "    Encoder Class\n",
        "    \"\"\"\n",
        "    def __init__(self, d_model, ffn_hidden, n_head, n_layers, drop_prob):\n",
        "        \"\"\"\n",
        "        Args:\n",
        "            d_model: dimension of model\n",
        "            ffn_hidden: dimension of hidden layer\n",
        "            n_head: number of heads\n",
        "            n_layers: number of layers\n",
        "            drop_prob: dropout rate\n",
        "        \"\"\"\n",
        "        super().__init__()\n",
        "\n",
        "        self.layers = nn.ModuleList([CustomEncoderLayer(d_model=d_model,ffn_hidden=ffn_hidden,n_head=n_head,drop_prob=drop_prob) for _ in range(n_layers)])\n",
        "\n",
        "    def forward(self, embedding, text_mask, audio_mask):\n",
        "        \"\"\"\n",
        "        Args:\n",
        "            embedding: input tensor\n",
        "            text_mask: mask for text sequence\n",
        "            audio_mask: mask for audio sequence\n",
        "        \"\"\"\n",
        "        x = embedding\n",
        "        for layer in self.layers:\n",
        "            x = layer(x, text_mask, audio_mask)\n",
        "\n",
        "        return x"
      ],
      "metadata": {
        "id": "aZMydzLDvSsL"
      },
      "execution_count": 72,
      "outputs": []
    },
    {
      "cell_type": "markdown",
      "metadata": {
        "id": "Qb3IHh-sBGvc",
        "papermill": {
          "duration": 0.066364,
          "end_time": "2023-08-30T20:42:45.056849",
          "exception": false,
          "start_time": "2023-08-30T20:42:44.990485",
          "status": "completed"
        },
        "tags": []
      },
      "source": [
        "# Import Libaries"
      ]
    },
    {
      "cell_type": "code",
      "execution_count": 73,
      "metadata": {
        "_kg_hide-output": true,
        "colab": {
          "base_uri": "https://localhost:8080/"
        },
        "execution": {
          "iopub.execute_input": "2024-01-28T06:26:58.336508Z",
          "iopub.status.busy": "2024-01-28T06:26:58.335538Z",
          "iopub.status.idle": "2024-01-28T06:26:58.792978Z",
          "shell.execute_reply": "2024-01-28T06:26:58.791995Z",
          "shell.execute_reply.started": "2024-01-28T06:26:58.336446Z"
        },
        "id": "dwT2SAWxBGve",
        "outputId": "19b25d8b-f117-455e-d9b5-5d9c271e4e1b",
        "papermill": {
          "duration": 3.357763,
          "end_time": "2023-08-30T20:42:48.481953",
          "exception": false,
          "start_time": "2023-08-30T20:42:45.12419",
          "status": "completed"
        },
        "tags": []
      },
      "outputs": [
        {
          "output_type": "stream",
          "name": "stdout",
          "text": [
            "cpu\n"
          ]
        }
      ],
      "source": [
        "import numpy as np\n",
        "import cv2\n",
        "from PIL import Image\n",
        "import matplotlib.pyplot as plt\n",
        "from tqdm import tqdm\n",
        "import pandas as pd\n",
        "import os\n",
        "import torch\n",
        "from torch.utils.data import Dataset, DataLoader\n",
        "from torchvision import transforms\n",
        "from torchvision.utils import make_grid\n",
        "import torch\n",
        "import torch.optim as optim\n",
        "import itertools\n",
        "device = torch.device(\"cuda\" if torch.cuda.is_available() else \"cpu\")\n",
        "print(device)"
      ]
    },
    {
      "cell_type": "code",
      "execution_count": 74,
      "metadata": {
        "colab": {
          "base_uri": "https://localhost:8080/",
          "height": 36
        },
        "id": "A7Qn9dhG_Aa_",
        "outputId": "c5d5dd0d-1267-4b13-91a2-8d86079f4da4"
      },
      "outputs": [
        {
          "output_type": "execute_result",
          "data": {
            "text/plain": [
              "'/content'"
            ],
            "application/vnd.google.colaboratory.intrinsic+json": {
              "type": "string"
            }
          },
          "metadata": {},
          "execution_count": 74
        }
      ],
      "source": [
        "%pwd"
      ]
    },
    {
      "cell_type": "code",
      "execution_count": 75,
      "metadata": {
        "execution": {
          "iopub.execute_input": "2024-01-28T06:23:14.494284Z",
          "iopub.status.busy": "2024-01-28T06:23:14.493658Z",
          "iopub.status.idle": "2024-01-28T06:23:14.594063Z",
          "shell.execute_reply": "2024-01-28T06:23:14.593009Z",
          "shell.execute_reply.started": "2024-01-28T06:23:14.494248Z"
        },
        "id": "OFuWq6QPBGvf",
        "colab": {
          "base_uri": "https://localhost:8080/"
        },
        "outputId": "b9cdedd7-fddb-4fb3-bac3-9d51526a6e85"
      },
      "outputs": [
        {
          "output_type": "execute_result",
          "data": {
            "text/plain": [
              "20"
            ]
          },
          "metadata": {},
          "execution_count": 75
        }
      ],
      "source": [
        "'''df2 = pd.read_csv('D:\\\\IndianaReports\\\\indiana_projections.csv')\n",
        "df1 = pd.read_csv('D:\\\\IndianaReports\\\\indiana_reports.csv')'''\n",
        "df2 = pd.read_csv('/kaggle/input/chest-xrays-indiana-university/indiana_projections.csv')\n",
        "df1 = pd.read_csv('/kaggle/input/chest-xrays-indiana-university/indiana_reports.csv')\n",
        "df1.loc[df1['Problems'].str.contains('Lung'),'Problems']='Lung'\n",
        "df1 = df1.loc[df1['Problems'].isin(['Lung','normal'])]\n",
        "df1 = df1[:20]\n",
        "len(df1)"
      ]
    },
    {
      "cell_type": "code",
      "execution_count": 76,
      "metadata": {
        "colab": {
          "base_uri": "https://localhost:8080/"
        },
        "execution": {
          "iopub.execute_input": "2024-01-28T06:23:17.189467Z",
          "iopub.status.busy": "2024-01-28T06:23:17.188516Z",
          "iopub.status.idle": "2024-01-28T06:23:26.789353Z",
          "shell.execute_reply": "2024-01-28T06:23:26.788368Z",
          "shell.execute_reply.started": "2024-01-28T06:23:17.189427Z"
        },
        "id": "wnWzBnpXBGvg",
        "outputId": "414d878a-3d6a-45e3-c88a-998656a11bc9"
      },
      "outputs": [
        {
          "output_type": "stream",
          "name": "stdout",
          "text": [
            "                       image  \\\n",
            "0     1_IM-0001-4001.dcm.png   \n",
            "1     1_IM-0001-3001.dcm.png   \n",
            "2  5_IM-2117-1003002.dcm.png   \n",
            "3  5_IM-2117-1004003.dcm.png   \n",
            "4     6_IM-2192-1001.dcm.png   \n",
            "\n",
            "                                             caption  number_of_words problem  \n",
            "0  The cardiac silhouette and mediastinum size ar...               34  normal  \n",
            "1  The cardiac silhouette and mediastinum size ar...               34  normal  \n",
            "2  The cardiomediastinal silhouette and pulmonary...               42    Lung  \n",
            "3  The cardiomediastinal silhouette and pulmonary...               42    Lung  \n",
            "4  Heart size and mediastinal contour are within ...               32  normal  \n"
          ]
        }
      ],
      "source": [
        "images_captions_df = pd.DataFrame({'image': [],\n",
        "                                    'caption': [],'number_of_words':[],'problem':[]})\n",
        "for i in range(len(df2)):\n",
        "    uid = df2.iloc[i]['uid']\n",
        "    image = df2.iloc[i]['filename']\n",
        "    index = df1.loc[df1['uid'] ==uid]\n",
        "\n",
        "    if not index.empty:\n",
        "        index = index.index[0]\n",
        "        caption = df1.loc[index]['findings']\n",
        "        problem = df1.loc[index]['Problems']\n",
        "        number_of_words = len(str(caption).split())\n",
        "\n",
        "        if type(caption) == float:\n",
        "                continue\n",
        "        images_captions_df = pd.concat([images_captions_df, pd.DataFrame([{'image': image, 'caption': caption ,'number_of_words':number_of_words,'problem':problem}])], ignore_index=True)\n",
        "\n",
        "images_captions_df[\"number_of_words\"] =  images_captions_df[\"caption\"].apply(lambda text: len(str(text).split()))\n",
        "images_captions_df['number_of_words'] = images_captions_df['number_of_words'].astype(int)\n",
        "\n",
        "print(images_captions_df.head())"
      ]
    },
    {
      "cell_type": "code",
      "execution_count": 77,
      "metadata": {
        "colab": {
          "base_uri": "https://localhost:8080/"
        },
        "execution": {
          "iopub.execute_input": "2024-01-28T06:23:29.958866Z",
          "iopub.status.busy": "2024-01-28T06:23:29.958519Z",
          "iopub.status.idle": "2024-01-28T06:23:30.562072Z",
          "shell.execute_reply": "2024-01-28T06:23:30.56112Z",
          "shell.execute_reply.started": "2024-01-28T06:23:29.958839Z"
        },
        "id": "yos3knizBGvg",
        "outputId": "04d49576-f94f-4219-fa3c-ed33bc6a90ed",
        "papermill": {
          "duration": 55.937704,
          "end_time": "2023-08-30T20:43:44.953316",
          "exception": false,
          "start_time": "2023-08-30T20:42:49.015612",
          "status": "completed"
        },
        "tags": []
      },
      "outputs": [
        {
          "output_type": "stream",
          "name": "stdout",
          "text": [
            "                      image  \\\n",
            "29  30_IM-1385-2001.dcm.png   \n",
            "26  27_IM-1168-2002.dcm.png   \n",
            "27  27_IM-1168-3003.dcm.png   \n",
            "33  35_IM-1704-1002.dcm.png   \n",
            "24  25_IM-1024-2001.dcm.png   \n",
            "\n",
            "                                              caption  number_of_words problem  \n",
            "29  Lungs are clear without focal consolidation, e...               22  normal  \n",
            "26  Lungs are overall hyperexpanded with flattenin...               31    Lung  \n",
            "27  Lungs are overall hyperexpanded with flattenin...               31    Lung  \n",
            "33  The heart size and cardiomediastinal silhouett...               36    Lung  \n",
            "24  The heart is within normal limits in size. Sur...               48    Lung  \n",
            "28 6 2\n"
          ]
        }
      ],
      "source": [
        "from sklearn.model_selection import train_test_split\n",
        "\n",
        "image_folder = '/kaggle/input/chest-xrays-indiana-university/images/images_normalized'\n",
        "image_filenames = images_captions_df.image.values\n",
        "\n",
        "# image_filenames = image_filenames[0:100]\n",
        "\n",
        "train_captions,test_val_captions =train_test_split(images_captions_df, test_size = 0.2)\n",
        "test_captions, val_captions =train_test_split(test_val_captions, test_size = 0.2)\n",
        "\n",
        "print(train_captions.head())\n",
        "print(len(train_captions),len(test_captions),len(val_captions))"
      ]
    },
    {
      "cell_type": "code",
      "execution_count": 78,
      "metadata": {
        "id": "ZepJHNzT_AbD",
        "outputId": "084365ab-338b-45ff-9ae5-dbe178577374",
        "colab": {
          "base_uri": "https://localhost:8080/",
          "height": 927
        }
      },
      "outputs": [
        {
          "output_type": "execute_result",
          "data": {
            "text/plain": [
              "                        image  \\\n",
              "29    30_IM-1385-2001.dcm.png   \n",
              "26    27_IM-1168-2002.dcm.png   \n",
              "27    27_IM-1168-3003.dcm.png   \n",
              "33    35_IM-1704-1002.dcm.png   \n",
              "24    25_IM-1024-2001.dcm.png   \n",
              "25    25_IM-1024-3001.dcm.png   \n",
              "4      6_IM-2192-1001.dcm.png   \n",
              "2   5_IM-2117-1003002.dcm.png   \n",
              "14    17_IM-0460-2001.dcm.png   \n",
              "10    12_IM-0133-1001.dcm.png   \n",
              "32    35_IM-1704-1001.dcm.png   \n",
              "22    24_IM-0949-1001.dcm.png   \n",
              "31    34_IM-1644-2001.dcm.png   \n",
              "20    23_IM-0879-1001.dcm.png   \n",
              "18    22_IM-0810-1001.dcm.png   \n",
              "6      8_IM-2333-1001.dcm.png   \n",
              "13    14_IM-0256-2001.dcm.png   \n",
              "7      8_IM-2333-2001.dcm.png   \n",
              "35    36_IM-1776-2001.dcm.png   \n",
              "1      1_IM-0001-3001.dcm.png   \n",
              "16    20_IM-0653-1001.dcm.png   \n",
              "0      1_IM-0001-4001.dcm.png   \n",
              "15    17_IM-0460-1001.dcm.png   \n",
              "5      6_IM-2192-2001.dcm.png   \n",
              "11    12_IM-0133-2001.dcm.png   \n",
              "9     11_IM-0067-2001.dcm.png   \n",
              "8     11_IM-0067-1001.dcm.png   \n",
              "12    14_IM-0256-1001.dcm.png   \n",
              "\n",
              "                                              caption  number_of_words problem  \n",
              "29  Lungs are clear without focal consolidation, e...               22  normal  \n",
              "26  Lungs are overall hyperexpanded with flattenin...               31    Lung  \n",
              "27  Lungs are overall hyperexpanded with flattenin...               31    Lung  \n",
              "33  The heart size and cardiomediastinal silhouett...               36    Lung  \n",
              "24  The heart is within normal limits in size. Sur...               48    Lung  \n",
              "25  The heart is within normal limits in size. Sur...               48    Lung  \n",
              "4   Heart size and mediastinal contour are within ...               32  normal  \n",
              "2   The cardiomediastinal silhouette and pulmonary...               42    Lung  \n",
              "14  No focal areas of consolidation. No suspicious...               24  normal  \n",
              "10  Lungs are clear bilaterally. Cardiac and media...               23  normal  \n",
              "32  The heart size and cardiomediastinal silhouett...               36    Lung  \n",
              "22  Cardiomediastinal silhouette is within normal ...               42  normal  \n",
              "31  The heart is normal in size and contour. The l...               22  normal  \n",
              "20  The heart size and pulmonary vascularity appea...               25  normal  \n",
              "18  The lungs are clear, and without focal air spa...               28  normal  \n",
              "6   The heart, pulmonary XXXX and mediastinum are ...               38  normal  \n",
              "13  Heart size within normal limits, stable medias...               37    Lung  \n",
              "7   The heart, pulmonary XXXX and mediastinum are ...               38  normal  \n",
              "35  The lungs are clear bilaterally. Specifically,...               30  normal  \n",
              "1   The cardiac silhouette and mediastinum size ar...               34  normal  \n",
              "16  The cardiac and mediastinal silhouettes are un...               36  normal  \n",
              "0   The cardiac silhouette and mediastinum size ar...               34  normal  \n",
              "15  No focal areas of consolidation. No suspicious...               24  normal  \n",
              "5   Heart size and mediastinal contour are within ...               32  normal  \n",
              "11  Lungs are clear bilaterally. Cardiac and media...               23  normal  \n",
              "9   Cardiomediastinal silhouette and pulmonary vas...               21  normal  \n",
              "8   Cardiomediastinal silhouette and pulmonary vas...               21  normal  \n",
              "12  Heart size within normal limits, stable medias...               37    Lung  "
            ],
            "text/html": [
              "\n",
              "  <div id=\"df-7d18cbbe-fd87-4ab6-83bd-06f567642e86\" class=\"colab-df-container\">\n",
              "    <div>\n",
              "<style scoped>\n",
              "    .dataframe tbody tr th:only-of-type {\n",
              "        vertical-align: middle;\n",
              "    }\n",
              "\n",
              "    .dataframe tbody tr th {\n",
              "        vertical-align: top;\n",
              "    }\n",
              "\n",
              "    .dataframe thead th {\n",
              "        text-align: right;\n",
              "    }\n",
              "</style>\n",
              "<table border=\"1\" class=\"dataframe\">\n",
              "  <thead>\n",
              "    <tr style=\"text-align: right;\">\n",
              "      <th></th>\n",
              "      <th>image</th>\n",
              "      <th>caption</th>\n",
              "      <th>number_of_words</th>\n",
              "      <th>problem</th>\n",
              "    </tr>\n",
              "  </thead>\n",
              "  <tbody>\n",
              "    <tr>\n",
              "      <th>29</th>\n",
              "      <td>30_IM-1385-2001.dcm.png</td>\n",
              "      <td>Lungs are clear without focal consolidation, e...</td>\n",
              "      <td>22</td>\n",
              "      <td>normal</td>\n",
              "    </tr>\n",
              "    <tr>\n",
              "      <th>26</th>\n",
              "      <td>27_IM-1168-2002.dcm.png</td>\n",
              "      <td>Lungs are overall hyperexpanded with flattenin...</td>\n",
              "      <td>31</td>\n",
              "      <td>Lung</td>\n",
              "    </tr>\n",
              "    <tr>\n",
              "      <th>27</th>\n",
              "      <td>27_IM-1168-3003.dcm.png</td>\n",
              "      <td>Lungs are overall hyperexpanded with flattenin...</td>\n",
              "      <td>31</td>\n",
              "      <td>Lung</td>\n",
              "    </tr>\n",
              "    <tr>\n",
              "      <th>33</th>\n",
              "      <td>35_IM-1704-1002.dcm.png</td>\n",
              "      <td>The heart size and cardiomediastinal silhouett...</td>\n",
              "      <td>36</td>\n",
              "      <td>Lung</td>\n",
              "    </tr>\n",
              "    <tr>\n",
              "      <th>24</th>\n",
              "      <td>25_IM-1024-2001.dcm.png</td>\n",
              "      <td>The heart is within normal limits in size. Sur...</td>\n",
              "      <td>48</td>\n",
              "      <td>Lung</td>\n",
              "    </tr>\n",
              "    <tr>\n",
              "      <th>25</th>\n",
              "      <td>25_IM-1024-3001.dcm.png</td>\n",
              "      <td>The heart is within normal limits in size. Sur...</td>\n",
              "      <td>48</td>\n",
              "      <td>Lung</td>\n",
              "    </tr>\n",
              "    <tr>\n",
              "      <th>4</th>\n",
              "      <td>6_IM-2192-1001.dcm.png</td>\n",
              "      <td>Heart size and mediastinal contour are within ...</td>\n",
              "      <td>32</td>\n",
              "      <td>normal</td>\n",
              "    </tr>\n",
              "    <tr>\n",
              "      <th>2</th>\n",
              "      <td>5_IM-2117-1003002.dcm.png</td>\n",
              "      <td>The cardiomediastinal silhouette and pulmonary...</td>\n",
              "      <td>42</td>\n",
              "      <td>Lung</td>\n",
              "    </tr>\n",
              "    <tr>\n",
              "      <th>14</th>\n",
              "      <td>17_IM-0460-2001.dcm.png</td>\n",
              "      <td>No focal areas of consolidation. No suspicious...</td>\n",
              "      <td>24</td>\n",
              "      <td>normal</td>\n",
              "    </tr>\n",
              "    <tr>\n",
              "      <th>10</th>\n",
              "      <td>12_IM-0133-1001.dcm.png</td>\n",
              "      <td>Lungs are clear bilaterally. Cardiac and media...</td>\n",
              "      <td>23</td>\n",
              "      <td>normal</td>\n",
              "    </tr>\n",
              "    <tr>\n",
              "      <th>32</th>\n",
              "      <td>35_IM-1704-1001.dcm.png</td>\n",
              "      <td>The heart size and cardiomediastinal silhouett...</td>\n",
              "      <td>36</td>\n",
              "      <td>Lung</td>\n",
              "    </tr>\n",
              "    <tr>\n",
              "      <th>22</th>\n",
              "      <td>24_IM-0949-1001.dcm.png</td>\n",
              "      <td>Cardiomediastinal silhouette is within normal ...</td>\n",
              "      <td>42</td>\n",
              "      <td>normal</td>\n",
              "    </tr>\n",
              "    <tr>\n",
              "      <th>31</th>\n",
              "      <td>34_IM-1644-2001.dcm.png</td>\n",
              "      <td>The heart is normal in size and contour. The l...</td>\n",
              "      <td>22</td>\n",
              "      <td>normal</td>\n",
              "    </tr>\n",
              "    <tr>\n",
              "      <th>20</th>\n",
              "      <td>23_IM-0879-1001.dcm.png</td>\n",
              "      <td>The heart size and pulmonary vascularity appea...</td>\n",
              "      <td>25</td>\n",
              "      <td>normal</td>\n",
              "    </tr>\n",
              "    <tr>\n",
              "      <th>18</th>\n",
              "      <td>22_IM-0810-1001.dcm.png</td>\n",
              "      <td>The lungs are clear, and without focal air spa...</td>\n",
              "      <td>28</td>\n",
              "      <td>normal</td>\n",
              "    </tr>\n",
              "    <tr>\n",
              "      <th>6</th>\n",
              "      <td>8_IM-2333-1001.dcm.png</td>\n",
              "      <td>The heart, pulmonary XXXX and mediastinum are ...</td>\n",
              "      <td>38</td>\n",
              "      <td>normal</td>\n",
              "    </tr>\n",
              "    <tr>\n",
              "      <th>13</th>\n",
              "      <td>14_IM-0256-2001.dcm.png</td>\n",
              "      <td>Heart size within normal limits, stable medias...</td>\n",
              "      <td>37</td>\n",
              "      <td>Lung</td>\n",
              "    </tr>\n",
              "    <tr>\n",
              "      <th>7</th>\n",
              "      <td>8_IM-2333-2001.dcm.png</td>\n",
              "      <td>The heart, pulmonary XXXX and mediastinum are ...</td>\n",
              "      <td>38</td>\n",
              "      <td>normal</td>\n",
              "    </tr>\n",
              "    <tr>\n",
              "      <th>35</th>\n",
              "      <td>36_IM-1776-2001.dcm.png</td>\n",
              "      <td>The lungs are clear bilaterally. Specifically,...</td>\n",
              "      <td>30</td>\n",
              "      <td>normal</td>\n",
              "    </tr>\n",
              "    <tr>\n",
              "      <th>1</th>\n",
              "      <td>1_IM-0001-3001.dcm.png</td>\n",
              "      <td>The cardiac silhouette and mediastinum size ar...</td>\n",
              "      <td>34</td>\n",
              "      <td>normal</td>\n",
              "    </tr>\n",
              "    <tr>\n",
              "      <th>16</th>\n",
              "      <td>20_IM-0653-1001.dcm.png</td>\n",
              "      <td>The cardiac and mediastinal silhouettes are un...</td>\n",
              "      <td>36</td>\n",
              "      <td>normal</td>\n",
              "    </tr>\n",
              "    <tr>\n",
              "      <th>0</th>\n",
              "      <td>1_IM-0001-4001.dcm.png</td>\n",
              "      <td>The cardiac silhouette and mediastinum size ar...</td>\n",
              "      <td>34</td>\n",
              "      <td>normal</td>\n",
              "    </tr>\n",
              "    <tr>\n",
              "      <th>15</th>\n",
              "      <td>17_IM-0460-1001.dcm.png</td>\n",
              "      <td>No focal areas of consolidation. No suspicious...</td>\n",
              "      <td>24</td>\n",
              "      <td>normal</td>\n",
              "    </tr>\n",
              "    <tr>\n",
              "      <th>5</th>\n",
              "      <td>6_IM-2192-2001.dcm.png</td>\n",
              "      <td>Heart size and mediastinal contour are within ...</td>\n",
              "      <td>32</td>\n",
              "      <td>normal</td>\n",
              "    </tr>\n",
              "    <tr>\n",
              "      <th>11</th>\n",
              "      <td>12_IM-0133-2001.dcm.png</td>\n",
              "      <td>Lungs are clear bilaterally. Cardiac and media...</td>\n",
              "      <td>23</td>\n",
              "      <td>normal</td>\n",
              "    </tr>\n",
              "    <tr>\n",
              "      <th>9</th>\n",
              "      <td>11_IM-0067-2001.dcm.png</td>\n",
              "      <td>Cardiomediastinal silhouette and pulmonary vas...</td>\n",
              "      <td>21</td>\n",
              "      <td>normal</td>\n",
              "    </tr>\n",
              "    <tr>\n",
              "      <th>8</th>\n",
              "      <td>11_IM-0067-1001.dcm.png</td>\n",
              "      <td>Cardiomediastinal silhouette and pulmonary vas...</td>\n",
              "      <td>21</td>\n",
              "      <td>normal</td>\n",
              "    </tr>\n",
              "    <tr>\n",
              "      <th>12</th>\n",
              "      <td>14_IM-0256-1001.dcm.png</td>\n",
              "      <td>Heart size within normal limits, stable medias...</td>\n",
              "      <td>37</td>\n",
              "      <td>Lung</td>\n",
              "    </tr>\n",
              "  </tbody>\n",
              "</table>\n",
              "</div>\n",
              "    <div class=\"colab-df-buttons\">\n",
              "\n",
              "  <div class=\"colab-df-container\">\n",
              "    <button class=\"colab-df-convert\" onclick=\"convertToInteractive('df-7d18cbbe-fd87-4ab6-83bd-06f567642e86')\"\n",
              "            title=\"Convert this dataframe to an interactive table.\"\n",
              "            style=\"display:none;\">\n",
              "\n",
              "  <svg xmlns=\"http://www.w3.org/2000/svg\" height=\"24px\" viewBox=\"0 -960 960 960\">\n",
              "    <path d=\"M120-120v-720h720v720H120Zm60-500h600v-160H180v160Zm220 220h160v-160H400v160Zm0 220h160v-160H400v160ZM180-400h160v-160H180v160Zm440 0h160v-160H620v160ZM180-180h160v-160H180v160Zm440 0h160v-160H620v160Z\"/>\n",
              "  </svg>\n",
              "    </button>\n",
              "\n",
              "  <style>\n",
              "    .colab-df-container {\n",
              "      display:flex;\n",
              "      gap: 12px;\n",
              "    }\n",
              "\n",
              "    .colab-df-convert {\n",
              "      background-color: #E8F0FE;\n",
              "      border: none;\n",
              "      border-radius: 50%;\n",
              "      cursor: pointer;\n",
              "      display: none;\n",
              "      fill: #1967D2;\n",
              "      height: 32px;\n",
              "      padding: 0 0 0 0;\n",
              "      width: 32px;\n",
              "    }\n",
              "\n",
              "    .colab-df-convert:hover {\n",
              "      background-color: #E2EBFA;\n",
              "      box-shadow: 0px 1px 2px rgba(60, 64, 67, 0.3), 0px 1px 3px 1px rgba(60, 64, 67, 0.15);\n",
              "      fill: #174EA6;\n",
              "    }\n",
              "\n",
              "    .colab-df-buttons div {\n",
              "      margin-bottom: 4px;\n",
              "    }\n",
              "\n",
              "    [theme=dark] .colab-df-convert {\n",
              "      background-color: #3B4455;\n",
              "      fill: #D2E3FC;\n",
              "    }\n",
              "\n",
              "    [theme=dark] .colab-df-convert:hover {\n",
              "      background-color: #434B5C;\n",
              "      box-shadow: 0px 1px 3px 1px rgba(0, 0, 0, 0.15);\n",
              "      filter: drop-shadow(0px 1px 2px rgba(0, 0, 0, 0.3));\n",
              "      fill: #FFFFFF;\n",
              "    }\n",
              "  </style>\n",
              "\n",
              "    <script>\n",
              "      const buttonEl =\n",
              "        document.querySelector('#df-7d18cbbe-fd87-4ab6-83bd-06f567642e86 button.colab-df-convert');\n",
              "      buttonEl.style.display =\n",
              "        google.colab.kernel.accessAllowed ? 'block' : 'none';\n",
              "\n",
              "      async function convertToInteractive(key) {\n",
              "        const element = document.querySelector('#df-7d18cbbe-fd87-4ab6-83bd-06f567642e86');\n",
              "        const dataTable =\n",
              "          await google.colab.kernel.invokeFunction('convertToInteractive',\n",
              "                                                    [key], {});\n",
              "        if (!dataTable) return;\n",
              "\n",
              "        const docLinkHtml = 'Like what you see? Visit the ' +\n",
              "          '<a target=\"_blank\" href=https://colab.research.google.com/notebooks/data_table.ipynb>data table notebook</a>'\n",
              "          + ' to learn more about interactive tables.';\n",
              "        element.innerHTML = '';\n",
              "        dataTable['output_type'] = 'display_data';\n",
              "        await google.colab.output.renderOutput(dataTable, element);\n",
              "        const docLink = document.createElement('div');\n",
              "        docLink.innerHTML = docLinkHtml;\n",
              "        element.appendChild(docLink);\n",
              "      }\n",
              "    </script>\n",
              "  </div>\n",
              "\n",
              "\n",
              "<div id=\"df-75269152-179f-4e77-b03a-67c159107831\">\n",
              "  <button class=\"colab-df-quickchart\" onclick=\"quickchart('df-75269152-179f-4e77-b03a-67c159107831')\"\n",
              "            title=\"Suggest charts\"\n",
              "            style=\"display:none;\">\n",
              "\n",
              "<svg xmlns=\"http://www.w3.org/2000/svg\" height=\"24px\"viewBox=\"0 0 24 24\"\n",
              "     width=\"24px\">\n",
              "    <g>\n",
              "        <path d=\"M19 3H5c-1.1 0-2 .9-2 2v14c0 1.1.9 2 2 2h14c1.1 0 2-.9 2-2V5c0-1.1-.9-2-2-2zM9 17H7v-7h2v7zm4 0h-2V7h2v10zm4 0h-2v-4h2v4z\"/>\n",
              "    </g>\n",
              "</svg>\n",
              "  </button>\n",
              "\n",
              "<style>\n",
              "  .colab-df-quickchart {\n",
              "      --bg-color: #E8F0FE;\n",
              "      --fill-color: #1967D2;\n",
              "      --hover-bg-color: #E2EBFA;\n",
              "      --hover-fill-color: #174EA6;\n",
              "      --disabled-fill-color: #AAA;\n",
              "      --disabled-bg-color: #DDD;\n",
              "  }\n",
              "\n",
              "  [theme=dark] .colab-df-quickchart {\n",
              "      --bg-color: #3B4455;\n",
              "      --fill-color: #D2E3FC;\n",
              "      --hover-bg-color: #434B5C;\n",
              "      --hover-fill-color: #FFFFFF;\n",
              "      --disabled-bg-color: #3B4455;\n",
              "      --disabled-fill-color: #666;\n",
              "  }\n",
              "\n",
              "  .colab-df-quickchart {\n",
              "    background-color: var(--bg-color);\n",
              "    border: none;\n",
              "    border-radius: 50%;\n",
              "    cursor: pointer;\n",
              "    display: none;\n",
              "    fill: var(--fill-color);\n",
              "    height: 32px;\n",
              "    padding: 0;\n",
              "    width: 32px;\n",
              "  }\n",
              "\n",
              "  .colab-df-quickchart:hover {\n",
              "    background-color: var(--hover-bg-color);\n",
              "    box-shadow: 0 1px 2px rgba(60, 64, 67, 0.3), 0 1px 3px 1px rgba(60, 64, 67, 0.15);\n",
              "    fill: var(--button-hover-fill-color);\n",
              "  }\n",
              "\n",
              "  .colab-df-quickchart-complete:disabled,\n",
              "  .colab-df-quickchart-complete:disabled:hover {\n",
              "    background-color: var(--disabled-bg-color);\n",
              "    fill: var(--disabled-fill-color);\n",
              "    box-shadow: none;\n",
              "  }\n",
              "\n",
              "  .colab-df-spinner {\n",
              "    border: 2px solid var(--fill-color);\n",
              "    border-color: transparent;\n",
              "    border-bottom-color: var(--fill-color);\n",
              "    animation:\n",
              "      spin 1s steps(1) infinite;\n",
              "  }\n",
              "\n",
              "  @keyframes spin {\n",
              "    0% {\n",
              "      border-color: transparent;\n",
              "      border-bottom-color: var(--fill-color);\n",
              "      border-left-color: var(--fill-color);\n",
              "    }\n",
              "    20% {\n",
              "      border-color: transparent;\n",
              "      border-left-color: var(--fill-color);\n",
              "      border-top-color: var(--fill-color);\n",
              "    }\n",
              "    30% {\n",
              "      border-color: transparent;\n",
              "      border-left-color: var(--fill-color);\n",
              "      border-top-color: var(--fill-color);\n",
              "      border-right-color: var(--fill-color);\n",
              "    }\n",
              "    40% {\n",
              "      border-color: transparent;\n",
              "      border-right-color: var(--fill-color);\n",
              "      border-top-color: var(--fill-color);\n",
              "    }\n",
              "    60% {\n",
              "      border-color: transparent;\n",
              "      border-right-color: var(--fill-color);\n",
              "    }\n",
              "    80% {\n",
              "      border-color: transparent;\n",
              "      border-right-color: var(--fill-color);\n",
              "      border-bottom-color: var(--fill-color);\n",
              "    }\n",
              "    90% {\n",
              "      border-color: transparent;\n",
              "      border-bottom-color: var(--fill-color);\n",
              "    }\n",
              "  }\n",
              "</style>\n",
              "\n",
              "  <script>\n",
              "    async function quickchart(key) {\n",
              "      const quickchartButtonEl =\n",
              "        document.querySelector('#' + key + ' button');\n",
              "      quickchartButtonEl.disabled = true;  // To prevent multiple clicks.\n",
              "      quickchartButtonEl.classList.add('colab-df-spinner');\n",
              "      try {\n",
              "        const charts = await google.colab.kernel.invokeFunction(\n",
              "            'suggestCharts', [key], {});\n",
              "      } catch (error) {\n",
              "        console.error('Error during call to suggestCharts:', error);\n",
              "      }\n",
              "      quickchartButtonEl.classList.remove('colab-df-spinner');\n",
              "      quickchartButtonEl.classList.add('colab-df-quickchart-complete');\n",
              "    }\n",
              "    (() => {\n",
              "      let quickchartButtonEl =\n",
              "        document.querySelector('#df-75269152-179f-4e77-b03a-67c159107831 button');\n",
              "      quickchartButtonEl.style.display =\n",
              "        google.colab.kernel.accessAllowed ? 'block' : 'none';\n",
              "    })();\n",
              "  </script>\n",
              "</div>\n",
              "    </div>\n",
              "  </div>\n"
            ],
            "application/vnd.google.colaboratory.intrinsic+json": {
              "type": "dataframe",
              "variable_name": "train_captions",
              "summary": "{\n  \"name\": \"train_captions\",\n  \"rows\": 28,\n  \"fields\": [\n    {\n      \"column\": \"image\",\n      \"properties\": {\n        \"dtype\": \"string\",\n        \"num_unique_values\": 28,\n        \"samples\": [\n          \"12_IM-0133-1001.dcm.png\",\n          \"11_IM-0067-2001.dcm.png\",\n          \"17_IM-0460-2001.dcm.png\"\n        ],\n        \"semantic_type\": \"\",\n        \"description\": \"\"\n      }\n    },\n    {\n      \"column\": \"caption\",\n      \"properties\": {\n        \"dtype\": \"string\",\n        \"num_unique_values\": 18,\n        \"samples\": [\n          \"Lungs are clear without focal consolidation, effusion, or pneumothorax. Normal heart size. Negative for pneumoperitoneum. Bony thorax and soft tissue grossly unremarkable\",\n          \"Lungs are overall hyperexpanded with flattening of the diaphragms. No focal consolidation. No pleural effusions or pneumothoraces. Heart and mediastinum of normal size and contour. Degenerative changes in the thoracic spine.\",\n          \"Cardiomediastinal silhouette is within normal limits of size and appearance. The pulmonary vascularity is unremarkable. Lungs are expanded and clear of airspace disease. Negative for pneumothorax or pleural effusion. Limited bone evaluation reveals no acute abnormality. There is incompletely evaluated lumbar levoscoliosis.\"\n        ],\n        \"semantic_type\": \"\",\n        \"description\": \"\"\n      }\n    },\n    {\n      \"column\": \"number_of_words\",\n      \"properties\": {\n        \"dtype\": \"number\",\n        \"std\": 7,\n        \"min\": 21,\n        \"max\": 48,\n        \"num_unique_values\": 15,\n        \"samples\": [\n          28,\n          37,\n          22\n        ],\n        \"semantic_type\": \"\",\n        \"description\": \"\"\n      }\n    },\n    {\n      \"column\": \"problem\",\n      \"properties\": {\n        \"dtype\": \"category\",\n        \"num_unique_values\": 2,\n        \"samples\": [\n          \"Lung\",\n          \"normal\"\n        ],\n        \"semantic_type\": \"\",\n        \"description\": \"\"\n      }\n    }\n  ]\n}"
            }
          },
          "metadata": {},
          "execution_count": 78
        }
      ],
      "source": [
        "train_captions"
      ]
    },
    {
      "cell_type": "code",
      "execution_count": 79,
      "metadata": {
        "colab": {
          "base_uri": "https://localhost:8080/",
          "height": 423
        },
        "execution": {
          "iopub.execute_input": "2024-01-28T06:35:52.549609Z",
          "iopub.status.busy": "2024-01-28T06:35:52.549208Z",
          "iopub.status.idle": "2024-01-28T06:35:52.780194Z",
          "shell.execute_reply": "2024-01-28T06:35:52.779321Z",
          "shell.execute_reply.started": "2024-01-28T06:35:52.549579Z"
        },
        "id": "-CIBbEVRBGvi",
        "outputId": "73f06697-83a2-4d75-dcd3-70f2856081ec"
      },
      "outputs": [
        {
          "output_type": "stream",
          "name": "stdout",
          "text": [
            "(224, 224, 3)\n"
          ]
        },
        {
          "output_type": "display_data",
          "data": {
            "text/plain": [
              "<Figure size 640x480 with 1 Axes>"
            ],
            "image/png": "[encoded data removed]"
          },
          "metadata": {}
        }
      ],
      "source": [
        "# test , not important\n",
        "def image_preprocessing(image_path,target_size):\n",
        "   # Load the image using PIL\n",
        "    img = cv2.imread(image_path)\n",
        "    # Resize the image using PIL's resize method\n",
        "    img = cv2.resize(img,(target_size,target_size), )\n",
        "    img = cv2.cvtColor(img, cv2.COLOR_BGR2RGB)\n",
        "    return img\n",
        "\n",
        "def display_image(image_array):\n",
        "    # Display the image using matplotlib\n",
        "    plt.imshow(image_array)\n",
        "    plt.axis('off')  # Turn off axis labels\n",
        "    plt.show()\n",
        "#image = image_preprocessing(\"E:/LangsImgDatasetForDiploma/images_normalized/1000_IM-0003-1001.dcm.png\",image_size)\n",
        "image = image_preprocessing(\"/kaggle/input/chest-xrays-indiana-university/images/images_normalized/1000_IM-0003-1001.dcm.png\",image_size)\n",
        "print(image.shape)\n",
        "display_image(image)"
      ]
    },
    {
      "cell_type": "code",
      "execution_count": 80,
      "metadata": {
        "colab": {
          "base_uri": "https://localhost:8080/"
        },
        "id": "5Kyv_SarCtLX",
        "outputId": "47cdd92a-9d32-4411-f4c7-d7b486428e74"
      },
      "outputs": [
        {
          "output_type": "stream",
          "name": "stdout",
          "text": [
            "Using device: cpu\n"
          ]
        }
      ],
      "source": [
        "device = torch.device(\"cuda\" if torch.cuda.is_available() else \"cpu\")\n",
        "print(f'Using device: {device}')\n",
        "\n",
        "\"\"\"\n",
        "For the Argumentative Component Classification (ACC) task, we need to remove the 'O' label from the dataset.\n",
        "\"\"\"\n",
        "MODEL_NUM_LABELS = 3\n",
        "REMOVE_OTHER = True\n",
        "OTHER_LABEL = 'O'\n",
        "\n",
        "if REMOVE_OTHER:\n",
        "    MODEL_NUM_LABELS = 2\n",
        "\n",
        "TEXT_MODEL_CARD = 'bert-base-uncased'\n",
        "AUDIO_MODEL_CARD = 'facebook/wav2vec2-base-960h'\n",
        "\n",
        "LABEL_2_ID = {\n",
        "    'normal': 0,\n",
        "    'Lung': 1\n",
        "}\n",
        "\n",
        "ID_2_LABEL = {\n",
        "    0: 'normal',\n",
        "    1: 'Lung'\n",
        "}\n",
        "\n",
        "\n",
        "EMBEDDING_DIM = 768\n",
        "BATCH_SIZE = 12"
      ]
    },
    {
      "cell_type": "code",
      "execution_count": 81,
      "metadata": {
        "execution": {
          "iopub.execute_input": "2024-01-28T06:36:52.666563Z",
          "iopub.status.busy": "2024-01-28T06:36:52.666188Z",
          "iopub.status.idle": "2024-01-28T06:36:52.67664Z",
          "shell.execute_reply": "2024-01-28T06:36:52.675681Z",
          "shell.execute_reply.started": "2024-01-28T06:36:52.666532Z"
        },
        "id": "NQPjCf79BGvj",
        "papermill": {
          "duration": 0.119935,
          "end_time": "2023-08-30T20:43:45.402113",
          "exception": false,
          "start_time": "2023-08-30T20:43:45.282178",
          "status": "completed"
        },
        "tags": []
      },
      "outputs": [],
      "source": [
        "import os\n",
        "# Get the number of available processors\n",
        "num_processors = os.cpu_count()\n",
        "\n",
        "# Example dataset class\n",
        "class ImageTextDataset(Dataset):\n",
        "    def __init__(self, image_filenames, captions, problems, image_size=256):\n",
        "        self.image_filenames = image_filenames\n",
        "        self.captions = captions\n",
        "        self.problems = problems\n",
        "        self.transform = transforms.Compose([\n",
        "                                                 # Resize images to a consistent size\n",
        "                                                #transforms.ToTensor(),\n",
        "                                                transforms.ToTensor(),          # Convert images to tensors\n",
        "                                                # transforms.Normalize((0.5, 0.5, 0.5), (0.5, 0.5, 0.5))  # Normalize images\n",
        "                                            ])\n",
        "\n",
        "\n",
        "    def __len__(self):\n",
        "        return len(self.image_filenames)\n",
        "\n",
        "    def __getitem__(self, index):\n",
        "        #image_path = \"E:/LangsImgDatasetForDiploma/images_normalized/\"+image_filenames[index]\n",
        "        image_path = \"/kaggle/input/chest-xrays-indiana-university/images/images_normalized/\"+image_filenames[index]\n",
        "\n",
        "        image = image_preprocessing(image_path,image_size ) #\n",
        "        image = list(np.array(self.transform(image)))#.permute(2,1,0)\n",
        "        text = self.captions[index]\n",
        "        problem = LABEL_2_ID[self.problems[index]]\n",
        "\n",
        "        return image, text, problem\n",
        "\n",
        "# Create an instance of the dataset\n",
        "\n",
        "train_dataset = ImageTextDataset(train_captions.image.values, train_captions.caption.values, train_captions.problem.values, image_size)\n",
        "test_dataset = ImageTextDataset(test_captions.image.values, test_captions.caption.values, test_captions.problem.values, image_size)\n",
        "val_dataset = ImageTextDataset(val_captions.image.values, val_captions.caption.values, val_captions.problem.values, image_size)"
      ]
    },
    {
      "cell_type": "code",
      "execution_count": 82,
      "metadata": {
        "id": "kGZnJchw_AbF",
        "outputId": "db66c0e7-a0d2-456a-fc11-30a9bb541504",
        "colab": {
          "base_uri": "https://localhost:8080/"
        }
      },
      "outputs": [
        {
          "output_type": "execute_result",
          "data": {
            "text/plain": [
              "(3, 224, 224)"
            ]
          },
          "metadata": {},
          "execution_count": 82
        }
      ],
      "source": [
        "np.shape(train_dataset[0][0])"
      ]
    },
    {
      "cell_type": "code",
      "execution_count": 83,
      "metadata": {
        "colab": {
          "base_uri": "https://localhost:8080/",
          "height": 141
        },
        "execution": {
          "iopub.execute_input": "2024-01-28T06:36:53.547354Z",
          "iopub.status.busy": "2024-01-28T06:36:53.547013Z",
          "iopub.status.idle": "2024-01-28T06:36:53.605329Z",
          "shell.execute_reply": "2024-01-28T06:36:53.604269Z",
          "shell.execute_reply.started": "2024-01-28T06:36:53.547327Z"
        },
        "id": "JgnlE-u-BGvj",
        "outputId": "34262536-89f7-47b9-fcd5-2e728f71c68f",
        "papermill": {
          "duration": 0.182376,
          "end_time": "2023-08-30T20:43:45.691164",
          "exception": false,
          "start_time": "2023-08-30T20:43:45.508788",
          "status": "completed"
        },
        "tags": []
      },
      "outputs": [
        {
          "output_type": "error",
          "ename": "AttributeError",
          "evalue": "'list' object has no attribute 'shape'",
          "traceback": [
            "\u001b[0;31m---------------------------------------------------------------------------\u001b[0m",
            "\u001b[0;31mAttributeError\u001b[0m                            Traceback (most recent call last)",
            "\u001b[0;32m<ipython-input-83-764780929f4c>\u001b[0m in \u001b[0;36m<cell line: 1>\u001b[0;34m()\u001b[0m\n\u001b[0;32m----> 1\u001b[0;31m \u001b[0mprint\u001b[0m\u001b[0;34m(\u001b[0m\u001b[0mtrain_dataset\u001b[0m\u001b[0;34m.\u001b[0m \u001b[0m__getitem__\u001b[0m\u001b[0;34m(\u001b[0m\u001b[0;36m0\u001b[0m\u001b[0;34m)\u001b[0m\u001b[0;34m[\u001b[0m\u001b[0;36m0\u001b[0m\u001b[0;34m]\u001b[0m\u001b[0;34m.\u001b[0m\u001b[0mshape\u001b[0m\u001b[0;34m)\u001b[0m\u001b[0;34m\u001b[0m\u001b[0;34m\u001b[0m\u001b[0m\n\u001b[0m",
            "\u001b[0;31mAttributeError\u001b[0m: 'list' object has no attribute 'shape'"
          ]
        }
      ],
      "source": [
        "print(train_dataset. __getitem__(0)[0].shape)"
      ]
    },
    {
      "cell_type": "code",
      "execution_count": 84,
      "metadata": {
        "id": "V6y_jyBsCMgF"
      },
      "outputs": [],
      "source": [
        "def create_dataloader(dataset, batch_size):\n",
        "    \"\"\"\n",
        "    Create a DataLoader object from the given dataset with the given batch size\n",
        "    Args:\n",
        "        dataset: dataset to use\n",
        "        batch_size: batch size to use\n",
        "    \"\"\"\n",
        "    def pack_fn(batch):\n",
        "        \"\"\"\n",
        "        Function to pad the audio features and create the attention mask\n",
        "        \"\"\"\n",
        "        #print('batch\\r\\n',batch)\n",
        "        texts = [x[1] for x in batch]\n",
        "        ''''for x in batch:\n",
        "            print(type(x[0]),x[0].shape)\n",
        "            print('x[0]\\r\\n',x[0])'''\n",
        "        audio_features = [x[0] for x in batch]\n",
        "        labels = torch.tensor([x[2] for x in batch])\n",
        "        return texts, audio_features, labels\n",
        "\n",
        "    dataloader = torch.utils.data.DataLoader(dataset, batch_size=batch_size, shuffle=True, collate_fn=pack_fn)\n",
        "    return dataloader"
      ]
    },
    {
      "cell_type": "code",
      "execution_count": 85,
      "metadata": {
        "id": "DlxbSNhLt31r"
      },
      "outputs": [],
      "source": [
        "# Этот вариант\n",
        "train_dataloader = create_dataloader(train_dataset, batch_size)\n",
        "val_dataloader = create_dataloader(val_dataset, batch_size)\n",
        "test_dataloader = create_dataloader(test_dataset, batch_size)"
      ]
    },
    {
      "cell_type": "code",
      "execution_count": null,
      "metadata": {
        "id": "fM6uH9GorKC4"
      },
      "outputs": [],
      "source": [
        "next(iter(train_dataloader))[1][0].shape"
      ]
    },
    {
      "cell_type": "code",
      "execution_count": null,
      "metadata": {
        "id": "s4KBDBPZt-F8"
      },
      "outputs": [],
      "source": [
        "next(iter(train_dataloader))"
      ]
    },
    {
      "cell_type": "markdown",
      "metadata": {
        "id": "CCBjI9GFBGvk",
        "papermill": {
          "duration": 0.106168,
          "end_time": "2023-08-30T20:43:45.905225",
          "exception": false,
          "start_time": "2023-08-30T20:43:45.799057",
          "status": "completed"
        },
        "tags": []
      },
      "source": [
        "# Display Few Image with Caption"
      ]
    },
    {
      "cell_type": "code",
      "execution_count": null,
      "metadata": {
        "collapsed": true,
        "execution": {
          "iopub.execute_input": "2024-01-28T06:36:57.123242Z",
          "iopub.status.busy": "2024-01-28T06:36:57.122831Z",
          "iopub.status.idle": "2024-01-28T06:36:58.037891Z",
          "shell.execute_reply": "2024-01-28T06:36:58.036368Z",
          "shell.execute_reply.started": "2024-01-28T06:36:57.12321Z"
        },
        "id": "xBuZqG95BGvk",
        "papermill": {
          "duration": 5.115808,
          "end_time": "2023-08-30T20:43:51.127194",
          "exception": false,
          "start_time": "2023-08-30T20:43:46.011386",
          "status": "completed"
        },
        "tags": []
      },
      "outputs": [],
      "source": [
        "# Fetch a batch from the dataloader\n",
        "batch_texts, batch_images,  batch_problems = next(iter(train_dataloader))\n",
        "\n",
        "for index in range(batch_images[0].shape[0]):\n",
        "    # Fetch the image and text for the chosen index\n",
        "    image_to_display = batch_images[index]\n",
        "    text_to_display = batch_texts[index]\n",
        "    problem_to_display = batch_problems[index]\n",
        "\n",
        "    # Display the problem\n",
        "    print(\"Problem:\", problem_to_display, \"\\n\\n\\n\")\n",
        "\n",
        "    # Convert the image tensor to a NumPy array\n",
        "    image_to_display_np = image_to_display.permute(1, 2, 0).numpy()\n",
        "\n",
        "    # Display the image using matplotlib\n",
        "    plt.imshow(image_to_display_np)\n",
        "    plt.axis('off')  # Turn off axis labels\n",
        "    plt.show()\n",
        "\n",
        "    # Display the corresponding text\n",
        "    print(\"Caption:\", text_to_display, \"\\n\\n\\n\")\n",
        "    if index>=5:\n",
        "        break"
      ]
    },
    {
      "cell_type": "markdown",
      "metadata": {
        "id": "XixhCkkrCrCd"
      },
      "source": [
        "# # Create a DataLoader"
      ]
    },
    {
      "cell_type": "code",
      "execution_count": 155,
      "metadata": {
        "id": "KsFjNdA7Cwkv"
      },
      "outputs": [],
      "source": [
        "class TextModel(nn.Module):\n",
        "    \"\"\"\n",
        "    Class for the text-only model\n",
        "    \"\"\"\n",
        "    def __init__(self, tokenizer, embedder, head):\n",
        "        \"\"\"\n",
        "        Args:\n",
        "            tokenizer: tokenizer to use\n",
        "            embedder: embedder to use\n",
        "            head: head to use\n",
        "        \"\"\"\n",
        "        super().__init__()\n",
        "        self.tokenizer = tokenizer\n",
        "        self.embedder = embedder\n",
        "        self.head = head\n",
        "    def forward(self, texts, audio_features):\n",
        "        \"\"\", audio_attention\n",
        "        Forward pass of the model\n",
        "        Args:\n",
        "            texts: texts to use\n",
        "            audio_features: audio features to use\n",
        "            audio_attentions: audio attentions to use\n",
        "        \"\"\"\n",
        "        tokenizer_output = self.tokenizer(texts, return_tensors='pt', padding=True, truncation=False).to(device)\n",
        "        embedder_output = self.embedder(**tokenizer_output, output_hidden_states=True)\n",
        "        text_features = embedder_output['last_hidden_state']\n",
        "        print('text_features',text_features.shape)\n",
        "        print('text_attentions',tokenizer_output.attention_mask.shape)\n",
        "        print('text_features', embedder_output['hidden_states'][8].shape)\n",
        "\n",
        "        # pooling transformer output\n",
        "        text_features_sum = (text_features * tokenizer_output.attention_mask.unsqueeze(-1)).sum(axis=1)\n",
        "        text_features_pooled = text_features_sum / tokenizer_output.attention_mask.sum(axis=1).unsqueeze(-1)\n",
        "\n",
        "        print('text_features_pooled',text_features_pooled.shape)\n",
        "        return self.head(text_features_pooled)"
      ]
    },
    {
      "cell_type": "code",
      "execution_count": 153,
      "metadata": {
        "id": "4vr5i7iM_AbJ"
      },
      "outputs": [],
      "source": [
        "head_hidden_dimension=224\n",
        "text_only_head = nn.Sequential(\n",
        "        nn.Linear(EMBEDDING_DIM, head_hidden_dimension),\n",
        "        nn.ReLU(),\n",
        "        nn.Linear(head_hidden_dimension, MODEL_NUM_LABELS)\n",
        "    ).to(device)\n",
        "text_only = TextModel(tokenizer, embedder, text_only_head)"
      ]
    },
    {
      "cell_type": "code",
      "execution_count": 154,
      "metadata": {
        "id": "mYo_i01v_AbK",
        "outputId": "5f61390e-1b63-437b-c454-2171eed5fe27",
        "colab": {
          "base_uri": "https://localhost:8080/"
        }
      },
      "outputs": [
        {
          "output_type": "stream",
          "name": "stdout",
          "text": [
            "text_features torch.Size([4, 88, 768])\n",
            "text_attentions torch.Size([4, 88]) tensor([[1, 1, 1, 1, 1, 1, 1, 1, 1, 1, 1, 1, 1, 1, 1, 1, 1, 1, 1, 1, 1, 1, 1, 1,\n",
            "         1, 1, 1, 1, 1, 1, 1, 1, 1, 1, 1, 1, 1, 1, 1, 1, 0, 0, 0, 0, 0, 0, 0, 0,\n",
            "         0, 0, 0, 0, 0, 0, 0, 0, 0, 0, 0, 0, 0, 0, 0, 0, 0, 0, 0, 0, 0, 0, 0, 0,\n",
            "         0, 0, 0, 0, 0, 0, 0, 0, 0, 0, 0, 0, 0, 0, 0, 0],\n",
            "        [1, 1, 1, 1, 1, 1, 1, 1, 1, 1, 1, 1, 1, 1, 1, 1, 1, 1, 1, 1, 1, 1, 1, 1,\n",
            "         1, 1, 1, 1, 1, 1, 1, 1, 1, 1, 1, 1, 1, 1, 1, 1, 1, 1, 1, 1, 1, 0, 0, 0,\n",
            "         0, 0, 0, 0, 0, 0, 0, 0, 0, 0, 0, 0, 0, 0, 0, 0, 0, 0, 0, 0, 0, 0, 0, 0,\n",
            "         0, 0, 0, 0, 0, 0, 0, 0, 0, 0, 0, 0, 0, 0, 0, 0],\n",
            "        [1, 1, 1, 1, 1, 1, 1, 1, 1, 1, 1, 1, 1, 1, 1, 1, 1, 1, 1, 1, 1, 1, 1, 1,\n",
            "         1, 1, 1, 1, 1, 1, 1, 1, 1, 1, 1, 1, 1, 1, 1, 1, 1, 1, 1, 1, 1, 1, 1, 1,\n",
            "         1, 1, 1, 1, 1, 1, 1, 1, 1, 1, 1, 1, 1, 1, 1, 1, 1, 1, 1, 1, 1, 1, 1, 1,\n",
            "         1, 1, 1, 1, 1, 1, 1, 1, 1, 1, 1, 1, 1, 1, 1, 1],\n",
            "        [1, 1, 1, 1, 1, 1, 1, 1, 1, 1, 1, 1, 1, 1, 1, 1, 1, 1, 1, 1, 1, 1, 1, 1,\n",
            "         1, 1, 1, 1, 1, 1, 1, 1, 1, 1, 1, 1, 1, 1, 1, 1, 1, 1, 1, 1, 1, 1, 1, 1,\n",
            "         1, 1, 1, 1, 1, 1, 1, 1, 1, 1, 1, 1, 1, 1, 1, 0, 0, 0, 0, 0, 0, 0, 0, 0,\n",
            "         0, 0, 0, 0, 0, 0, 0, 0, 0, 0, 0, 0, 0, 0, 0, 0]])\n",
            "text_features torch.Size([4, 88, 768])\n",
            "text_features_pooled torch.Size([4, 768])\n"
          ]
        },
        {
          "output_type": "execute_result",
          "data": {
            "text/plain": [
              "tensor([[0.0152, 0.0963],\n",
              "        [0.0145, 0.0545],\n",
              "        [0.0247, 0.0727],\n",
              "        [0.0883, 0.0244]], grad_fn=<AddmmBackward0>)"
            ]
          },
          "metadata": {},
          "execution_count": 154
        }
      ],
      "source": [
        "b = next(iter(train_dataloader))\n",
        "texts = b[0]\n",
        "pixel_values = b[1]\n",
        "text_only.forward(texts, pixel_values)"
      ]
    },
    {
      "cell_type": "code",
      "execution_count": 87,
      "metadata": {
        "id": "6qd0DHbR_AbK"
      },
      "outputs": [],
      "source": [
        "from transformers import ViTImageProcessor, ViTModel\n",
        "from transformers.modeling_outputs import SequenceClassifierOutput"
      ]
    },
    {
      "cell_type": "code",
      "execution_count": 91,
      "metadata": {
        "id": "cldAIkbL_AbK"
      },
      "outputs": [],
      "source": [
        "class ViTForImageClassification(nn.Module):\n",
        "    def __init__(self, head, num_labels=MODEL_NUM_LABELS):\n",
        "        super(ViTForImageClassification, self).__init__()\n",
        "        self.vit = ViTModel.from_pretrained('google/vit-base-patch16-224-in21k')\n",
        "        self.dropout = nn.Dropout(0.1)\n",
        "        self.classifier = nn.Linear(self.vit.config.hidden_size, num_labels)\n",
        "        self.num_labels = num_labels\n",
        "        self.head = head\n",
        "    def forward(self, texts, pixel_values):\n",
        "        #print('texts',texts)\n",
        "        #print('pixel_values',pixel_values)\n",
        "        #batch_size, num_channels, height, width\n",
        "        pixel_values_0 = torch.tensor(pixel_values)\n",
        "        print('pixel_values_0',pixel_values_0.shape)\n",
        "        outputs = self.vit(pixel_values=pixel_values_0)\n",
        "        print('type outputs', type(outputs))\n",
        "\n",
        "        outputs_att = self.get_output_attentions(pixel_values_0)\n",
        "        attentions = outputs_att.attentions\n",
        "        print('attentions',len(attentions))\n",
        "        attention_img(outputs_att, pixel_values_0)\n",
        "\n",
        "        print('last_hidden_states',outputs.pooler_output.shape)\n",
        "        last_hidden_states = outputs.pooler_output\n",
        "        print('last_hidden_states_0',last_hidden_states.shape)\n",
        "\n",
        "        output = self.dropout(last_hidden_states)\n",
        "        print('output',output.shape)\n",
        "        return self.head(output)\n",
        "    def get_output_attentions(self, pixel_values):\n",
        "        return self.vit(torch.tensor(pixel_values), output_attentions=True, interpolate_pos_encoding=True)"
      ]
    },
    {
      "cell_type": "markdown",
      "source": [
        "(3, 224, 224)"
      ],
      "metadata": {
        "id": "XS8hgHwXCzA6"
      }
    },
    {
      "cell_type": "code",
      "source": [
        "a = torch.FloatTensor(12, 196)\n",
        "a.reshape(12, 14, 14).shape"
      ],
      "metadata": {
        "colab": {
          "base_uri": "https://localhost:8080/"
        },
        "id": "j8__ykB73ucw",
        "outputId": "b7df937f-bb4a-443e-ed2b-93b3232d91f9"
      },
      "execution_count": 102,
      "outputs": [
        {
          "output_type": "execute_result",
          "data": {
            "text/plain": [
              "torch.Size([12, 14, 14])"
            ]
          },
          "metadata": {},
          "execution_count": 102
        }
      ]
    },
    {
      "cell_type": "code",
      "source": [
        "input.flatten(start_dim=2).shape"
      ],
      "metadata": {
        "colab": {
          "base_uri": "https://localhost:8080/"
        },
        "id": "EjU8Dacp9a8e",
        "outputId": "690ea658-8f3e-43a6-dc99-b00147b8d560"
      },
      "execution_count": 126,
      "outputs": [
        {
          "output_type": "execute_result",
          "data": {
            "text/plain": [
              "torch.Size([4, 12, 38809])"
            ]
          },
          "metadata": {},
          "execution_count": 126
        }
      ]
    },
    {
      "cell_type": "code",
      "source": [
        "input.reshape(4, 3, 196).shape"
      ],
      "metadata": {
        "colab": {
          "base_uri": "https://localhost:8080/"
        },
        "id": "TGb3stNW_dLx",
        "outputId": "2941764f-7586-4f43-93d2-955997d49790"
      },
      "execution_count": 132,
      "outputs": [
        {
          "output_type": "execute_result",
          "data": {
            "text/plain": [
              "torch.Size([4, 3, 196])"
            ]
          },
          "metadata": {},
          "execution_count": 132
        }
      ]
    },
    {
      "cell_type": "code",
      "source": [
        "# pool of square window of size=3, stride=2\n",
        "m = nn.MaxPool1d(3, stride=2)\n",
        "# pool of non-square window\n",
        "#m = nn.MaxPool2d((3, 2), stride=(2, 1))\n",
        "input = torch.randn(12, 196)\n",
        "output = m(input)\n",
        "print(input.shape,output.shape)"
      ],
      "metadata": {
        "colab": {
          "base_uri": "https://localhost:8080/"
        },
        "id": "Lq22h1lr5Fl-",
        "outputId": "79995244-3bba-4918-876c-9187ff564954"
      },
      "execution_count": 131,
      "outputs": [
        {
          "output_type": "stream",
          "name": "stdout",
          "text": [
            "torch.Size([12, 196]) torch.Size([12, 97])\n"
          ]
        }
      ]
    },
    {
      "cell_type": "code",
      "source": [
        "def attention_img(outputs, pixel_val):\n",
        "    attentions = outputs.attentions[-1] # we are only interested in the attention maps of the last layer\n",
        "    nh = attentions.shape[1] # number of head\n",
        "    print('attentions.shape attention_img',attentions.shape)\n",
        "    # we keep only the output patch attention\n",
        "    attentions = attentions[0, :, 0, 1:].reshape(nh, -1)\n",
        "    print('attentions.reshape attention_img',attentions.shape)\n",
        "    pixel_val = torch.tensor(pixel_val[0])\n",
        "\n",
        "    threshold = 0.6\n",
        "    w_featmap = pixel_val.shape[-2] // batch_size\n",
        "    h_featmap = pixel_val.shape[-1] // batch_size\n",
        "\n",
        "    w_featmap = 14\n",
        "    h_featmap = 14\n",
        "\n",
        "    # we keep only a certain percentage of the mass\n",
        "    val, idx = torch.sort(attentions)\n",
        "    val /= torch.sum(val, dim=1, keepdim=True)\n",
        "    cumval = torch.cumsum(val, dim=1)\n",
        "    th_attn = cumval > (1 - threshold)\n",
        "    idx2 = torch.argsort(idx)\n",
        "    for head in range(nh):\n",
        "        th_attn[head] = th_attn[head][idx2[head]]\n",
        "    th_attn = th_attn.reshape(nh, w_featmap, h_featmap).float()\n",
        "    # interpolate\n",
        "    th_attn = nn.functional.interpolate(th_attn.unsqueeze(0), scale_factor=batch_size, mode=\"nearest\")[0].cpu().numpy()\n",
        "\n",
        "    attentions = attentions.reshape(nh, w_featmap, h_featmap)\n",
        "    attentions = nn.functional.interpolate(attentions.unsqueeze(0), scale_factor=batch_size, mode=\"nearest\")[0].cpu()\n",
        "    attentions = attentions.detach().numpy()\n",
        "\n",
        "    # show and save attentions heatmaps\n",
        "    output_dir = '.'\n",
        "    os.makedirs(output_dir, exist_ok=True)\n",
        "    #torchvision.utils.save_image(torchvision.utils.make_grid(pixel_val, normalize=True, scale_each=True), os.path.join(output_dir, \"img.png\"))\n",
        "    for j in range(nh):\n",
        "        fname = os.path.join(output_dir, \"attn-head\" + str(j) + \".png\")\n",
        "        plt.figure()\n",
        "        plt.imshow(attentions[j])\n",
        "        plt.imsave(fname=fname, arr=attentions[j], format='png')\n",
        "        #print(f\"{fname} saved.\")"
      ],
      "metadata": {
        "id": "BLq4ZnwVwIRf"
      },
      "execution_count": 97,
      "outputs": []
    },
    {
      "cell_type": "code",
      "source": [
        "class ViTForImageClassification(nn.Module):\n",
        "    def __init__(self, head, num_labels=MODEL_NUM_LABELS):\n",
        "        super(ViTForImageClassification, self).__init__()\n",
        "        self.vit = ViTModel.from_pretrained('google/vit-base-patch16-224-in21k')\n",
        "        self.dropout = nn.Dropout(0.1)\n",
        "        self.classifier = nn.Linear(self.vit.config.hidden_size, num_labels)\n",
        "        self.num_labels = num_labels\n",
        "        self.head = head\n",
        "        self.ln = LayerNorm(EMBEDDING_DIM)\n",
        "    def forward(self, texts, pixel_values):\n",
        "        #print('texts',texts)\n",
        "        #print('pixel_values',pixel_values)\n",
        "        #batch_size, num_channels, height, width\n",
        "        pixel_values_0 = torch.tensor(pixel_values)\n",
        "        print(pixel_values_0.shape)\n",
        "        outputs = self.vit(pixel_values=pixel_values_0)\n",
        "        output = self.dropout(outputs.last_hidden_state[:,0])\n",
        "\n",
        "        outputs_att = self.get_output_attentions(pixel_values_0)\n",
        "        attention = outputs_att.attentions[-1]\n",
        "        nh = attention.shape[1] # number of head\n",
        "\n",
        "\n",
        "        # we keep only the output patch attention\n",
        "        attention = attention[0, :, 0, 1:].reshape(nh, -1)\n",
        "        attention = attention.reshape(nh, 14, 14)\n",
        "        attention = nn.functional.interpolate(attention.unsqueeze(0), scale_factor=batch_size, mode=\"nearest\")[0].cpu()\n",
        "        attention_img(outputs_att, pixel_values_0)\n",
        "        print(attention.shape)\n",
        "\n",
        "        print(output.shape)\n",
        "        #output = self.ln(pixel_values_0 + output)\n",
        "        output_sum = (output * attention).sum(axis=1)\n",
        "        output_pooled = output_sum / attention.sum(axis=1).unsqueeze(-1)\n",
        "\n",
        "        return self.head(output)\n",
        "    def get_output_attentions(self, pixel_values):\n",
        "        return self.vit(torch.tensor(pixel_values), output_attentions=True, interpolate_pos_encoding=True)"
      ],
      "metadata": {
        "id": "XjeS_I-Mvdoy"
      },
      "execution_count": 90,
      "outputs": []
    },
    {
      "cell_type": "code",
      "execution_count": null,
      "metadata": {
        "id": "ZBCjDvX4_AbL"
      },
      "outputs": [],
      "source": [
        "type(torch.tensor(pixel_values))"
      ]
    },
    {
      "cell_type": "code",
      "execution_count": null,
      "metadata": {
        "id": "4njgneHM_AbL"
      },
      "outputs": [],
      "source": [
        "head_hidden_dimension=224\n",
        "img_only_head = nn.Sequential(\n",
        "        nn.Linear(EMBEDDING_DIM, head_hidden_dimension),\n",
        "        nn.ReLU(),\n",
        "        nn.Linear(head_hidden_dimension, MODEL_NUM_LABELS)\n",
        "    ).to(device)\n",
        "model = ViTForImageClassification(img_only_head)"
      ]
    },
    {
      "cell_type": "code",
      "execution_count": null,
      "metadata": {
        "id": "P74asz2V_AbL"
      },
      "outputs": [],
      "source": [
        "b = next(iter(train_dataloader))\n",
        "texts = b[0]\n",
        "pixel_values = b[1]\n",
        "img_only.forward(texts, pixel_values)"
      ]
    },
    {
      "cell_type": "code",
      "execution_count": null,
      "metadata": {
        "id": "92sk0iq0_AbM"
      },
      "outputs": [],
      "source": [
        "img_only.forward(texts, pixel_values)\n",
        "outputs = model.get_output_attentions(pixel_values)"
      ]
    },
    {
      "cell_type": "code",
      "source": [
        "print('pooler_output\\n',outputs.pooler_output)\n",
        "attentions = outputs.attentions\n",
        "print('attentions\\n',attentions[0][0][0][0])\n",
        "print('len attention\\n',len(attentions), len(attentions[0]), len(attentions[0][0]), len(attentions[0][0][0]), len(attentions[0][0][0][0]), len(attentions[0][0][0][0]))\n",
        "print('(batch_size, num_heads, sequence_length, sequence_length)')"
      ],
      "metadata": {
        "id": "YGrzmoiBJ9Bb"
      },
      "execution_count": null,
      "outputs": []
    },
    {
      "cell_type": "code",
      "source": [
        "image_to_display = attentions[0][0][6]\n",
        "image_to_display_np = image_to_display.detach().numpy()\n",
        "\n",
        "# Display the image using matplotlib\n",
        "plt.imshow(image_to_display_np)\n",
        "plt.axis('off')  # Turn off axis labels\n",
        "plt.show()"
      ],
      "metadata": {
        "id": "SvAbNZOcNq6V"
      },
      "execution_count": null,
      "outputs": []
    },
    {
      "cell_type": "code",
      "source": [
        "img_only.forward(texts, pixel_values)\n",
        "outputs = model.get_output_attentions(pixel_values)\n",
        "attentions = outputs.attentions\n",
        "image_to_display = attentions[0][0][6]\n",
        "image_to_display_np = image_to_display.detach().numpy()\n",
        "# Display the image using matplotlib\n",
        "plt.imshow(image_to_display_np)\n",
        "plt.axis('off')  # Turn off axis labels\n",
        "plt.show()"
      ],
      "metadata": {
        "id": "joeaWIMvQqWE"
      },
      "execution_count": null,
      "outputs": []
    },
    {
      "cell_type": "code",
      "execution_count": null,
      "metadata": {
        "id": "BR4G9WJw_AbM"
      },
      "outputs": [],
      "source": [
        "attentions = outputs.attentions[-1] # we are only interested in the attention maps of the last layer\n",
        "nh = attentions.shape[1] # number of head\n",
        "\n",
        "# we keep only the output patch attention\n",
        "attentions = attentions[0, :, 0, 1:].reshape(nh, -1)\n",
        "print(attentions.shape)"
      ]
    },
    {
      "cell_type": "code",
      "source": [
        "a = torch.randn(4, 79)\n",
        "a = a[:, None, :]\n",
        "b = torch.randn(4, 3, 196)\n",
        "print(a.shape, b.shape)\n",
        "torch.cat((a, b), 1)"
      ],
      "metadata": {
        "colab": {
          "base_uri": "https://localhost:8080/",
          "height": 193
        },
        "id": "jx9wjC_hNsKO",
        "outputId": "248f973e-4a73-4e23-9526-85f0bf27338f"
      },
      "execution_count": 147,
      "outputs": [
        {
          "output_type": "stream",
          "name": "stdout",
          "text": [
            "torch.Size([4, 1, 79]) torch.Size([4, 3, 196])\n"
          ]
        },
        {
          "output_type": "error",
          "ename": "RuntimeError",
          "evalue": "Sizes of tensors must match except in dimension 1. Expected size 79 but got size 196 for tensor number 1 in the list.",
          "traceback": [
            "\u001b[0;31m---------------------------------------------------------------------------\u001b[0m",
            "\u001b[0;31mRuntimeError\u001b[0m                              Traceback (most recent call last)",
            "\u001b[0;32m<ipython-input-147-1614a9109817>\u001b[0m in \u001b[0;36m<cell line: 5>\u001b[0;34m()\u001b[0m\n\u001b[1;32m      3\u001b[0m \u001b[0mb\u001b[0m \u001b[0;34m=\u001b[0m \u001b[0mtorch\u001b[0m\u001b[0;34m.\u001b[0m\u001b[0mrandn\u001b[0m\u001b[0;34m(\u001b[0m\u001b[0;36m4\u001b[0m\u001b[0;34m,\u001b[0m \u001b[0;36m3\u001b[0m\u001b[0;34m,\u001b[0m \u001b[0;36m196\u001b[0m\u001b[0;34m)\u001b[0m\u001b[0;34m\u001b[0m\u001b[0;34m\u001b[0m\u001b[0m\n\u001b[1;32m      4\u001b[0m \u001b[0mprint\u001b[0m\u001b[0;34m(\u001b[0m\u001b[0ma\u001b[0m\u001b[0;34m.\u001b[0m\u001b[0mshape\u001b[0m\u001b[0;34m,\u001b[0m \u001b[0mb\u001b[0m\u001b[0;34m.\u001b[0m\u001b[0mshape\u001b[0m\u001b[0;34m)\u001b[0m\u001b[0;34m\u001b[0m\u001b[0;34m\u001b[0m\u001b[0m\n\u001b[0;32m----> 5\u001b[0;31m \u001b[0mtorch\u001b[0m\u001b[0;34m.\u001b[0m\u001b[0mcat\u001b[0m\u001b[0;34m(\u001b[0m\u001b[0;34m(\u001b[0m\u001b[0ma\u001b[0m\u001b[0;34m,\u001b[0m \u001b[0mb\u001b[0m\u001b[0;34m)\u001b[0m\u001b[0;34m,\u001b[0m \u001b[0;36m1\u001b[0m\u001b[0;34m)\u001b[0m\u001b[0;34m\u001b[0m\u001b[0;34m\u001b[0m\u001b[0m\n\u001b[0m",
            "\u001b[0;31mRuntimeError\u001b[0m: Sizes of tensors must match except in dimension 1. Expected size 79 but got size 196 for tensor number 1 in the list."
          ]
        }
      ]
    },
    {
      "cell_type": "code",
      "execution_count": 143,
      "metadata": {
        "id": "dOET41r1_Abc"
      },
      "outputs": [],
      "source": [
        "class CSA(nn.Module):\n",
        "    \"\"\"\n",
        "    Class for the multimodal transformer model\n",
        "    \"\"\"\n",
        "    def __init__(self, tokenizer, embedder, transformer, head, hidden_state_index=8):\n",
        "        \"\"\"\n",
        "        Args:\n",
        "            tokenizer: tokenizer to use\n",
        "            embedder: embedder to use\n",
        "            transformer: transformer to use\n",
        "            head: head to use\n",
        "        \"\"\"\n",
        "        super().__init__()\n",
        "        self.pos_encoder = PositionalEncoding(EMBEDDING_DIM, dual_modality=False)\n",
        "        self.tokenizer = tokenizer\n",
        "        self.embedder = embedder\n",
        "        self.transformer = ViTModel.from_pretrained('google/vit-base-patch16-224-in21k')\n",
        "        self.head = head\n",
        "        self.hidden_state_index = hidden_state_index\n",
        "\n",
        "    def forward(self, texts, pixel_values):\n",
        "        \"\"\"\n",
        "        Forward pass of the model\n",
        "        Args:\n",
        "            texts: texts to use\n",
        "            audio_features: audio features to use\n",
        "            audio_attentions: audio attentions to use\n",
        "        \"\"\"\n",
        "        tokenizer_output = self.tokenizer(texts, return_tensors='pt', padding=True, truncation=False).to(device)\n",
        "        embedder_output = self.embedder(**tokenizer_output, output_hidden_states=True)\n",
        "        if self.hidden_state_index == -1:\n",
        "            text_features = embedder_output['last_hidden_state']\n",
        "        else:\n",
        "            assert self.hidden_state_index < len(embedder_output['hidden_states']), f'hidden_state_index must be between 0 and {len(embedder_output[\"hidden_states\"])}'\n",
        "            text_features = embedder_output['hidden_states'][self.hidden_state_index]\n",
        "        text_attentions = tokenizer_output.attention_mask\n",
        "\n",
        "        pixel_values_0 = torch.tensor(pixel_values)\n",
        "\n",
        "        outputs_att = self.get_output_attentions(pixel_values_0)\n",
        "\n",
        "        audio_attentions = outputs_att.attentions\n",
        "\n",
        "        audio_attentions = outputs_att.attentions[-1] # we are only interested in the attention maps of the last layer\n",
        "        nh = audio_attentions.shape[1] # number of head\n",
        "        audio_attentions = audio_attentions[0, :, 0, 1:].reshape(nh, -1)\n",
        "\n",
        "        concatenated_attentions = torch.cat((text_attentions, audio_attentions.reshape(4, 3, 196)), dim=1)\n",
        "\n",
        "        audio_features = self.pos_encoder(audio_features)\n",
        "\n",
        "        concatenated_features = torch.cat((text_features, audio_features), dim=1)\n",
        "\n",
        "        transformer_output = self.transformer(concatenated_features, text_attentions, audio_attentions)\n",
        "\n",
        "        # pooling of transformer output\n",
        "        transformer_output_sum = (transformer_output * concatenated_attentions.unsqueeze(-1)).sum(axis=1) # 4 d d 768 d\n",
        "        transformer_output_pooled = transformer_output_sum / concatenated_attentions.sum(axis=1).unsqueeze(-1) # 4 d 768 d\n",
        "        return self.head(transformer_output_pooled) #4, 768\n",
        "    def get_output_attentions(self, pixel_values):\n",
        "        return self.vit(torch.tensor(pixel_values), output_attentions=True, interpolate_pos_encoding=True)"
      ]
    },
    {
      "cell_type": "code",
      "source": [
        "torch.tensor([[1, 2, 4], [8, 16, 32]]).sum(axis=1)"
      ],
      "metadata": {
        "colab": {
          "base_uri": "https://localhost:8080/"
        },
        "id": "YqcwfyUCfTfe",
        "outputId": "edd68454-fc38-40ee-f13c-e53889c1ab82"
      },
      "execution_count": 157,
      "outputs": [
        {
          "output_type": "execute_result",
          "data": {
            "text/plain": [
              "tensor([ 7, 56])"
            ]
          },
          "metadata": {},
          "execution_count": 157
        }
      ]
    },
    {
      "cell_type": "code",
      "source": [
        "torch.tensor([[1, 2, 4], [8, 16, 32]]).shape"
      ],
      "metadata": {
        "colab": {
          "base_uri": "https://localhost:8080/"
        },
        "id": "rIIVEmtMfvMr",
        "outputId": "825c3c02-cf6a-432a-f06a-add047ab299c"
      },
      "execution_count": 158,
      "outputs": [
        {
          "output_type": "execute_result",
          "data": {
            "text/plain": [
              "torch.Size([2, 3])"
            ]
          },
          "metadata": {},
          "execution_count": 158
        }
      ]
    },
    {
      "cell_type": "code",
      "source": [
        "SEEDS = [1, 42, 69, 100, 420]\n",
        "SEEDS = [1]\n",
        "\n",
        "dict_model_names = ['MMT','Image-Only','Text-Only']\n",
        "#dict_model_names = ['Text-Only']\n",
        "#dict_model_names = ['img_only']\n",
        "\n",
        "# initialize results\n",
        "val_results = {n : [] for n in dict_model_names}\n",
        "test_results = {n : [] for n in dict_model_names}\n",
        "\n",
        "# initialize history\n",
        "history_train_losses = {n : [] for n in dict_model_names}\n",
        "history_train_accuracy = {n : [] for n in dict_model_names}\n",
        "history_train_f1 = {n : [] for n in dict_model_names}\n",
        "history_val_losses = {n : [] for n in dict_model_names}\n",
        "history_val_accuracy = {n : [] for n in dict_model_names}\n",
        "history_val_f1 = {n : [] for n in dict_model_names}\n",
        "\n",
        "EPOCHS = 2\n",
        "INITIAL_LR = 1e-4\n",
        "WEIGHT_DECAY = 1e-3\n",
        "LR_DECAY_FACTOR = 1e-1\n",
        "LR_DECAY_PATIENCE = 3\n",
        "VERBOSE_TRAIN = True\n",
        "DEBUG_TRAIN = False\n",
        "\n",
        "for seed in SEEDS:\n",
        "    print(f'{f\"TRAINING WITH SEED {seed}\":=^100}')\n",
        "    print()\n",
        "    torch.manual_seed(seed)\n",
        "    np.random.seed(seed)\n",
        "\n",
        "    model_names, models = create_models()\n",
        "\n",
        "    # TO select a single model (for debug purposes):\n",
        "    # model_idx = 4\n",
        "    # models, model_names = [models[model_idx]], [model_names[model_idx]]\n",
        "\n",
        "    while models:\n",
        "        model = models[0]\n",
        "        model_name = model_names[0]\n",
        "\n",
        "        torch.manual_seed(seed)\n",
        "        np.random.seed(seed)\n",
        "\n",
        "        print(f'{f\"Training model {model_name}\":_^100}')\n",
        "\n",
        "        loss = nn.CrossEntropyLoss(weight=weight)\n",
        "\n",
        "        if model_name == 'ensembling':\n",
        "            # ensembling model uses a different loss function\n",
        "            loss = lambda outputs, targets: torch.nn.functional.nll_loss(torch.log(outputs), targets, weight=weight, reduction='mean')\n",
        "\n",
        "        _, history = train(\n",
        "            model,\n",
        "            loss,\n",
        "            train_dataloader,\n",
        "            val_dataloader,\n",
        "            epochs=EPOCHS,\n",
        "            device=device,\n",
        "            lr=INITIAL_LR,\n",
        "            lr_decay_factor=LR_DECAY_FACTOR,\n",
        "            lr_decay_patience=LR_DECAY_PATIENCE,\n",
        "            weight_decay=WEIGHT_DECAY,\n",
        "            verbose=VERBOSE_TRAIN,\n",
        "            debug = DEBUG_TRAIN\n",
        "        )\n",
        "\n",
        "        history_train_losses[model_name].append(history['train_loss'])\n",
        "        history_train_accuracy[model_name].append(history['train_accuracy'])\n",
        "        #history_train_f1[model_name].append(history['train_f1'])\n",
        "        history_val_losses[model_name].append(history['val_loss'])\n",
        "        history_val_accuracy[model_name].append(history['val_accuracy'])\n",
        "        #history_val_f1[model_name].append(history['val_f1'])\n",
        "\n",
        "        #_, val_acc, val_f1, val_pred, val_targ, val_logits = evaluate(model, val_dataloader, loss)\n",
        "        #val_results[model_name].append({'acc': val_acc, 'f1': val_f1, 'pred': val_pred, 'targ': val_targ, 'logits':val_logits})\n",
        "        _, val_acc, val_pred, val_targ, val_logits = evaluate(model, val_dataloader, loss)\n",
        "        val_results[model_name].append({'acc': val_acc, 'pred': val_pred, 'targ': val_targ, 'logits':val_logits})\n",
        "\n",
        "        #_, test_acc, test_f1, test_pred, test_targ, test_logits = evaluate(model, test_dataloader, loss)\n",
        "        #test_results[model_name].append({'acc': test_acc, 'f1': test_f1, 'pred': test_pred, 'targ': test_targ, 'logits':test_logits})\n",
        "        _, test_acc, test_pred, test_targ, test_logits = evaluate(model, test_dataloader, loss)\n",
        "        test_results[model_name].append({'acc': test_acc, 'pred': test_pred, 'targ': test_targ, 'logits':test_logits})\n",
        "\n",
        "        if VERBOSE_TRAIN:\n",
        "            #'print(f'[VAL] Model: {model_name} - acc: {val_acc:.4f} - f1: {val_f1:.4f}')\n",
        "            #print(f'[TEST] Model: {model_name} - acc: {test_acc:.4f} - f1: {test_f1:.4f}')\n",
        "\n",
        "            print(f'[VAL] Model: {model_name} - acc: {val_acc:.4f}')\n",
        "            print(f'[TEST] Model: {model_name} - acc: {test_acc:.4f}')\n",
        "            print()\n",
        "\n",
        "        # delete model to free up memory and avoid memory errors\n",
        "        del model\n",
        "        del models[0]\n",
        "        del model_names[0]\n",
        "        gc.collect()"
      ],
      "metadata": {
        "colab": {
          "base_uri": "https://localhost:8080/",
          "height": 480
        },
        "id": "zx-DpjWH_poZ",
        "outputId": "0c614e24-2475-431b-bf70-7a85e4fc765a"
      },
      "execution_count": 144,
      "outputs": [
        {
          "output_type": "stream",
          "name": "stdout",
          "text": [
            "========================================TRAINING WITH SEED 1========================================\n",
            "\n",
            "_________________________________________Training model MMT_________________________________________\n"
          ]
        },
        {
          "output_type": "stream",
          "name": "stderr",
          "text": [
            "\r  0%|          | 0/2 [00:00<?, ?it/s]<ipython-input-143-fd029266bd48>:62: UserWarning: To copy construct from a tensor, it is recommended to use sourceTensor.clone().detach() or sourceTensor.clone().detach().requires_grad_(True), rather than torch.tensor(sourceTensor).\n",
            "  return self.vit(torch.tensor(pixel_values), output_attentions=True, interpolate_pos_encoding=True)\n",
            "  0%|          | 0/2 [00:03<?, ?it/s]\n"
          ]
        },
        {
          "output_type": "error",
          "ename": "RuntimeError",
          "evalue": "Tensors must have same number of dimensions: got 2 and 3",
          "traceback": [
            "\u001b[0;31m---------------------------------------------------------------------------\u001b[0m",
            "\u001b[0;31mRuntimeError\u001b[0m                              Traceback (most recent call last)",
            "\u001b[0;32m<ipython-input-144-e58d82caecb0>\u001b[0m in \u001b[0;36m<cell line: 28>\u001b[0;34m()\u001b[0m\n\u001b[1;32m     53\u001b[0m             \u001b[0mloss\u001b[0m \u001b[0;34m=\u001b[0m \u001b[0;32mlambda\u001b[0m \u001b[0moutputs\u001b[0m\u001b[0;34m,\u001b[0m \u001b[0mtargets\u001b[0m\u001b[0;34m:\u001b[0m \u001b[0mtorch\u001b[0m\u001b[0;34m.\u001b[0m\u001b[0mnn\u001b[0m\u001b[0;34m.\u001b[0m\u001b[0mfunctional\u001b[0m\u001b[0;34m.\u001b[0m\u001b[0mnll_loss\u001b[0m\u001b[0;34m(\u001b[0m\u001b[0mtorch\u001b[0m\u001b[0;34m.\u001b[0m\u001b[0mlog\u001b[0m\u001b[0;34m(\u001b[0m\u001b[0moutputs\u001b[0m\u001b[0;34m)\u001b[0m\u001b[0;34m,\u001b[0m \u001b[0mtargets\u001b[0m\u001b[0;34m,\u001b[0m \u001b[0mweight\u001b[0m\u001b[0;34m=\u001b[0m\u001b[0mweight\u001b[0m\u001b[0;34m,\u001b[0m \u001b[0mreduction\u001b[0m\u001b[0;34m=\u001b[0m\u001b[0;34m'mean'\u001b[0m\u001b[0;34m)\u001b[0m\u001b[0;34m\u001b[0m\u001b[0;34m\u001b[0m\u001b[0m\n\u001b[1;32m     54\u001b[0m \u001b[0;34m\u001b[0m\u001b[0m\n\u001b[0;32m---> 55\u001b[0;31m         _, history = train(\n\u001b[0m\u001b[1;32m     56\u001b[0m             \u001b[0mmodel\u001b[0m\u001b[0;34m,\u001b[0m\u001b[0;34m\u001b[0m\u001b[0;34m\u001b[0m\u001b[0m\n\u001b[1;32m     57\u001b[0m             \u001b[0mloss\u001b[0m\u001b[0;34m,\u001b[0m\u001b[0;34m\u001b[0m\u001b[0;34m\u001b[0m\u001b[0m\n",
            "\u001b[0;32m<ipython-input-39-550679838371>\u001b[0m in \u001b[0;36mtrain\u001b[0;34m(model, loss_fn, train_loader, val_loader, epochs, device, lr, lr_decay_factor, lr_decay_patience, weight_decay, verbose, debug)\u001b[0m\n\u001b[1;32m    109\u001b[0m             \u001b[0;31m#targets = targets.to(device)\u001b[0m\u001b[0;34m\u001b[0m\u001b[0;34m\u001b[0m\u001b[0m\n\u001b[1;32m    110\u001b[0m             \u001b[0;31m#output = model(texts,img_features,img_attention)\u001b[0m\u001b[0;34m\u001b[0m\u001b[0;34m\u001b[0m\u001b[0m\n\u001b[0;32m--> 111\u001b[0;31m             \u001b[0moutput\u001b[0m \u001b[0;34m=\u001b[0m \u001b[0mmodel\u001b[0m\u001b[0;34m(\u001b[0m\u001b[0mtexts\u001b[0m\u001b[0;34m,\u001b[0m\u001b[0mimg_features\u001b[0m\u001b[0;34m)\u001b[0m\u001b[0;34m\u001b[0m\u001b[0;34m\u001b[0m\u001b[0m\n\u001b[0m\u001b[1;32m    112\u001b[0m             \u001b[0mloss\u001b[0m \u001b[0;34m=\u001b[0m \u001b[0mloss_fn\u001b[0m\u001b[0;34m(\u001b[0m\u001b[0moutput\u001b[0m\u001b[0;34m,\u001b[0m \u001b[0mtargets\u001b[0m\u001b[0;34m)\u001b[0m\u001b[0;34m\u001b[0m\u001b[0;34m\u001b[0m\u001b[0m\n\u001b[1;32m    113\u001b[0m             \u001b[0mloss\u001b[0m\u001b[0;34m.\u001b[0m\u001b[0mbackward\u001b[0m\u001b[0;34m(\u001b[0m\u001b[0;34m)\u001b[0m\u001b[0;34m\u001b[0m\u001b[0;34m\u001b[0m\u001b[0m\n",
            "\u001b[0;32m/usr/local/lib/python3.10/dist-packages/torch/nn/modules/module.py\u001b[0m in \u001b[0;36m_wrapped_call_impl\u001b[0;34m(self, *args, **kwargs)\u001b[0m\n\u001b[1;32m   1509\u001b[0m             \u001b[0;32mreturn\u001b[0m \u001b[0mself\u001b[0m\u001b[0;34m.\u001b[0m\u001b[0m_compiled_call_impl\u001b[0m\u001b[0;34m(\u001b[0m\u001b[0;34m*\u001b[0m\u001b[0margs\u001b[0m\u001b[0;34m,\u001b[0m \u001b[0;34m**\u001b[0m\u001b[0mkwargs\u001b[0m\u001b[0;34m)\u001b[0m  \u001b[0;31m# type: ignore[misc]\u001b[0m\u001b[0;34m\u001b[0m\u001b[0;34m\u001b[0m\u001b[0m\n\u001b[1;32m   1510\u001b[0m         \u001b[0;32melse\u001b[0m\u001b[0;34m:\u001b[0m\u001b[0;34m\u001b[0m\u001b[0;34m\u001b[0m\u001b[0m\n\u001b[0;32m-> 1511\u001b[0;31m             \u001b[0;32mreturn\u001b[0m \u001b[0mself\u001b[0m\u001b[0;34m.\u001b[0m\u001b[0m_call_impl\u001b[0m\u001b[0;34m(\u001b[0m\u001b[0;34m*\u001b[0m\u001b[0margs\u001b[0m\u001b[0;34m,\u001b[0m \u001b[0;34m**\u001b[0m\u001b[0mkwargs\u001b[0m\u001b[0;34m)\u001b[0m\u001b[0;34m\u001b[0m\u001b[0;34m\u001b[0m\u001b[0m\n\u001b[0m\u001b[1;32m   1512\u001b[0m \u001b[0;34m\u001b[0m\u001b[0m\n\u001b[1;32m   1513\u001b[0m     \u001b[0;32mdef\u001b[0m \u001b[0m_call_impl\u001b[0m\u001b[0;34m(\u001b[0m\u001b[0mself\u001b[0m\u001b[0;34m,\u001b[0m \u001b[0;34m*\u001b[0m\u001b[0margs\u001b[0m\u001b[0;34m,\u001b[0m \u001b[0;34m**\u001b[0m\u001b[0mkwargs\u001b[0m\u001b[0;34m)\u001b[0m\u001b[0;34m:\u001b[0m\u001b[0;34m\u001b[0m\u001b[0;34m\u001b[0m\u001b[0m\n",
            "\u001b[0;32m/usr/local/lib/python3.10/dist-packages/torch/nn/modules/module.py\u001b[0m in \u001b[0;36m_call_impl\u001b[0;34m(self, *args, **kwargs)\u001b[0m\n\u001b[1;32m   1518\u001b[0m                 \u001b[0;32mor\u001b[0m \u001b[0m_global_backward_pre_hooks\u001b[0m \u001b[0;32mor\u001b[0m \u001b[0m_global_backward_hooks\u001b[0m\u001b[0;34m\u001b[0m\u001b[0;34m\u001b[0m\u001b[0m\n\u001b[1;32m   1519\u001b[0m                 or _global_forward_hooks or _global_forward_pre_hooks):\n\u001b[0;32m-> 1520\u001b[0;31m             \u001b[0;32mreturn\u001b[0m \u001b[0mforward_call\u001b[0m\u001b[0;34m(\u001b[0m\u001b[0;34m*\u001b[0m\u001b[0margs\u001b[0m\u001b[0;34m,\u001b[0m \u001b[0;34m**\u001b[0m\u001b[0mkwargs\u001b[0m\u001b[0;34m)\u001b[0m\u001b[0;34m\u001b[0m\u001b[0;34m\u001b[0m\u001b[0m\n\u001b[0m\u001b[1;32m   1521\u001b[0m \u001b[0;34m\u001b[0m\u001b[0m\n\u001b[1;32m   1522\u001b[0m         \u001b[0;32mtry\u001b[0m\u001b[0;34m:\u001b[0m\u001b[0;34m\u001b[0m\u001b[0;34m\u001b[0m\u001b[0m\n",
            "\u001b[0;32m<ipython-input-143-fd029266bd48>\u001b[0m in \u001b[0;36mforward\u001b[0;34m(self, texts, pixel_values)\u001b[0m\n\u001b[1;32m     47\u001b[0m         \u001b[0maudio_attentions\u001b[0m \u001b[0;34m=\u001b[0m \u001b[0maudio_attentions\u001b[0m\u001b[0;34m[\u001b[0m\u001b[0;36m0\u001b[0m\u001b[0;34m,\u001b[0m \u001b[0;34m:\u001b[0m\u001b[0;34m,\u001b[0m \u001b[0;36m0\u001b[0m\u001b[0;34m,\u001b[0m \u001b[0;36m1\u001b[0m\u001b[0;34m:\u001b[0m\u001b[0;34m]\u001b[0m\u001b[0;34m.\u001b[0m\u001b[0mreshape\u001b[0m\u001b[0;34m(\u001b[0m\u001b[0mnh\u001b[0m\u001b[0;34m,\u001b[0m \u001b[0;34m-\u001b[0m\u001b[0;36m1\u001b[0m\u001b[0;34m)\u001b[0m\u001b[0;34m\u001b[0m\u001b[0;34m\u001b[0m\u001b[0m\n\u001b[1;32m     48\u001b[0m \u001b[0;34m\u001b[0m\u001b[0m\n\u001b[0;32m---> 49\u001b[0;31m         \u001b[0mconcatenated_attentions\u001b[0m \u001b[0;34m=\u001b[0m \u001b[0mtorch\u001b[0m\u001b[0;34m.\u001b[0m\u001b[0mcat\u001b[0m\u001b[0;34m(\u001b[0m\u001b[0;34m(\u001b[0m\u001b[0mtext_attentions\u001b[0m\u001b[0;34m,\u001b[0m \u001b[0maudio_attentions\u001b[0m\u001b[0;34m.\u001b[0m\u001b[0mreshape\u001b[0m\u001b[0;34m(\u001b[0m\u001b[0;36m4\u001b[0m\u001b[0;34m,\u001b[0m \u001b[0;36m3\u001b[0m\u001b[0;34m,\u001b[0m \u001b[0;36m196\u001b[0m\u001b[0;34m)\u001b[0m\u001b[0;34m)\u001b[0m\u001b[0;34m,\u001b[0m \u001b[0mdim\u001b[0m\u001b[0;34m=\u001b[0m\u001b[0;36m1\u001b[0m\u001b[0;34m)\u001b[0m\u001b[0;34m\u001b[0m\u001b[0;34m\u001b[0m\u001b[0m\n\u001b[0m\u001b[1;32m     50\u001b[0m \u001b[0;34m\u001b[0m\u001b[0m\n\u001b[1;32m     51\u001b[0m         \u001b[0maudio_features\u001b[0m \u001b[0;34m=\u001b[0m \u001b[0mself\u001b[0m\u001b[0;34m.\u001b[0m\u001b[0mpos_encoder\u001b[0m\u001b[0;34m(\u001b[0m\u001b[0maudio_features\u001b[0m\u001b[0;34m)\u001b[0m\u001b[0;34m\u001b[0m\u001b[0;34m\u001b[0m\u001b[0m\n",
            "\u001b[0;31mRuntimeError\u001b[0m: Tensors must have same number of dimensions: got 2 and 3"
          ]
        }
      ]
    },
    {
      "cell_type": "code",
      "execution_count": 137,
      "metadata": {
        "id": "Fef2cnDiCyiB"
      },
      "outputs": [],
      "source": [
        "def create_models(\n",
        "        head_hidden_dimension=224, dropout_prob=0.1, hidden_state_index=8,   # shared parameters head_hidden_dimension=256\n",
        "        audioonly_nheads=8, audioonly_d_ffn=100, audioonly_n_layers=1, # audio only parameters\n",
        "        csa_nheads=4, csa_d_ffn=2048, csa_n_layers=1, # multimodal parameters\n",
        "        ensembling_nheads=4, ensembling_d_ffn=2048, ensembling_n_layers=1, # ensembling parameters\n",
        "        multa_nblocks=4, multa_d_ffn=2048 # unaligned parameters\n",
        "    ):\n",
        "    \"\"\"\n",
        "    Helper function to create and return all the models\n",
        "    \"\"\"\n",
        "    ###################################################################################### -- TEXT MODEL --\n",
        "    text_only_head = nn.Sequential(\n",
        "        nn.Linear(EMBEDDING_DIM, head_hidden_dimension),\n",
        "        nn.ReLU(),\n",
        "        nn.Linear(head_hidden_dimension, MODEL_NUM_LABELS)\n",
        "    ).to(device)\n",
        "    text_only = TextModel(tokenizer, embedder, text_only_head)\n",
        "\n",
        "    ###################################################################################### -- IMAGE MODEL --\n",
        "    img_only_head = nn.Sequential(\n",
        "        nn.Linear(EMBEDDING_DIM, head_hidden_dimension),\n",
        "        nn.ReLU(),\n",
        "        nn.Linear(head_hidden_dimension, MODEL_NUM_LABELS)\n",
        "    ).to(device)\n",
        "    img_only = ViTForImageClassification(img_only_head)\n",
        "    #image_only = models.get('vit_base', num_classes = 2, pretrained_weights='imagenet')\n",
        "    \"\"\"image_size_only_head = nn.Sequential(\n",
        "        nn.Linear(EMBEDDING_DIM, head_hidden_dimension),\n",
        "        nn.ReLU(),\n",
        "        nn.Linear(head_hidden_dimension, MODEL_NUM_LABELS)\n",
        "    ).to(device)\n",
        "    image_only = TextModel(tokenizer, embedder, image_only_head)\"\"\"\n",
        "\n",
        "    ###################################################################################### -- MULTIMODAL MODEL --\n",
        "    multimodal_encoder = CustomEncoder(d_model=EMBEDDING_DIM, ffn_hidden=csa_d_ffn, n_head=csa_nheads, n_layers=csa_n_layers, drop_prob=dropout_prob)\n",
        "    multimodal_transformer_head = nn.Sequential(\n",
        "        nn.Linear(EMBEDDING_DIM, head_hidden_dimension),\n",
        "        nn.ReLU(),\n",
        "        nn.Linear(head_hidden_dimension, MODEL_NUM_LABELS)\n",
        "    ).to(device)\n",
        "    multimodal_transformer = CSA(tokenizer, embedder, multimodal_encoder, multimodal_transformer_head, hidden_state_index=hidden_state_index).to(device)\n",
        "\n",
        "\n",
        "    ###################################################################################### -- ENSEMBLING MODEL --\n",
        "    \"\"\"ensembling_text_head = nn.Sequential(\n",
        "        nn.Linear(EMBEDDING_DIM, head_hidden_dimension),\n",
        "        nn.ReLU(),\n",
        "        nn.Linear(head_hidden_dimension, MODEL_NUM_LABELS)\n",
        "    ).to(device)\n",
        "    ensembling_audio_head = nn.Sequential(\n",
        "        nn.Linear(EMBEDDING_DIM, head_hidden_dimension),\n",
        "        nn.ReLU(),\n",
        "        nn.Linear(head_hidden_dimension, MODEL_NUM_LABELS)\n",
        "    ).to(device)\n",
        "    ensembling_transformer_layer = nn.TransformerEncoderLayer(d_model=EMBEDDING_DIM, nhead=ensembling_nheads, dim_feedforward=ensembling_d_ffn, batch_first=True).to(device)\n",
        "    ensembling_transformer_encoder = nn.TransformerEncoder(ensembling_transformer_layer, num_layers=ensembling_n_layers).to(device)\n",
        "    ensembling_text_model = TextModel(tokenizer, embedder, ensembling_text_head)\n",
        "    ensembling_audio_model = AudioModel(ensembling_transformer_encoder, ensembling_audio_head)\n",
        "    ensembling_fusion = Ensembling(ensembling_text_model, ensembling_audio_model).to(device)\"\"\"\n",
        "\n",
        "\n",
        "    ###################################################################################### -- UNALIGNED MODEL --\n",
        "    \"\"\"unaligned_head = nn.Sequential(\n",
        "        nn.Linear(EMBEDDING_DIM*2, head_hidden_dimension),\n",
        "        nn.ReLU(),\n",
        "        nn.Linear(head_hidden_dimension, MODEL_NUM_LABELS)\n",
        "    ).to(device)\n",
        "    unaligned_mm_model = MulTA(embedding_dim=EMBEDDING_DIM, d_ffn=multa_d_ffn, n_blocks=multa_nblocks, head=unaligned_head, hidden_state_index=hidden_state_index, dropout_prob=dropout_prob).to(device)\n",
        "    \"\"\"\n",
        "\n",
        "    ###################################################################################### -- RETURN --\n",
        "    model_names = ['MMT','Image-Only', 'Text-Only']\n",
        "    models = [multimodal_transformer, img_only, text_only]\n",
        "    \"\"\"model_names = ['Text-Only']\n",
        "    models = [text_only]\"\"\"\n",
        "    \"\"\"model_names = ['img_only']\n",
        "    models = [img_only]\"\"\"\n",
        "    return model_names, models"
      ]
    },
    {
      "cell_type": "code",
      "execution_count": null,
      "metadata": {
        "id": "qvHuloEGC2Tp",
        "scrolled": true
      },
      "outputs": [],
      "source": [
        "# set up tokenizer and model\n",
        "tokenizer = BertTokenizer.from_pretrained(TEXT_MODEL_CARD)\n",
        "embedder = BertModel.from_pretrained(TEXT_MODEL_CARD).to(device)\n",
        "\n",
        "# freeze bert layers\n",
        "for params in embedder.parameters():\n",
        "    params.requires_grad = False\n",
        "\n",
        "# Downsample audio features to 1/5 of the original size to fit in memory\n",
        "DOWNSAMPLE_FACTOR = 1/5\n",
        "\n",
        "'''class MM_Dataset(torch.utils.data.Dataset):\n",
        "    \"\"\"\n",
        "    Dataset class for multimodal dataset\n",
        "    \"\"\"\n",
        "    def __init__(self, df, audio_dir, sample_rate):\n",
        "        \"\"\"\n",
        "        Args:\n",
        "            df: dataframe containing the dataset\n",
        "            audio_dir: directory containing the audio clips\n",
        "            sample_rate: sample rate to use for audio clips\n",
        "        \"\"\"\n",
        "        self.audio_dir = audio_dir\n",
        "        self.sample_rate = sample_rate\n",
        "\n",
        "        self.audio_processor = AutoProcessor.from_pretrained(AUDIO_MODEL_CARD)\n",
        "        self.audio_model = AutoModel.from_pretrained(AUDIO_MODEL_CARD).to(device)\n",
        "\n",
        "        self.dataset = []\n",
        "\n",
        "        # Iterate over df\n",
        "        for _, row in tqdm(df.iterrows()):\n",
        "            path = os.path.join(self.audio_dir, f\"{row['Document']}/{row['idClip']}.wav\")\n",
        "            if os.path.exists(path):\n",
        "                # obtain audio WAV2VEC features\n",
        "                audio, sampling_rate = torchaudio.load(path)\n",
        "                # resample audio if necessary\n",
        "                if sampling_rate != self.sample_rate:\n",
        "                    audio = torchaudio.functional.resample(audio, sample_rate, self.sample_rate)\n",
        "                    # mean pooling over channels\n",
        "                    audio = torch.mean(audio, dim=0, keepdim=True)\n",
        "                with torch.inference_mode():\n",
        "                    # run audio through model\n",
        "                    input_values = self.audio_processor(audio, sampling_rate=self.sample_rate).input_values[0]\n",
        "                    input_values = torch.tensor(input_values).to(device)\n",
        "                    audio_model_output = self.audio_model(input_values)\n",
        "                    audio_features = audio_model_output.last_hidden_state[0].unsqueeze(0)\n",
        "                    # downsample audio features\n",
        "                    audio_features = torch.nn.functional.interpolate(audio_features.permute(0,2,1), scale_factor=DOWNSAMPLE_FACTOR, mode='linear')\n",
        "                    audio_features = audio_features.permute(0,2,1)[0]\n",
        "                    audio_features = audio_features.cpu()\n",
        "\n",
        "                text = row['Text']\n",
        "\n",
        "                self.dataset.append((text, audio_features, LABEL_2_ID[row['Component']]))\n",
        "    def __len__(self):\n",
        "        return len(self.dataset)\n",
        "\n",
        "    def __getitem__(self, index):\n",
        "        return self.dataset[index]'''"
      ]
    },
    {
      "cell_type": "code",
      "execution_count": null,
      "metadata": {
        "collapsed": true,
        "id": "cDpDZIb__Abe"
      },
      "outputs": [],
      "source": [
        "image_only = models.get('vit_base', num_classes = 2, pretrained_weights='imagenet')"
      ]
    },
    {
      "cell_type": "code",
      "execution_count": null,
      "metadata": {
        "id": "9vW6Vs80C4e5"
      },
      "outputs": [],
      "source": [
        "num_claim = len(df1.loc[df1['Problems'].isin(['normal'])])\n",
        "print(f'Total Normal: {num_claim}: {num_claim*100/len(df1):.2f}%')\n",
        "\n",
        "num_premise = len(df1.loc[df1['Problems'].isin(['Lung'])])\n",
        "print(f'Total Lung: {num_premise}: {num_premise*100/len(df1):.2f}%')"
      ]
    },
    {
      "cell_type": "code",
      "execution_count": null,
      "metadata": {
        "id": "uCoK7KUnC6rR"
      },
      "outputs": [],
      "source": [
        "if MODEL_NUM_LABELS == 2:\n",
        "    claim_ratio = num_claim / (num_claim + num_premise)\n",
        "    premise_ratio = num_premise / (num_claim + num_premise)\n",
        "    weight = torch.tensor([1/(2*claim_ratio), 1/(2*premise_ratio)]).to(device)\n",
        "else:\n",
        "    claim_ratio = num_claim / (num_claim + num_premise + num_other)\n",
        "    premise_ratio = num_premise / (num_claim + num_premise + num_other)\n",
        "    other_ratio = num_other / (num_claim + num_premise + num_other)\n",
        "    weight = torch.tensor([1/(3*claim_ratio), 1/(3*premise_ratio), 1/(3*other_ratio)]).to(device)\n",
        "\n",
        "print(f'Weight for loss function: {weight}')"
      ]
    },
    {
      "cell_type": "code",
      "execution_count": null,
      "metadata": {
        "id": "crupvMAQC8Pz"
      },
      "outputs": [],
      "source": [
        "class BestModel:\n",
        "    \"\"\"\n",
        "    Class to keep track of the best performing model on validation set during training\n",
        "    \"\"\"\n",
        "    def __init__(self):\n",
        "        self.best_validation_loss = float('Infinity')\n",
        "        self.best_state_dict = None\n",
        "    def __call__(self, model, loss):\n",
        "        if loss < self.best_validation_loss:\n",
        "            self.best_validation_loss = loss\n",
        "            self.best_state_dict = copy.deepcopy(model.state_dict())\n",
        "\n",
        "def evaluate(model, data_loader, loss_fn, debug=False):\n",
        "    \"\"\"\n",
        "    Evaluate the model on the set passed\n",
        "    Args:\n",
        "        model: model to evaluate\n",
        "        data_loader: DataLoader object\n",
        "        loss_fn: loss function to use\n",
        "        debug: whether to print debug statements\n",
        "    \"\"\"\n",
        "    model.eval()\n",
        "    total_loss = 0.0\n",
        "    num_correct = 0\n",
        "    num_examples = 0\n",
        "    tot_pred, tot_targ, tot_logits = torch.LongTensor(), torch.LongTensor(), torch.LongTensor()\n",
        "    for batch in data_loader:\n",
        "        #texts, img_features, img_attention, targets = batch\n",
        "        texts, img_features, targets = batch\n",
        "        #img_features = img_features.to(device)\n",
        "        #img_attention = img_attention.to(device)\n",
        "        #targets = targets.to(device)\n",
        "        #output = model(texts,img_features,img_attention)\n",
        "        output = model(texts,img_features)\n",
        "        if debug:\n",
        "            print(\"OUTPUT\",output)\n",
        "            print(\"TARGETS\", targets)\n",
        "        loss = loss_fn(output, targets)\n",
        "        total_loss += loss.detach()\n",
        "\n",
        "        # if label O is still in the dataset we remove it from the outputs\n",
        "        # since it's a binary task\n",
        "        if not REMOVE_OTHER:\n",
        "            not_other = targets != 2\n",
        "            output = output[not_other]\n",
        "            targets = targets[not_other]\n",
        "\n",
        "        scores = output[:, :2]\n",
        "        predicted_labels = torch.argmax(scores, dim=-1)\n",
        "\n",
        "        tot_pred = torch.cat((tot_pred, predicted_labels.detach().cpu()))\n",
        "        tot_targ = torch.cat((tot_targ, targets.detach().cpu()))\n",
        "        tot_logits = torch.cat((tot_logits, torch.nn.functional.softmax(scores, dim=-1)[:, 1].detach().cpu()))\n",
        "\n",
        "        correct = torch.eq(predicted_labels, targets).view(-1)\n",
        "        num_correct += torch.sum(correct).item()\n",
        "        num_examples += correct.shape[0]\n",
        "    total_loss = total_loss.cpu().item()\n",
        "    total_loss /= len(data_loader.dataset)\n",
        "    accuracy = num_correct/num_examples\n",
        "    #f1 = multiclass_f1_score(tot_pred, tot_targ, num_classes=2, average=\"macro\")\n",
        "    #return total_loss, accuracy, f1, tot_pred, tot_targ, tot_logits\n",
        "    return total_loss, accuracy, tot_pred, tot_targ, tot_logits\n",
        "\n",
        "\n",
        "def train(model, loss_fn, train_loader, val_loader, epochs=10, device=\"cuda\", lr=1e-3, lr_decay_factor=0.1, lr_decay_patience=3, weight_decay=1e-5, verbose=True, debug=False):\n",
        "    \"\"\"\n",
        "    Train the model on the train set and evaluate on the validation set with the given parameters\n",
        "    Args:\n",
        "        model: model to train\n",
        "        loss_fn: loss function to use\n",
        "        train_loader: DataLoader object for train set\n",
        "        val_loader: DataLoader object for validation set\n",
        "        epochs: number of epochs\n",
        "        device: device to use\n",
        "        lr: initial learning rate\n",
        "        lr_decay_factor: factor to decay learning rate\n",
        "        lr_decay_patience: patience for learning rate decay\n",
        "        weight_decay: weight decay\n",
        "        verbose: whether to print training results\n",
        "        debug: whether to print debug statements\n",
        "    \"\"\"\n",
        "    # set up optimizer and scheduler\n",
        "    optimizer = torch.optim.Adam(model.parameters(), lr=lr, weight_decay=weight_decay)\n",
        "    scheduler = torch.optim.lr_scheduler.ReduceLROnPlateau(optimizer, mode='min', factor=lr_decay_factor, patience=lr_decay_patience, verbose=True)\n",
        "    best_model_tracker = BestModel()\n",
        "    # history of train and validation losses, accuracy and f1\n",
        "    history_train_losses = []\n",
        "    history_train_accuracy = []\n",
        "    #history_train_f1 = []\n",
        "\n",
        "    history_val_losses = []\n",
        "    history_val_accuracy = []\n",
        "    #history_val_f1 = []\n",
        "\n",
        "    for epoch in tqdm(range(epochs)):\n",
        "        # training\n",
        "        correct = 0\n",
        "        training_loss = 0.0\n",
        "        model.train()\n",
        "        for batch in train_loader:\n",
        "            optimizer.zero_grad()\n",
        "            #texts, img_features, img_attention, targets = batch\n",
        "            texts, img_features, targets = batch\n",
        "            #print('img_features',img_features)\n",
        "            #print('targets',targets)\n",
        "            #img_features = img_features.to(device)\n",
        "            #img_attention = img_attention.to(device)\n",
        "            #targets = targets.to(device)\n",
        "            #output = model(texts,img_features,img_attention)\n",
        "            output = model(texts,img_features)\n",
        "            loss = loss_fn(output, targets)\n",
        "            loss.backward()\n",
        "            optimizer.step()\n",
        "            correct += torch.eq(torch.argmax(output, dim=-1), targets).view(-1).sum()\n",
        "            training_loss += loss.detach()\n",
        "        training_loss = training_loss.cpu().item()\n",
        "\n",
        "        training_loss /= len(train_loader.dataset)\n",
        "        training_accuracy = correct.item() / len(train_loader.dataset)\n",
        "        #training_f1 = multiclass_f1_score(torch.argmax(output, dim=-1), targets, num_classes=2, average=\"macro\")\n",
        "\n",
        "        #valid_loss, valid_accuracy, valid_f1, _, _, _ = evaluate(model, val_loader, loss_fn, debug)\n",
        "        valid_loss, valid_accuracy, _, _, _ = evaluate(model, val_loader, loss_fn, debug)\n",
        "\n",
        "        history_train_losses.append(training_loss)\n",
        "        history_train_accuracy.append(training_accuracy)\n",
        "        #history_train_f1.append(training_f1)\n",
        "\n",
        "        history_val_losses.append(valid_loss)\n",
        "        history_val_accuracy.append(valid_accuracy)\n",
        "        #history_val_f1.append(valid_f1)\n",
        "\n",
        "        best_model_tracker(model, valid_loss)\n",
        "        scheduler.step(valid_loss)\n",
        "        if verbose:\n",
        "            #print(f'Epoch: {epoch}, Training Loss: {training_loss:.4f}, Validation Loss: {valid_loss:.4f}, accuracy = {valid_accuracy:.4f}, F1={valid_f1:.4f}')\n",
        "            print(f'Epoch: {epoch}, Training Loss: {training_loss:.4f}, Validation Loss: {valid_loss:.4f}, accuracy = {valid_accuracy:.4f}')\n",
        "    # restore best model weights\n",
        "    model.load_state_dict(best_model_tracker.best_state_dict)\n",
        "    history = {\n",
        "        'train_loss': history_train_losses,\n",
        "        'train_accuracy': history_train_accuracy,\n",
        "        'train_f1': history_train_f1,\n",
        "        'val_loss': history_val_losses,\n",
        "        'val_accuracy': history_val_accuracy\n",
        "        #'val_f1': history_val_f1\n",
        "    }\n",
        "    return model, history"
      ]
    },
    {
      "cell_type": "code",
      "execution_count": null,
      "metadata": {
        "id": "d4ShSoN_2KBK"
      },
      "outputs": [],
      "source": [
        "import copy\n",
        "import gc"
      ]
    },
    {
      "cell_type": "code",
      "execution_count": 135,
      "metadata": {
        "colab": {
          "base_uri": "https://localhost:8080/",
          "height": 1000
        },
        "id": "oav0BkXIABq7",
        "outputId": "b6676af2-3ff9-4fec-a746-8bde3386de44"
      },
      "outputs": [
        {
          "output_type": "stream",
          "name": "stdout",
          "text": [
            "========================================TRAINING WITH SEED 1========================================\n",
            "\n"
          ]
        },
        {
          "output_type": "stream",
          "name": "stderr",
          "text": [
            "/usr/local/lib/python3.10/dist-packages/torch/optim/lr_scheduler.py:28: UserWarning: The verbose parameter is deprecated. Please use get_last_lr() to access the learning rate.\n",
            "  warnings.warn(\"The verbose parameter is deprecated. Please use get_last_lr() \"\n"
          ]
        },
        {
          "output_type": "stream",
          "name": "stdout",
          "text": [
            "_____________________________________Training model Image-Only______________________________________\n"
          ]
        },
        {
          "output_type": "stream",
          "name": "stderr",
          "text": [
            "\r  0%|          | 0/60 [00:00<?, ?it/s]"
          ]
        },
        {
          "output_type": "stream",
          "name": "stdout",
          "text": [
            "pixel_values_0 torch.Size([4, 3, 224, 224])\n",
            "type outputs <class 'transformers.modeling_outputs.BaseModelOutputWithPooling'>\n"
          ]
        },
        {
          "output_type": "stream",
          "name": "stderr",
          "text": [
            "<ipython-input-91-ce22b8becb49>:31: UserWarning: To copy construct from a tensor, it is recommended to use sourceTensor.clone().detach() or sourceTensor.clone().detach().requires_grad_(True), rather than torch.tensor(sourceTensor).\n",
            "  return self.vit(torch.tensor(pixel_values), output_attentions=True, interpolate_pos_encoding=True)\n"
          ]
        },
        {
          "output_type": "stream",
          "name": "stdout",
          "text": [
            "attentions 12\n",
            "attentions.shape attention_img torch.Size([4, 12, 197, 197])\n",
            "attentions.reshape attention_img torch.Size([12, 196])\n"
          ]
        },
        {
          "output_type": "stream",
          "name": "stderr",
          "text": [
            "<ipython-input-97-ffad639b10ce>:8: UserWarning: To copy construct from a tensor, it is recommended to use sourceTensor.clone().detach() or sourceTensor.clone().detach().requires_grad_(True), rather than torch.tensor(sourceTensor).\n",
            "  pixel_val = torch.tensor(pixel_val[0])\n"
          ]
        },
        {
          "output_type": "stream",
          "name": "stdout",
          "text": [
            "last_hidden_states torch.Size([4, 768])\n",
            "last_hidden_states_0 torch.Size([4, 768])\n",
            "output torch.Size([4, 768])\n",
            "pixel_values_0 torch.Size([4, 3, 224, 224])\n",
            "type outputs <class 'transformers.modeling_outputs.BaseModelOutputWithPooling'>\n",
            "attentions 12\n",
            "attentions.shape attention_img torch.Size([4, 12, 197, 197])\n",
            "attentions.reshape attention_img torch.Size([12, 196])\n"
          ]
        },
        {
          "output_type": "stream",
          "name": "stderr",
          "text": [
            "<ipython-input-97-ffad639b10ce>:39: RuntimeWarning: More than 20 figures have been opened. Figures created through the pyplot interface (`matplotlib.pyplot.figure`) are retained until explicitly closed and may consume too much memory. (To control this warning, see the rcParam `figure.max_open_warning`). Consider using `matplotlib.pyplot.close()`.\n",
            "  plt.figure()\n"
          ]
        },
        {
          "output_type": "stream",
          "name": "stdout",
          "text": [
            "last_hidden_states torch.Size([4, 768])\n",
            "last_hidden_states_0 torch.Size([4, 768])\n",
            "output torch.Size([4, 768])\n"
          ]
        },
        {
          "output_type": "stream",
          "name": "stderr",
          "text": [
            "\r  0%|          | 0/60 [00:21<?, ?it/s]\n"
          ]
        },
        {
          "output_type": "error",
          "ename": "KeyboardInterrupt",
          "evalue": "",
          "traceback": [
            "\u001b[0;31m---------------------------------------------------------------------------\u001b[0m",
            "\u001b[0;31mKeyboardInterrupt\u001b[0m                         Traceback (most recent call last)",
            "\u001b[0;32m<ipython-input-135-2af419f96b55>\u001b[0m in \u001b[0;36m<cell line: 28>\u001b[0;34m()\u001b[0m\n\u001b[1;32m     53\u001b[0m             \u001b[0mloss\u001b[0m \u001b[0;34m=\u001b[0m \u001b[0;32mlambda\u001b[0m \u001b[0moutputs\u001b[0m\u001b[0;34m,\u001b[0m \u001b[0mtargets\u001b[0m\u001b[0;34m:\u001b[0m \u001b[0mtorch\u001b[0m\u001b[0;34m.\u001b[0m\u001b[0mnn\u001b[0m\u001b[0;34m.\u001b[0m\u001b[0mfunctional\u001b[0m\u001b[0;34m.\u001b[0m\u001b[0mnll_loss\u001b[0m\u001b[0;34m(\u001b[0m\u001b[0mtorch\u001b[0m\u001b[0;34m.\u001b[0m\u001b[0mlog\u001b[0m\u001b[0;34m(\u001b[0m\u001b[0moutputs\u001b[0m\u001b[0;34m)\u001b[0m\u001b[0;34m,\u001b[0m \u001b[0mtargets\u001b[0m\u001b[0;34m,\u001b[0m \u001b[0mweight\u001b[0m\u001b[0;34m=\u001b[0m\u001b[0mweight\u001b[0m\u001b[0;34m,\u001b[0m \u001b[0mreduction\u001b[0m\u001b[0;34m=\u001b[0m\u001b[0;34m'mean'\u001b[0m\u001b[0;34m)\u001b[0m\u001b[0;34m\u001b[0m\u001b[0;34m\u001b[0m\u001b[0m\n\u001b[1;32m     54\u001b[0m \u001b[0;34m\u001b[0m\u001b[0m\n\u001b[0;32m---> 55\u001b[0;31m         _, history = train(\n\u001b[0m\u001b[1;32m     56\u001b[0m             \u001b[0mmodel\u001b[0m\u001b[0;34m,\u001b[0m\u001b[0;34m\u001b[0m\u001b[0;34m\u001b[0m\u001b[0m\n\u001b[1;32m     57\u001b[0m             \u001b[0mloss\u001b[0m\u001b[0;34m,\u001b[0m\u001b[0;34m\u001b[0m\u001b[0;34m\u001b[0m\u001b[0m\n",
            "\u001b[0;32m<ipython-input-39-550679838371>\u001b[0m in \u001b[0;36mtrain\u001b[0;34m(model, loss_fn, train_loader, val_loader, epochs, device, lr, lr_decay_factor, lr_decay_patience, weight_decay, verbose, debug)\u001b[0m\n\u001b[1;32m    111\u001b[0m             \u001b[0moutput\u001b[0m \u001b[0;34m=\u001b[0m \u001b[0mmodel\u001b[0m\u001b[0;34m(\u001b[0m\u001b[0mtexts\u001b[0m\u001b[0;34m,\u001b[0m\u001b[0mimg_features\u001b[0m\u001b[0;34m)\u001b[0m\u001b[0;34m\u001b[0m\u001b[0;34m\u001b[0m\u001b[0m\n\u001b[1;32m    112\u001b[0m             \u001b[0mloss\u001b[0m \u001b[0;34m=\u001b[0m \u001b[0mloss_fn\u001b[0m\u001b[0;34m(\u001b[0m\u001b[0moutput\u001b[0m\u001b[0;34m,\u001b[0m \u001b[0mtargets\u001b[0m\u001b[0;34m)\u001b[0m\u001b[0;34m\u001b[0m\u001b[0;34m\u001b[0m\u001b[0m\n\u001b[0;32m--> 113\u001b[0;31m             \u001b[0mloss\u001b[0m\u001b[0;34m.\u001b[0m\u001b[0mbackward\u001b[0m\u001b[0;34m(\u001b[0m\u001b[0;34m)\u001b[0m\u001b[0;34m\u001b[0m\u001b[0;34m\u001b[0m\u001b[0m\n\u001b[0m\u001b[1;32m    114\u001b[0m             \u001b[0moptimizer\u001b[0m\u001b[0;34m.\u001b[0m\u001b[0mstep\u001b[0m\u001b[0;34m(\u001b[0m\u001b[0;34m)\u001b[0m\u001b[0;34m\u001b[0m\u001b[0;34m\u001b[0m\u001b[0m\n\u001b[1;32m    115\u001b[0m             \u001b[0mcorrect\u001b[0m \u001b[0;34m+=\u001b[0m \u001b[0mtorch\u001b[0m\u001b[0;34m.\u001b[0m\u001b[0meq\u001b[0m\u001b[0;34m(\u001b[0m\u001b[0mtorch\u001b[0m\u001b[0;34m.\u001b[0m\u001b[0margmax\u001b[0m\u001b[0;34m(\u001b[0m\u001b[0moutput\u001b[0m\u001b[0;34m,\u001b[0m \u001b[0mdim\u001b[0m\u001b[0;34m=\u001b[0m\u001b[0;34m-\u001b[0m\u001b[0;36m1\u001b[0m\u001b[0;34m)\u001b[0m\u001b[0;34m,\u001b[0m \u001b[0mtargets\u001b[0m\u001b[0;34m)\u001b[0m\u001b[0;34m.\u001b[0m\u001b[0mview\u001b[0m\u001b[0;34m(\u001b[0m\u001b[0;34m-\u001b[0m\u001b[0;36m1\u001b[0m\u001b[0;34m)\u001b[0m\u001b[0;34m.\u001b[0m\u001b[0msum\u001b[0m\u001b[0;34m(\u001b[0m\u001b[0;34m)\u001b[0m\u001b[0;34m\u001b[0m\u001b[0;34m\u001b[0m\u001b[0m\n",
            "\u001b[0;32m/usr/local/lib/python3.10/dist-packages/torch/_tensor.py\u001b[0m in \u001b[0;36mbackward\u001b[0;34m(self, gradient, retain_graph, create_graph, inputs)\u001b[0m\n\u001b[1;32m    520\u001b[0m                 \u001b[0minputs\u001b[0m\u001b[0;34m=\u001b[0m\u001b[0minputs\u001b[0m\u001b[0;34m,\u001b[0m\u001b[0;34m\u001b[0m\u001b[0;34m\u001b[0m\u001b[0m\n\u001b[1;32m    521\u001b[0m             )\n\u001b[0;32m--> 522\u001b[0;31m         torch.autograd.backward(\n\u001b[0m\u001b[1;32m    523\u001b[0m             \u001b[0mself\u001b[0m\u001b[0;34m,\u001b[0m \u001b[0mgradient\u001b[0m\u001b[0;34m,\u001b[0m \u001b[0mretain_graph\u001b[0m\u001b[0;34m,\u001b[0m \u001b[0mcreate_graph\u001b[0m\u001b[0;34m,\u001b[0m \u001b[0minputs\u001b[0m\u001b[0;34m=\u001b[0m\u001b[0minputs\u001b[0m\u001b[0;34m\u001b[0m\u001b[0;34m\u001b[0m\u001b[0m\n\u001b[1;32m    524\u001b[0m         )\n",
            "\u001b[0;32m/usr/local/lib/python3.10/dist-packages/torch/autograd/__init__.py\u001b[0m in \u001b[0;36mbackward\u001b[0;34m(tensors, grad_tensors, retain_graph, create_graph, grad_variables, inputs)\u001b[0m\n\u001b[1;32m    264\u001b[0m     \u001b[0;31m# some Python versions print out the first line of a multi-line function\u001b[0m\u001b[0;34m\u001b[0m\u001b[0;34m\u001b[0m\u001b[0m\n\u001b[1;32m    265\u001b[0m     \u001b[0;31m# calls in the traceback and some print out the last line\u001b[0m\u001b[0;34m\u001b[0m\u001b[0;34m\u001b[0m\u001b[0m\n\u001b[0;32m--> 266\u001b[0;31m     Variable._execution_engine.run_backward(  # Calls into the C++ engine to run the backward pass\n\u001b[0m\u001b[1;32m    267\u001b[0m         \u001b[0mtensors\u001b[0m\u001b[0;34m,\u001b[0m\u001b[0;34m\u001b[0m\u001b[0;34m\u001b[0m\u001b[0m\n\u001b[1;32m    268\u001b[0m         \u001b[0mgrad_tensors_\u001b[0m\u001b[0;34m,\u001b[0m\u001b[0;34m\u001b[0m\u001b[0;34m\u001b[0m\u001b[0m\n",
            "\u001b[0;31mKeyboardInterrupt\u001b[0m: "
          ]
        },
        {
          "output_type": "display_data",
          "data": {
            "text/plain": [
              "<Figure size 640x480 with 1 Axes>"
            ],
            "image/png": "[encoded data removed]"
          },
          "metadata": {}
        },
        {
          "output_type": "display_data",
          "data": {
            "text/plain": [
              "<Figure size 640x480 with 1 Axes>"
            ],
            "image/png": "[encoded data removed]"
          },
          "metadata": {}
        },
        {
          "output_type": "display_data",
          "data": {
            "text/plain": [
              "<Figure size 640x480 with 1 Axes>"
            ],
            "image/png": "[encoded data removed]"
          },
          "metadata": {}
        },
        {
          "output_type": "display_data",
          "data": {
            "text/plain": [
              "<Figure size 640x480 with 1 Axes>"
            ],
            "image/png": "[encoded data removed]"
          },
          "metadata": {}
        },
        {
          "output_type": "display_data",
          "data": {
            "text/plain": [
              "<Figure size 640x480 with 1 Axes>"
            ],
            "image/png": "[encoded data removed]"
          },
          "metadata": {}
        },
        {
          "output_type": "display_data",
          "data": {
            "text/plain": [
              "<Figure size 640x480 with 1 Axes>"
            ],
            "image/png": "[encoded data removed]"
          },
          "metadata": {}
        },
        {
          "output_type": "display_data",
          "data": {
            "text/plain": [
              "<Figure size 640x480 with 1 Axes>"
            ],
            "image/png": "[encoded data removed]"
          },
          "metadata": {}
        },
        {
          "output_type": "display_data",
          "data": {
            "text/plain": [
              "<Figure size 640x480 with 1 Axes>"
            ],
            "image/png": "[encoded data removed]"
          },
          "metadata": {}
        },
        {
          "output_type": "display_data",
          "data": {
            "text/plain": [
              "<Figure size 640x480 with 1 Axes>"
            ],
            "image/png": "[encoded data removed]"
          },
          "metadata": {}
        },
        {
          "output_type": "display_data",
          "data": {
            "text/plain": [
              "<Figure size 640x480 with 1 Axes>"
            ],
            "image/png": "[encoded data removed]"
          },
          "metadata": {}
        },
        {
          "output_type": "display_data",
          "data": {
            "text/plain": [
              "<Figure size 640x480 with 1 Axes>"
            ],
            "image/png": "[encoded data removed]"
          },
          "metadata": {}
        },
        {
          "output_type": "display_data",
          "data": {
            "text/plain": [
              "<Figure size 640x480 with 1 Axes>"
            ],
            "image/png": "[encoded data removed]"
          },
          "metadata": {}
        },
        {
          "output_type": "display_data",
          "data": {
            "text/plain": [
              "<Figure size 640x480 with 1 Axes>"
            ],
            "image/png": "[encoded data removed]"
          },
          "metadata": {}
        },
        {
          "output_type": "display_data",
          "data": {
            "text/plain": [
              "<Figure size 640x480 with 1 Axes>"
            ],
            "image/png": "[encoded data removed]"
          },
          "metadata": {}
        },
        {
          "output_type": "display_data",
          "data": {
            "text/plain": [
              "<Figure size 640x480 with 1 Axes>"
            ],
            "image/png": "[encoded data removed]"
          },
          "metadata": {}
        },
        {
          "output_type": "display_data",
          "data": {
            "text/plain": [
              "<Figure size 640x480 with 1 Axes>"
            ],
            "image/png": "[encoded data removed]"
          },
          "metadata": {}
        },
        {
          "output_type": "display_data",
          "data": {
            "text/plain": [
              "<Figure size 640x480 with 1 Axes>"
            ],
            "image/png": "[encoded data removed]"
          },
          "metadata": {}
        },
        {
          "output_type": "display_data",
          "data": {
            "text/plain": [
              "<Figure size 640x480 with 1 Axes>"
            ],
            "image/png": "[encoded data removed]"
          },
          "metadata": {}
        },
        {
          "output_type": "display_data",
          "data": {
            "text/plain": [
              "<Figure size 640x480 with 1 Axes>"
            ],
            "image/png": "[encoded data removed]"
          },
          "metadata": {}
        },
        {
          "output_type": "display_data",
          "data": {
            "text/plain": [
              "<Figure size 640x480 with 1 Axes>"
            ],
            "image/png": "[encoded data removed]"
          },
          "metadata": {}
        },
        {
          "output_type": "display_data",
          "data": {
            "text/plain": [
              "<Figure size 640x480 with 1 Axes>"
            ],
            "image/png": "[encoded data removed]"
          },
          "metadata": {}
        },
        {
          "output_type": "display_data",
          "data": {
            "text/plain": [
              "<Figure size 640x480 with 1 Axes>"
            ],
            "image/png": "[encoded data removed]"
          },
          "metadata": {}
        },
        {
          "output_type": "display_data",
          "data": {
            "text/plain": [
              "<Figure size 640x480 with 1 Axes>"
            ],
            "image/png": "[encoded data removed]"
          },
          "metadata": {}
        },
        {
          "output_type": "display_data",
          "data": {
            "text/plain": [
              "<Figure size 640x480 with 1 Axes>"
            ],
            "image/png": "[encoded data removed]"
          },
          "metadata": {}
        }
      ],
      "source": [
        "SEEDS = [1, 42, 69, 100, 420]\n",
        "SEEDS = [1]\n",
        "\n",
        "dict_model_names = ['MMT','Image-Only','Text-Only']\n",
        "#dict_model_names = ['Text-Only']\n",
        "#dict_model_names = ['img_only']\n",
        "\n",
        "# initialize results\n",
        "val_results = {n : [] for n in dict_model_names}\n",
        "test_results = {n : [] for n in dict_model_names}\n",
        "\n",
        "# initialize history\n",
        "history_train_losses = {n : [] for n in dict_model_names}\n",
        "history_train_accuracy = {n : [] for n in dict_model_names}\n",
        "history_train_f1 = {n : [] for n in dict_model_names}\n",
        "history_val_losses = {n : [] for n in dict_model_names}\n",
        "history_val_accuracy = {n : [] for n in dict_model_names}\n",
        "history_val_f1 = {n : [] for n in dict_model_names}\n",
        "\n",
        "EPOCHS = 60\n",
        "INITIAL_LR = 1e-4\n",
        "WEIGHT_DECAY = 1e-3\n",
        "LR_DECAY_FACTOR = 1e-1\n",
        "LR_DECAY_PATIENCE = 3\n",
        "VERBOSE_TRAIN = True\n",
        "DEBUG_TRAIN = False\n",
        "\n",
        "for seed in SEEDS:\n",
        "    print(f'{f\"TRAINING WITH SEED {seed}\":=^100}')\n",
        "    print()\n",
        "    torch.manual_seed(seed)\n",
        "    np.random.seed(seed)\n",
        "\n",
        "    model_names, models = create_models()\n",
        "\n",
        "    # TO select a single model (for debug purposes):\n",
        "    # model_idx = 4\n",
        "    # models, model_names = [models[model_idx]], [model_names[model_idx]]\n",
        "\n",
        "    while models:\n",
        "        model = models[0]\n",
        "        model_name = model_names[0]\n",
        "\n",
        "        torch.manual_seed(seed)\n",
        "        np.random.seed(seed)\n",
        "\n",
        "        print(f'{f\"Training model {model_name}\":_^100}')\n",
        "\n",
        "        loss = nn.CrossEntropyLoss(weight=weight)\n",
        "\n",
        "        if model_name == 'ensembling':\n",
        "            # ensembling model uses a different loss function\n",
        "            loss = lambda outputs, targets: torch.nn.functional.nll_loss(torch.log(outputs), targets, weight=weight, reduction='mean')\n",
        "\n",
        "        _, history = train(\n",
        "            model,\n",
        "            loss,\n",
        "            train_dataloader,\n",
        "            val_dataloader,\n",
        "            epochs=EPOCHS,\n",
        "            device=device,\n",
        "            lr=INITIAL_LR,\n",
        "            lr_decay_factor=LR_DECAY_FACTOR,\n",
        "            lr_decay_patience=LR_DECAY_PATIENCE,\n",
        "            weight_decay=WEIGHT_DECAY,\n",
        "            verbose=VERBOSE_TRAIN,\n",
        "            debug = DEBUG_TRAIN\n",
        "        )\n",
        "\n",
        "        history_train_losses[model_name].append(history['train_loss'])\n",
        "        history_train_accuracy[model_name].append(history['train_accuracy'])\n",
        "        #history_train_f1[model_name].append(history['train_f1'])\n",
        "        history_val_losses[model_name].append(history['val_loss'])\n",
        "        history_val_accuracy[model_name].append(history['val_accuracy'])\n",
        "        #history_val_f1[model_name].append(history['val_f1'])\n",
        "\n",
        "        #_, val_acc, val_f1, val_pred, val_targ, val_logits = evaluate(model, val_dataloader, loss)\n",
        "        #val_results[model_name].append({'acc': val_acc, 'f1': val_f1, 'pred': val_pred, 'targ': val_targ, 'logits':val_logits})\n",
        "        _, val_acc, val_pred, val_targ, val_logits = evaluate(model, val_dataloader, loss)\n",
        "        val_results[model_name].append({'acc': val_acc, 'pred': val_pred, 'targ': val_targ, 'logits':val_logits})\n",
        "\n",
        "        #_, test_acc, test_f1, test_pred, test_targ, test_logits = evaluate(model, test_dataloader, loss)\n",
        "        #test_results[model_name].append({'acc': test_acc, 'f1': test_f1, 'pred': test_pred, 'targ': test_targ, 'logits':test_logits})\n",
        "        _, test_acc, test_pred, test_targ, test_logits = evaluate(model, test_dataloader, loss)\n",
        "        test_results[model_name].append({'acc': test_acc, 'pred': test_pred, 'targ': test_targ, 'logits':test_logits})\n",
        "\n",
        "        if VERBOSE_TRAIN:\n",
        "            #'print(f'[VAL] Model: {model_name} - acc: {val_acc:.4f} - f1: {val_f1:.4f}')\n",
        "            #print(f'[TEST] Model: {model_name} - acc: {test_acc:.4f} - f1: {test_f1:.4f}')\n",
        "\n",
        "            print(f'[VAL] Model: {model_name} - acc: {val_acc:.4f}')\n",
        "            print(f'[TEST] Model: {model_name} - acc: {test_acc:.4f}')\n",
        "            print()\n",
        "\n",
        "        # delete model to free up memory and avoid memory errors\n",
        "        del model\n",
        "        del models[0]\n",
        "        del model_names[0]\n",
        "        gc.collect()"
      ]
    },
    {
      "cell_type": "code",
      "execution_count": null,
      "metadata": {
        "id": "lMQ41sZD_Abg"
      },
      "outputs": [],
      "source": [
        "models"
      ]
    },
    {
      "cell_type": "code",
      "execution_count": null,
      "metadata": {
        "id": "olmHE5uI72XW"
      },
      "outputs": [],
      "source": [
        "import pickle"
      ]
    },
    {
      "cell_type": "code",
      "execution_count": null,
      "metadata": {
        "id": "sp0lYlDX7PsB"
      },
      "outputs": [],
      "source": [
        "# save history\n",
        "save_path = '/content/drive/MyDrive/M Диплом/MM history'\n",
        "with open(f'{save_path}/history_train_losses.pkl', 'wb') as f:\n",
        "    pickle.dump(history_train_losses, f)\n",
        "with open(f'{save_path}/history_train_accuracy.pkl', 'wb') as f:\n",
        "    pickle.dump(history_train_accuracy, f)\n",
        "with open(f'{save_path}/history_train_f1.pkl', 'wb') as f:\n",
        "    pickle.dump(history_train_f1, f)\n",
        "\n",
        "with open(f'{save_path}/history_val_losses.pkl', 'wb') as f:\n",
        "    pickle.dump(history_val_losses, f)\n",
        "with open(f'{save_path}/history_val_accuracy.pkl', 'wb') as f:\n",
        "    pickle.dump(history_val_accuracy, f)\n",
        "with open(f'{save_path}/history_val_f1.pkl', 'wb') as f:\n",
        "    pickle.dump(history_val_f1, f)\n",
        "\n",
        "# save results\n",
        "with open(f'{save_path}/val_results.pkl', 'wb') as f:\n",
        "    pickle.dump(val_results, f)\n",
        "with open(f'{save_path}/test_results.pkl', 'wb') as f:\n",
        "    pickle.dump(test_results, f)"
      ]
    },
    {
      "cell_type": "markdown",
      "metadata": {
        "id": "zNONFr6CBGvl",
        "papermill": {
          "duration": 0.140558,
          "end_time": "2023-08-30T20:43:51.408596",
          "exception": false,
          "start_time": "2023-08-30T20:43:51.268038",
          "status": "completed"
        },
        "tags": []
      },
      "source": [
        "# Image Encoder | ViT Model (Vision Transformer Model)"
      ]
    },
    {
      "cell_type": "code",
      "execution_count": null,
      "metadata": {
        "execution": {
          "iopub.execute_input": "2024-01-28T06:25:24.631889Z",
          "iopub.status.busy": "2024-01-28T06:25:24.631172Z",
          "iopub.status.idle": "2024-01-28T06:25:25.744364Z",
          "shell.execute_reply": "2024-01-28T06:25:25.743515Z",
          "shell.execute_reply.started": "2024-01-28T06:25:24.631853Z"
        },
        "id": "x_bKSY8MBGvl"
      },
      "outputs": [],
      "source": [
        "image_path = 'E:/LangsImgDatasetForDiploma/images_normalized/1000_IM-0003-1001.dcm.png'\n",
        "from PIL import Image\n",
        "import matplotlib.pyplot as plt\n",
        "\n",
        "# Open the image\n",
        "\n",
        "original_image = Image.open(image_path)\n",
        "\n",
        "# Convert to RGB mode\n",
        "original_image = original_image.convert('RGB')\n",
        "\n",
        "# Resize the image to a new width and height\n",
        "new_width = 300  # Specify your desired width\n",
        "new_height = 200  # Specify your desired height\n",
        "resized_image = original_image.resize((new_width, new_height))\n",
        "\n",
        "# Display the original and resized images\n",
        "plt.figure(figsize=(10, 5))\n",
        "\n",
        "plt.subplot(1, 2, 1)\n",
        "plt.title('Original Image')\n",
        "plt.imshow(original_image)\n",
        "plt.axis('off')\n",
        "\n",
        "plt.subplot(1, 2, 2)\n",
        "plt.title('Resized Image')\n",
        "plt.imshow(resized_image)\n",
        "plt.axis('off')\n",
        "\n",
        "plt.show()\n"
      ]
    },
    {
      "cell_type": "code",
      "execution_count": null,
      "metadata": {
        "id": "1SgkP9DMBGvl",
        "papermill": {
          "duration": 0.149266,
          "end_time": "2023-08-30T20:43:51.973351",
          "exception": false,
          "start_time": "2023-08-30T20:43:51.824085",
          "status": "completed"
        },
        "tags": []
      },
      "outputs": [],
      "source": []
    },
    {
      "cell_type": "code",
      "execution_count": null,
      "metadata": {
        "execution": {
          "iopub.execute_input": "2024-01-28T06:37:29.8263Z",
          "iopub.status.busy": "2024-01-28T06:37:29.825945Z",
          "iopub.status.idle": "2024-01-28T06:37:30.051333Z",
          "shell.execute_reply": "2024-01-28T06:37:30.043541Z",
          "shell.execute_reply.started": "2024-01-28T06:37:29.826273Z"
        },
        "id": "b4lD7qiyBGvl",
        "papermill": {
          "duration": 0.364379,
          "end_time": "2023-08-30T20:43:52.47632",
          "exception": false,
          "start_time": "2023-08-30T20:43:52.111941",
          "status": "completed"
        },
        "tags": []
      },
      "outputs": [],
      "source": [
        "image = image_preprocessing(\"E:/LangsImgDatasetForDiploma/images_normalized/1000_IM-0003-1001.dcm.png\",image_size)\n",
        "print(image.shape)\n",
        "display_image(image)"
      ]
    },
    {
      "cell_type": "code",
      "execution_count": null,
      "metadata": {
        "execution": {
          "iopub.execute_input": "2024-01-28T06:37:50.128225Z",
          "iopub.status.busy": "2024-01-28T06:37:50.127324Z",
          "iopub.status.idle": "2024-01-28T06:38:06.033745Z",
          "shell.execute_reply": "2024-01-28T06:38:06.032821Z",
          "shell.execute_reply.started": "2024-01-28T06:37:50.128191Z"
        },
        "id": "UqfQIZJVBGvm",
        "papermill": {
          "duration": 11.831255,
          "end_time": "2023-08-30T20:44:04.453615",
          "exception": false,
          "start_time": "2023-08-30T20:43:52.62236",
          "status": "completed"
        },
        "tags": []
      },
      "outputs": [],
      "source": [
        "import torch\n",
        "import matplotlib.pyplot as plt\n",
        "\n",
        "def create_image_patches(image, patch_size):\n",
        "    batch_size, channels, height, width = image.size()\n",
        "    patches = []\n",
        "    for h in range(0, height, patch_size):\n",
        "        for w in range(0, width, patch_size):\n",
        "            patch = image[:, :, h:h+patch_size, w:w+patch_size]\n",
        "            patches.append(patch)\n",
        "    patches = torch.cat(patches, dim=0)\n",
        "    return patches\n",
        "\n",
        "def plot_patches(patches):\n",
        "    num_patches = patches.size(0)\n",
        "    n = int(np.sqrt(num_patches))\n",
        "    plt.figure(figsize=(2*n, 2*n))\n",
        "    for i in range(num_patches):\n",
        "        patch = patches[i].permute(1, 2, 0).numpy()\n",
        "        plt.subplot(n, n, i + 1)\n",
        "        plt.imshow(patch)\n",
        "        plt.title(f\"Patch {i+1}\")\n",
        "        plt.axis('off')\n",
        "    plt.show()\n",
        "\n",
        "# Example usage\n",
        "image_size = 256\n",
        "patch_size = 16\n",
        "\n",
        "image_array = image_preprocessing(\"E:/LangsImgDatasetForDiploma/images_normalized/1000_IM-0003-1001.dcm.png\", image_size) # shape: (image_size, image_size, 3)\n",
        "plt.imshow(image_array)\n",
        "plt.axis('off')  # Turn off axis labels\n",
        "plt.show()\n",
        "input_image = torch.tensor(image_array).permute(2,0,1).unsqueeze(0) # shape: (1, 3, image_size, image_size)\n",
        "input_batch_image = torch.stack([input_image,input_image,input_image,input_image])\n",
        "patches = create_image_patches(input_image, patch_size)\n",
        "print(patches.shape)\n",
        "plot_patches(patches)"
      ]
    },
    {
      "cell_type": "code",
      "execution_count": null,
      "metadata": {
        "collapsed": true,
        "execution": {
          "iopub.execute_input": "2024-01-28T06:38:23.443053Z",
          "iopub.status.busy": "2024-01-28T06:38:23.442275Z",
          "iopub.status.idle": "2024-01-28T06:38:23.520999Z",
          "shell.execute_reply": "2024-01-28T06:38:23.520056Z",
          "shell.execute_reply.started": "2024-01-28T06:38:23.44302Z"
        },
        "id": "yMaXj3jnBGvm",
        "papermill": {
          "duration": 0.186855,
          "end_time": "2023-08-30T20:44:04.797561",
          "exception": false,
          "start_time": "2023-08-30T20:44:04.610706",
          "status": "completed"
        },
        "tags": []
      },
      "outputs": [],
      "source": [
        "def create_batch_patches(input_batch_image):\n",
        "    batch_patches = []\n",
        "    for i in range(input_batch_image.shape[0]):\n",
        "        input_image = input_batch_image[i].unsqueeze(0)\n",
        "        patches = create_image_patches(input_image, patch_size)\n",
        "        batch_patches.append(patches)\n",
        "    return torch.stack(batch_patches, dim=0)\n",
        "\n",
        "image_array = image_preprocessing(\"/kaggle/input/chest-xrays-indiana-university/images/images_normalized/1000_IM-0003-2001.dcm.png\", image_size) # shape: (image_size, image_size, 3)\n",
        "input_image = torch.tensor(image_array).permute(2,0,1)\n",
        "input_batch_image = torch.stack([input_image,input_image,input_image,input_image])\n",
        "print(input_batch_image.shape)\n",
        "batch_patches = create_batch_patches(input_batch_image)\n",
        "print(batch_patches.shape)"
      ]
    },
    {
      "cell_type": "code",
      "execution_count": null,
      "metadata": {
        "execution": {
          "iopub.execute_input": "2024-01-28T06:38:30.815205Z",
          "iopub.status.busy": "2024-01-28T06:38:30.814594Z",
          "iopub.status.idle": "2024-01-28T06:38:30.845331Z",
          "shell.execute_reply": "2024-01-28T06:38:30.844525Z",
          "shell.execute_reply.started": "2024-01-28T06:38:30.81517Z"
        },
        "id": "WvPgpvqcBGvn",
        "papermill": {
          "duration": 0.184721,
          "end_time": "2023-08-30T20:44:05.13356",
          "exception": false,
          "start_time": "2023-08-30T20:44:04.948839",
          "status": "completed"
        },
        "tags": []
      },
      "outputs": [],
      "source": [
        "import torch\n",
        "import torch.nn as nn\n",
        "import torch.nn.functional as F\n",
        "import math\n",
        "\n",
        "class MultiHeadAttention(nn.Module):\n",
        "    def __init__(self, d_model, n_heads):\n",
        "        super(MultiHeadAttention, self).__init__()\n",
        "        self.d_model = d_model\n",
        "        self.n_heads = n_heads\n",
        "        self.head_dim = d_model // n_heads\n",
        "\n",
        "        self.query = nn.Linear(d_model, d_model)\n",
        "        self.key = nn.Linear(d_model, d_model)\n",
        "        self.value = nn.Linear(d_model, d_model)\n",
        "        self.fc_out = nn.Linear(d_model, d_model)\n",
        "\n",
        "    def forward(self, query, key, value, mask=None):\n",
        "        batch_size = query.shape[0]\n",
        "\n",
        "        Q = self.query(query)\n",
        "        K = self.key(key)\n",
        "        V = self.value(value)\n",
        "\n",
        "        Q = Q.view(batch_size, -1, self.n_heads, self.head_dim).transpose(1, 2)\n",
        "        K = K.view(batch_size, -1, self.n_heads, self.head_dim).transpose(1, 2)\n",
        "        V = V.view(batch_size, -1, self.n_heads, self.head_dim).transpose(1, 2)\n",
        "\n",
        "        scores = torch.matmul(Q, K.transpose(-1, -2)) / torch.sqrt(torch.tensor(self.head_dim, dtype=torch.float32))\n",
        "\n",
        "        if mask is not None:\n",
        "            scores = scores.masked_fill(mask == 0, float(\"-inf\"))\n",
        "\n",
        "        attention = torch.softmax(scores, dim=-1)\n",
        "        attended_values = torch.matmul(attention, V)\n",
        "        attended_values = attended_values.transpose(1, 2).contiguous().view(batch_size, -1, self.d_model)\n",
        "\n",
        "        output = self.fc_out(attended_values)\n",
        "        return output, attention\n",
        "\n",
        "class TransformerBlock(nn.Module):\n",
        "    def __init__(self, d_model, n_heads, dim_feedforward, dropout=0.1):\n",
        "        super(TransformerBlock, self).__init__()\n",
        "        self.attention = MultiHeadAttention(d_model, n_heads)\n",
        "        self.norm1 = nn.LayerNorm(d_model)\n",
        "        self.dropout1 = nn.Dropout(dropout)\n",
        "        self.fc = nn.Sequential(\n",
        "                                    nn.Linear(d_model, dim_feedforward),\n",
        "                                    nn.ReLU(),\n",
        "                                    nn.Linear(dim_feedforward, d_model),\n",
        "                                )\n",
        "        self.norm2 = nn.LayerNorm(d_model)\n",
        "        self.dropout2 = nn.Dropout(dropout)\n",
        "\n",
        "    def forward(self, x, mask=None):\n",
        "        attended, attention = self.attention(x, x, x, mask)\n",
        "        x = x + self.dropout1(self.norm1(attended))\n",
        "        feedforward = self.fc(x)\n",
        "        x = x + self.dropout2(self.norm2(feedforward))\n",
        "        return x, attention\n",
        "\n",
        "class VisionTransformer(nn.Module):\n",
        "    def __init__(self, image_size, patch_size, d_model, n_heads, image_embedding_size, dim_feedforward, num_layers, dropout=0.1):\n",
        "        super(VisionTransformer, self).__init__()\n",
        "        assert image_size % patch_size == 0, \"Image dimensions must be divisible by the patch size.\"\n",
        "        num_patches = (image_size // patch_size) ** 2\n",
        "        self.patch_size = patch_size\n",
        "\n",
        "        self.patch_dim = 3 * patch_size ** 2\n",
        "        self.patch_embeddings = nn.Linear(self.patch_dim, d_model)\n",
        "        self.position_embeddings = self.generate_positional_encodings(num_patches + 1, d_model) # nn.Parameter(torch.zeros(1, num_patches + 1, d_model))\n",
        "        self.cls_token = nn.Parameter(torch.zeros(1, 1, d_model))\n",
        "        self.dropout = nn.Dropout(dropout)\n",
        "\n",
        "        self.transformer_blocks = nn.ModuleList([TransformerBlock(d_model, n_heads, dim_feedforward, dropout)\n",
        "            for _ in range(num_layers)\n",
        "        ])\n",
        "\n",
        "        self.fc_head = nn.Linear(d_model, image_embedding_size)\n",
        "        # self.fc = nn.Linear(image_embedding_size, 10)\n",
        "\n",
        "    def generate_positional_encodings(self, num_patches, d_model):\n",
        "        position_encodings = torch.zeros(1, num_patches, d_model)  # Add +1 to num_patches\n",
        "        position = torch.arange(0, num_patches, dtype=torch.float32).unsqueeze(1)  # Add +1 to num_patches\n",
        "        div_term = torch.exp(torch.arange(0, d_model, 2, dtype=torch.float32) * (-math.log(10000.0) / d_model))\n",
        "        position_encodings[:, :, 0::2] = torch.sin(position * div_term)\n",
        "        position_encodings[:, :, 1::2] = torch.cos(position * div_term)\n",
        "        return position_encodings\n",
        "\n",
        "\n",
        "    def create_image_patches(self, image):\n",
        "        batch_size, channels, height, width = image.size()\n",
        "        patches = []\n",
        "        for h in range(0, height, self.patch_size):\n",
        "            for w in range(0, width, self.patch_size):\n",
        "                patch = image[:, :, h:h+self.patch_size, w:w+self.patch_size]\n",
        "                patches.append(patch)\n",
        "        patches = torch.cat(patches, dim=0)\n",
        "        return patches\n",
        "\n",
        "    def create_batch_patches(self,input_batch_image):\n",
        "        batch_patches = []\n",
        "        for i in range(input_batch_image.shape[0]):\n",
        "            input_image = input_batch_image[i].unsqueeze(0)\n",
        "            patches = self.create_image_patches(input_image)\n",
        "            batch_patches.append(patches)\n",
        "        return torch.stack(batch_patches, dim=0).float()\n",
        "\n",
        "\n",
        "    def forward(self, x):\n",
        "        batch_size = x.shape[0]\n",
        "        x = self.create_batch_patches(x)\n",
        "        x = x.reshape(x.size(0), x.size(1), x.size(2)*x.size(3)*x.size(4))\n",
        "        x = self.patch_embeddings(x)\n",
        "        cls_tokens = self.cls_token.expand(batch_size, -1, -1)\n",
        "        x = torch.cat((cls_tokens, x), dim=1)\n",
        "        x = x + self.position_embeddings.to(x.device)\n",
        "        for transformer in self.transformer_blocks:\n",
        "            x, _ = transformer(x)\n",
        "\n",
        "        x = x[:, 0]\n",
        "        x = self.dropout(x)\n",
        "        x = self.fc_head(x)\n",
        "        # x = self.fc(x)\n",
        "        return x"
      ]
    },
    {
      "cell_type": "markdown",
      "metadata": {
        "id": "Yh3gcmGvBGvn"
      },
      "source": [
        "# Checking ViT using classification data"
      ]
    },
    {
      "cell_type": "code",
      "execution_count": null,
      "metadata": {
        "execution": {
          "iopub.execute_input": "2024-01-28T06:38:44.054751Z",
          "iopub.status.busy": "2024-01-28T06:38:44.053783Z",
          "iopub.status.idle": "2024-01-28T06:39:06.14731Z",
          "shell.execute_reply": "2024-01-28T06:39:06.146521Z",
          "shell.execute_reply.started": "2024-01-28T06:38:44.054713Z"
        },
        "id": "t5in6_YMBGvn",
        "papermill": {
          "duration": 32.94248,
          "end_time": "2023-08-30T20:44:42.750512",
          "exception": false,
          "start_time": "2023-08-30T20:44:09.808032",
          "status": "completed"
        },
        "tags": []
      },
      "outputs": [],
      "source": [
        "import torch\n",
        "from transformers import DistilBertTokenizer, DistilBertModel, AutoTokenizer\n",
        "\n",
        "# Load pre-trained DistilBERT model and tokenizer\n",
        "model_name = 'distilbert-base-uncased'\n",
        "tokenizer = AutoTokenizer.from_pretrained(model_name) # DistilBertTokenizer.from_pretrained(model_name)\n",
        "model = DistilBertModel.from_pretrained(model_name)\n",
        "\n",
        "def generate_text_embeddings(texts):\n",
        "    # Tokenize input texts\n",
        "    inputs = tokenizer(texts, return_tensors='pt', padding=True, truncation=True)\n",
        "\n",
        "    # Generate embeddings\n",
        "    with torch.no_grad():\n",
        "        outputs = model(**inputs)\n",
        "\n",
        "    # Get the embeddings from the last hidden layer\n",
        "    embeddings = outputs.last_hidden_state[:, 0, :] # <---CLS # outputs.last_hidden_state.mean(dim=1)  # You can use other aggregation methods\n",
        "\n",
        "    return embeddings"
      ]
    },
    {
      "cell_type": "code",
      "execution_count": null,
      "metadata": {
        "execution": {
          "iopub.execute_input": "2024-01-28T06:39:09.740363Z",
          "iopub.status.busy": "2024-01-28T06:39:09.739407Z",
          "iopub.status.idle": "2024-01-28T06:39:10.038204Z",
          "shell.execute_reply": "2024-01-28T06:39:10.037161Z",
          "shell.execute_reply.started": "2024-01-28T06:39:09.740329Z"
        },
        "id": "yaGgnRReBGvo",
        "papermill": {
          "duration": 0.281469,
          "end_time": "2023-08-30T20:44:43.18516",
          "exception": false,
          "start_time": "2023-08-30T20:44:42.903691",
          "status": "completed"
        },
        "tags": []
      },
      "outputs": [],
      "source": [
        "# List of input texts\n",
        "texts = [ \"yo yo CLIP Model\", \"DistilBERT is a great model for text embedding.\", \"Vision Transformers for image.\", \"Contrative Learning\" ]\n",
        "\n",
        "# Generate embeddings\n",
        "embeddings = generate_text_embeddings(texts)\n",
        "print(\"Shape of embeddings:\", embeddings.shape)  # Should print (num_texts, embedding_size)"
      ]
    },
    {
      "cell_type": "markdown",
      "metadata": {
        "id": "Kq4hdN2FBGvo",
        "papermill": {
          "duration": 0.155573,
          "end_time": "2023-08-30T20:44:44.825124",
          "exception": false,
          "start_time": "2023-08-30T20:44:44.669551",
          "status": "completed"
        },
        "tags": []
      },
      "source": [
        "# Model Implementation"
      ]
    },
    {
      "cell_type": "code",
      "execution_count": null,
      "metadata": {
        "execution": {
          "iopub.execute_input": "2024-01-28T06:39:15.300325Z",
          "iopub.status.busy": "2024-01-28T06:39:15.299566Z",
          "iopub.status.idle": "2024-01-28T06:39:15.316207Z",
          "shell.execute_reply": "2024-01-28T06:39:15.315125Z",
          "shell.execute_reply.started": "2024-01-28T06:39:15.300292Z"
        },
        "id": "h873DyXoBGvo",
        "papermill": {
          "duration": 0.217704,
          "end_time": "2023-08-30T20:44:45.199842",
          "exception": false,
          "start_time": "2023-08-30T20:44:44.982138",
          "status": "completed"
        },
        "tags": []
      },
      "outputs": [],
      "source": [
        "import torch\n",
        "import torch.nn as nn\n",
        "dropout = 0.1\n",
        "class ImageProjection(nn.Module):\n",
        "    def __init__(self, image_embedding_size, shared_embedding_size):\n",
        "        super(ImageProjection, self).__init__()\n",
        "        self.image_projection = nn.Linear(image_embedding_size, shared_embedding_size)\n",
        "        self.gelu = nn.GELU()\n",
        "        self.fc = nn.Linear(shared_embedding_size, shared_embedding_size)\n",
        "        self.dropout = nn.Dropout(dropout)\n",
        "        self.layer_norm = nn.LayerNorm(shared_embedding_size)\n",
        "\n",
        "    def forward(self, image_embeddings):\n",
        "        projected_embeddings = self.image_projection(image_embeddings)\n",
        "\n",
        "        x = self.gelu(projected_embeddings)\n",
        "        x = self.fc(x)\n",
        "        x = self.dropout(x)\n",
        "        x = x + projected_embeddings\n",
        "        x = self.layer_norm(x)\n",
        "\n",
        "        return x # projected_embeddings\n",
        "\n",
        "class TextProjection(nn.Module):\n",
        "    def __init__(self, text_embedding_size, shared_embedding_size):\n",
        "        super(TextProjection, self).__init__()\n",
        "        self.text_projection = nn.Linear(text_embedding_size, shared_embedding_size)\n",
        "        self.gelu = nn.GELU()\n",
        "        self.fc = nn.Linear(shared_embedding_size, shared_embedding_size)\n",
        "        self.dropout = nn.Dropout(dropout)\n",
        "        self.layer_norm = nn.LayerNorm(shared_embedding_size)\n",
        "\n",
        "    def forward(self, text_embeddings):\n",
        "        projected_embeddings = self.text_projection(text_embeddings)\n",
        "\n",
        "        x = self.gelu(projected_embeddings)\n",
        "        x = self.fc(x)\n",
        "        x = self.dropout(x)\n",
        "        x = x + projected_embeddings\n",
        "        x = self.layer_norm(x)\n",
        "\n",
        "        return x # projected_embeddings\n",
        "\n",
        "\"\"\"\n",
        "class CosineSimilarity(nn.Module):\n",
        "    def __init__(self, temperature = 0.2 ):\n",
        "        super(CosineSimilarity, self).__init__()\n",
        "        self.temperature = temperature\n",
        "\n",
        "    def forward(self, image_embeddings, text_embeddings):\n",
        "        normalized_images = nn.functional.normalize(image_embeddings, dim=-1)\n",
        "        normalized_texts = nn.functional.normalize(text_embeddings, dim=-1)\n",
        "\n",
        "        similarities = torch.matmul(normalized_images, normalized_texts.t())*self.temperature\n",
        "        return similarities\n",
        "\"\"\""
      ]
    },
    {
      "cell_type": "code",
      "execution_count": null,
      "metadata": {
        "execution": {
          "iopub.execute_input": "2024-01-28T06:39:18.142301Z",
          "iopub.status.busy": "2024-01-28T06:39:18.141968Z",
          "iopub.status.idle": "2024-01-28T06:39:18.147531Z",
          "shell.execute_reply": "2024-01-28T06:39:18.146536Z",
          "shell.execute_reply.started": "2024-01-28T06:39:18.142277Z"
        },
        "id": "TcmGShOKBGvp",
        "papermill": {
          "duration": 0.171777,
          "end_time": "2023-08-30T20:44:45.843593",
          "exception": false,
          "start_time": "2023-08-30T20:44:45.671816",
          "status": "completed"
        },
        "tags": []
      },
      "outputs": [],
      "source": [
        "def count_trainable_parameters(model):\n",
        "    trainable_params = sum(p.numel() for p in model.parameters() if p.requires_grad)\n",
        "    return trainable_params"
      ]
    },
    {
      "cell_type": "code",
      "execution_count": null,
      "metadata": {
        "execution": {
          "iopub.execute_input": "2024-01-28T06:39:19.322391Z",
          "iopub.status.busy": "2024-01-28T06:39:19.32168Z",
          "iopub.status.idle": "2024-01-28T06:39:19.328689Z",
          "shell.execute_reply": "2024-01-28T06:39:19.32771Z",
          "shell.execute_reply.started": "2024-01-28T06:39:19.322358Z"
        },
        "id": "2Q9seleTBGvp"
      },
      "outputs": [],
      "source": [
        "count_trainable_parameters(model)"
      ]
    },
    {
      "cell_type": "code",
      "execution_count": null,
      "metadata": {
        "execution": {
          "iopub.execute_input": "2024-01-28T06:39:22.961458Z",
          "iopub.status.busy": "2024-01-28T06:39:22.961105Z",
          "iopub.status.idle": "2024-01-28T06:39:23.453374Z",
          "shell.execute_reply": "2024-01-28T06:39:23.452493Z",
          "shell.execute_reply.started": "2024-01-28T06:39:22.961429Z"
        },
        "id": "3Wq8sMkQBGvp",
        "papermill": {
          "duration": 2.82911,
          "end_time": "2023-08-30T20:44:48.836362",
          "exception": false,
          "start_time": "2023-08-30T20:44:46.007252",
          "status": "completed"
        },
        "tags": []
      },
      "outputs": [],
      "source": [
        "import os\n",
        "\n",
        "# Set the environment variable\n",
        "os.environ[\"TOKENIZERS_PARALLELISM\"] = \"true\"\n",
        "\n",
        "# Checking Data Setup\n",
        "for batch_idx, (texts, images, labels) in enumerate(train_dataloader):\n",
        "    print( \"batch_idx: \", batch_idx, \" Image Shape: \", images[0].shape, \"Text Count: \", len(texts) )\n",
        "    plt.imshow( torch.moveaxis( images[0], 0, 2 ).numpy() )\n",
        "    plt.show()\n",
        "    print(texts[0])\n",
        "    break"
      ]
    },
    {
      "cell_type": "markdown",
      "metadata": {
        "id": "5u8zYKD3BGvp",
        "papermill": {
          "duration": 0.160869,
          "end_time": "2023-08-30T20:44:49.167244",
          "exception": false,
          "start_time": "2023-08-30T20:44:49.006375",
          "status": "completed"
        },
        "tags": []
      },
      "source": [
        "# Loss Function"
      ]
    },
    {
      "cell_type": "code",
      "execution_count": null,
      "metadata": {
        "execution": {
          "iopub.execute_input": "2024-01-28T06:39:37.029302Z",
          "iopub.status.busy": "2024-01-28T06:39:37.028945Z",
          "iopub.status.idle": "2024-01-28T06:39:37.038316Z",
          "shell.execute_reply": "2024-01-28T06:39:37.037147Z",
          "shell.execute_reply.started": "2024-01-28T06:39:37.029274Z"
        },
        "id": "7jEIahIrBGvp",
        "papermill": {
          "duration": 0.176948,
          "end_time": "2023-08-30T20:44:50.211814",
          "exception": false,
          "start_time": "2023-08-30T20:44:50.034866",
          "status": "completed"
        },
        "tags": []
      },
      "outputs": [],
      "source": [
        "dropout = 0.1\n",
        "\n",
        "def cross_entropy(preds, targets, reduction='none'):\n",
        "    log_softmax = nn.LogSoftmax(dim=-1)\n",
        "    loss = (-targets * log_softmax(preds)).sum(1)\n",
        "    if reduction == \"none\":\n",
        "        return loss\n",
        "    elif reduction == \"mean\":\n",
        "        return loss.mean()\n",
        "\n",
        "temperature_value = 1\n",
        "\n",
        "def contrastive_clip_loss_function( text_projection,  image_projection, mode=\"eval\" ):\n",
        "    logits = (text_projection @ image_projection.T) / temperature_value\n",
        "    if mode==\"train\":\n",
        "        images_similarity = image_projection @ image_projection.T\n",
        "        texts_similarity = text_projection @ text_projection.T\n",
        "        targets = F.softmax( (images_similarity + texts_similarity) / 2 * temperature_value, dim=-1 )\n",
        "        texts_loss = cross_entropy(logits, targets, reduction='none')\n",
        "        images_loss = cross_entropy(logits.T, targets.T, reduction='none')\n",
        "        loss =  (images_loss + texts_loss) / 2.0 # shape: (batch_size)\n",
        "        return loss.mean()\n",
        "    elif mode==\"eval\":\n",
        "        return logits\n",
        "    else:\n",
        "        print(\"Mention mode\")\n",
        "        return None"
      ]
    },
    {
      "cell_type": "markdown",
      "metadata": {
        "id": "glWnd4E2BGvq",
        "papermill": {
          "duration": 0.163135,
          "end_time": "2023-08-30T20:44:50.535918",
          "exception": false,
          "start_time": "2023-08-30T20:44:50.372783",
          "status": "completed"
        },
        "tags": []
      },
      "source": [
        "# Previous Model Setups"
      ]
    },
    {
      "cell_type": "code",
      "execution_count": null,
      "metadata": {
        "execution": {
          "iopub.execute_input": "2024-01-28T06:39:40.049482Z",
          "iopub.status.busy": "2024-01-28T06:39:40.048743Z",
          "iopub.status.idle": "2024-01-28T06:39:40.054151Z",
          "shell.execute_reply": "2024-01-28T06:39:40.052954Z",
          "shell.execute_reply.started": "2024-01-28T06:39:40.049443Z"
        },
        "id": "XUy4JGbEBGvq"
      },
      "outputs": [],
      "source": [
        "import torch\n",
        "import torch.nn as nn\n",
        "import torchvision.models as models\n",
        "import torchvision.transforms as transforms\n",
        "from PIL import Image\n",
        "import time"
      ]
    },
    {
      "cell_type": "markdown",
      "metadata": {
        "id": "qjR0XszrBGvq"
      },
      "source": [
        "# Training Model - ResNet50 + Distil BERT"
      ]
    },
    {
      "cell_type": "code",
      "execution_count": null,
      "metadata": {
        "execution": {
          "iopub.execute_input": "2024-01-28T06:39:43.920321Z",
          "iopub.status.busy": "2024-01-28T06:39:43.919921Z",
          "iopub.status.idle": "2024-01-28T06:43:23.626829Z",
          "shell.execute_reply": "2024-01-28T06:43:23.625503Z",
          "shell.execute_reply.started": "2024-01-28T06:39:43.920274Z"
        },
        "id": "d5TlAF1kBGvr"
      },
      "outputs": [],
      "source": [
        "\n",
        "#   - - - - - - - - - - - - - - - - - -   Hyperparameters    - - - - - - - - - - - - - - - - - -\n",
        "shared_embedding_size = 512  # d_e shared embedding space\n",
        "learning_rate = 5e-4\n",
        "\n",
        "#  - - - - - - - - - - - - - - - - - -   Create model components   - - - - - - - - - - - - - - - - - -\n",
        "# - - - - - - - - - ResNet Model - - - - - - - - -\n",
        "# Load a pre-trained ResNet model\n",
        "image_embedding_size=1024*2\n",
        "resnet_model = models.resnet50(pretrained=True)\n",
        "# Remove the classification layer (the last fully connected layer)\n",
        "resnet_model = nn.Sequential( *list(resnet_model.children())[:-1] )\n",
        "resnet_model.to(device)\n",
        "print(\" Number of Trainable Parameters in\", \" ResNet50 Model :  \",   count_trainable_parameters(resnet_model))\n",
        "\n",
        "# - - - - - - - - -  Distil BERT Model  - - - - - - - - -\n",
        "max_length = 32\n",
        "text_embedding_size = 768  # d_i\n",
        "\n",
        "# Load pre-trained DistilBERT model and tokenizer\n",
        "model_name = 'distilbert-base-uncased'\n",
        "text_tokenizer = DistilBertTokenizer.from_pretrained(model_name) # .to(device)\n",
        "text_model = DistilBertModel.from_pretrained(model_name ).to(device)\n",
        "print(\" Number of Trainable Parameters in\", \" DistilBERT model :  \",   count_trainable_parameters(text_model))\n",
        "\n",
        "\n",
        "# - - - - - - - - -  Projections  - - - - - - - - -\n",
        "image_projector = ImageProjection(image_embedding_size, shared_embedding_size).to(device)\n",
        "print(\" Number of Trainable Parameters in\", \" Image Projection :  \",   count_trainable_parameters(image_projector))\n",
        "text_projector = TextProjection(text_embedding_size, shared_embedding_size).to(device)\n",
        "print(\" Number of Trainable Parameters in\", \" Text Projection :  \",   count_trainable_parameters(text_projector))\n",
        "print(\"\\n - - - - - - - - - - \\n \\n  Training......  \")\n",
        "\n",
        "# - - - - - - - - -  Loss  - - - - - - - - -\n",
        "# sym_loss_fn = SymmetricalLoss(margin=0.1).to(device)\n",
        "# contrastive_loss = ContrastiveLoss(temperature=0.9)\n",
        "\n",
        "# - - - - - - - - -  Optimizer  - - - - - - - - -\n",
        "# optimizer = optim.AdamW( list(resnet_model.parameters()) + list(text_model.parameters()) + list(image_projector.parameters()) + list(text_projector.parameters()), lr=learning_rate )\n",
        "params = [{\"params\":resnet_model.parameters(), \"lr\":1e-4 }, {\"params\":text_model.parameters(), \"lr\":1e-5},\n",
        "          # {\"params\":image_projector.parameters(), \"lr\": }, {\"params\":text_projector.parameters(), \"lr\":}\n",
        "          {\"params\": itertools.chain( image_projector.parameters(), text_projector.parameters() ), \"lr\":1e-3 , \"weight_decay\":1e-3 }\n",
        "         ]\n",
        "optimizer = optim.AdamW( params,  weight_decay=0. )\n",
        "lr_scheduler = torch.optim.lr_scheduler.ReduceLROnPlateau( optimizer, mode=\"min\", patience=2 , factor=0.8 )\n",
        "\n",
        "# - - - - - - - - -  Training loop  - - - - - - - - -\n",
        "for epoch in range(num_epochs):\n",
        "    # Record the start time\n",
        "    start_time = time.time()\n",
        "    print( \" - - - - - - - - - - - Epoch:\", epoch+1, \" - - - - - - - - - - - - \"  )\n",
        "    resnet_model.train()\n",
        "    text_model.train()\n",
        "    image_projector.train()\n",
        "    text_projector.train()\n",
        "    total_loss = 0.0\n",
        "\n",
        "    for batch_idx, (images, texts) in enumerate(train_dataloader):\n",
        "        # - - - - - - - - -  Forward pass  - - - - - - - - -\n",
        "        optimizer.zero_grad()\n",
        "\n",
        "        # - - - -  Text  - - - -\n",
        "        inputs = tokenizer(texts, return_tensors='pt', padding=\"max_length\", max_length=max_length, truncation=True)\n",
        "        inputs = inputs.to(device)\n",
        "        outputs = text_model(**inputs)\n",
        "        text_embeddings = outputs.last_hidden_state[:, 0, :] # outputs.last_hidden_state.mean(dim=1)\n",
        "        text_projection = text_projector(text_embeddings)\n",
        "\n",
        "        # - - - -  Image  - - - -\n",
        "        images = images.to(device)\n",
        "        # images = preprocess_images(images)\n",
        "        image_embeddings = resnet_model(images)\n",
        "        image_projection = image_projector(image_embeddings[:,:,0,0])\n",
        "\n",
        "        # - - - -  Compute Loss  - - - -\n",
        "        # loss = sym_loss_fn(image_projection, text_projection)\n",
        "        # loss = contrastive_loss(image_projection, text_projection)\n",
        "        loss = contrastive_clip_loss_function( text_projection,  image_projection, mode=\"train\")\n",
        "\n",
        "        # - - - -  Backpropagation  - - - -\n",
        "        loss.backward()\n",
        "        optimizer.step()\n",
        "\n",
        "        # - - - - Loss print - - - -\n",
        "        total_loss += loss.item()\n",
        "        if batch_idx % 200 == 0:\n",
        "            print(f\"Epoch [{epoch+1}/{num_epochs}], Batch [{batch_idx}/{len(train_dataloader)}], Loss: {total_loss/((batch_idx+1)*batch_size):.4f}\")\n",
        "\n",
        "\n",
        "    lr_scheduler.step(total_loss)\n",
        "\n",
        "    # Record the end time\n",
        "    end_time = time.time()\n",
        "    elapsed_time = end_time - start_time\n",
        "    # - - - - Loss each epoch\n",
        "    avg_loss = total_loss / len(train_dataloader)\n",
        "    print(f\"Epoch [{epoch+1}/{num_epochs}], Average Loss: {avg_loss:.4f}\", \"  Time Taken: \", elapsed_time, \" seconds\" )"
      ]
    },
    {
      "cell_type": "code",
      "execution_count": null,
      "metadata": {
        "execution": {
          "iopub.execute_input": "2024-01-28T06:43:29.835571Z",
          "iopub.status.busy": "2024-01-28T06:43:29.835181Z"
        },
        "id": "k5QYxrm7BGvr"
      },
      "outputs": [],
      "source": [
        "resnet_model.eval()\n",
        "image_projector.eval()\n",
        "\n",
        "def create_image_embeddings(images):\n",
        "    with torch.no_grad():\n",
        "        image_embeddings = resnet_model(images)\n",
        "        image_projection = image_projector(image_embeddings[:,:,0,0])\n",
        "    return image_projection\n",
        "\n",
        "image_embeddings_list_train = []\n",
        "\n",
        "for index in tqdm(range(len( train_dataset ))):\n",
        "    images = train_dataset[index][0]\n",
        "    images = images.to(device)\n",
        "    image_projection = create_image_embeddings(images.unsqueeze(0))\n",
        "    image_embeddings_list_train.append( image_projection[0] )\n",
        "\n",
        "\n",
        "def image_retrieval_function( input_query, n , display=False): # n --> number of images\n",
        "    with torch.no_grad():\n",
        "        inputs = tokenizer(input_query, return_tensors='pt', padding=\"max_length\", max_length=max_length, truncation=True)\n",
        "        inputs = inputs.to(device)\n",
        "        outputs = text_model(**inputs)\n",
        "        text_embeddings = outputs.last_hidden_state.mean(dim=1)\n",
        "        text_projection = text_projector(text_embeddings)\n",
        "\n",
        "    similarity_scores_list = []\n",
        "    for index in tqdm(range(len(image_embeddings_list_train))):\n",
        "        score = torch.dot( text_projection[0], image_embeddings_list_train[index] )\n",
        "        similarity_scores_list.append( score.cpu().numpy() )\n",
        "\n",
        "    max_indexes = np.array(similarity_scores_list).argsort()[-n:][::-1]\n",
        "    if display:\n",
        "        for index in max_indexes:\n",
        "            image_tensor = train_dataset[index][0]\n",
        "            plt.imshow( torch.moveaxis(image_tensor, 0,2) )\n",
        "            plt.show()\n",
        "        return None\n",
        "    else:\n",
        "        return max_indexes"
      ]
    },
    {
      "cell_type": "code",
      "execution_count": null,
      "metadata": {
        "id": "H4iYKDoGBGvr"
      },
      "outputs": [],
      "source": [
        "input_query = \"silhouette\"\n",
        "image_retrieval_function( input_query, n=10, display=True )"
      ]
    },
    {
      "cell_type": "code",
      "execution_count": null,
      "metadata": {
        "id": "C0RZSbU3BGvs"
      },
      "outputs": [],
      "source": [
        "input_query = \"man\"\n",
        "image_retrieval_function( input_query, n=3, display=True )"
      ]
    },
    {
      "cell_type": "code",
      "execution_count": null,
      "metadata": {
        "id": "9J1r3kEjBGvs"
      },
      "outputs": [],
      "source": [
        "input_query = \"women\"\n",
        "image_retrieval_function( input_query, n=5, display=True )"
      ]
    },
    {
      "cell_type": "code",
      "execution_count": null,
      "metadata": {
        "_kg_hide-input": true,
        "_kg_hide-output": true,
        "id": "dBLjVLyhBGvs"
      },
      "outputs": [],
      "source": [
        "input_query = \"bike on the road\"\n",
        "image_retrieval_function( input_query, n=2, display=True )"
      ]
    },
    {
      "cell_type": "markdown",
      "metadata": {
        "id": "EU0zjR4XBGvw"
      },
      "source": [
        "# Training Model - ViT + Distil BERT"
      ]
    },
    {
      "cell_type": "code",
      "execution_count": null,
      "metadata": {
        "id": "gbIsa4iMBGvx"
      },
      "outputs": [],
      "source": [
        "import gc\n",
        "gc.collect()\n",
        "torch.cuda.empty_cache()"
      ]
    },
    {
      "cell_type": "code",
      "execution_count": null,
      "metadata": {
        "id": "sVP_sVd9BGvx"
      },
      "outputs": [],
      "source": [
        "#   - - - - - - - - - - - - - - - - - -   Hyperparameters    - - - - - - - - - - - - - - - - - -\n",
        "shared_embedding_size = 512  # d_e shared embedding space\n",
        "\n",
        "#  - - - - - - - - - - - - - - - - - -   Create model components   - - - - - - - - - - - - - - - - - -\n",
        "# - - - - - - - - - ViT Model - - - - - - - - -\n",
        "image_size = 256\n",
        "patch_size = 16\n",
        "d_model = 512*4\n",
        "n_heads = 8\n",
        "dim_feedforward = 2048\n",
        "num_layers = 12\n",
        "image_embedding_size=1024  # d_i\n",
        "\n",
        "ViT_model = VisionTransformer(image_size, patch_size, d_model, n_heads, image_embedding_size, dim_feedforward, num_layers).to(device)\n",
        "print(\" Number of Trainable Parameters in\", \" ViT model :  \",   count_trainable_parameters(ViT_model))\n",
        "\n",
        "# - - - - - - - - -  Distil BERT Model  - - - - - - - - -\n",
        "max_length = 32\n",
        "text_embedding_size = 768  # d_i\n",
        "\n",
        "# Load pre-trained DistilBERT model and tokenizer\n",
        "model_name = 'distilbert-base-uncased'\n",
        "text_tokenizer = DistilBertTokenizer.from_pretrained(model_name) # .to(device)\n",
        "text_model = DistilBertModel.from_pretrained(model_name ).to(device)\n",
        "print(\" Number of Trainable Parameters in\", \" DistilBERT model :  \",   count_trainable_parameters(text_model))\n",
        "\n",
        "\n",
        "# - - - - - - - - -  Projections  - - - - - - - - -\n",
        "image_projector = ImageProjection(image_embedding_size, shared_embedding_size).to(device)\n",
        "print(\" Number of Trainable Parameters in\", \" Image Projection :  \",   count_trainable_parameters(image_projector))\n",
        "text_projector = TextProjection(text_embedding_size, shared_embedding_size).to(device)\n",
        "print(\" Number of Trainable Parameters in\", \" Text Projection :  \",   count_trainable_parameters(text_projector))\n",
        "print(\"\\n - - - - - - - - - - \\n \\n  Training......  \")\n",
        "\n",
        "# - - - - - - - - -  Loss  - - - - - - - - -\n",
        "# sym_loss_fn = SymmetricalLoss(margin=0.1).to(device)\n",
        "# contrastive_loss = ContrastiveLoss(temperature=0.9)\n",
        "\n",
        "# - - - - - - - - -  Optimizer  - - - - - - - - -\n",
        "# optimizer = optim.AdamW( list(ViT_model.parameters())+ list(text_model.parameters()) + list(image_projector.parameters()) + list(text_projector.parameters()), lr=learning_rate )\n",
        "params = [{\"params\":ViT_model.parameters(), \"lr\":1e-3 }, {\"params\":text_model.parameters(), \"lr\":1e-4},\n",
        "          # {\"params\":image_projector.parameters(), \"lr\": }, {\"params\":text_projector.parameters(), \"lr\":}\n",
        "          {\"params\": itertools.chain( image_projector.parameters(), text_projector.parameters() ), \"lr\":1e-3 , \"weight_decay\":1e-3 }\n",
        "         ]\n",
        "optimizer = optim.AdamW( params,  weight_decay=0.0 )\n",
        "lr_scheduler = torch.optim.lr_scheduler.ReduceLROnPlateau( optimizer, mode=\"min\", patience=1 , factor=0.8 )\n",
        "\n",
        "# import torch.optim.lr_scheduler as lr_scheduler\n",
        "# scheduler = lr_scheduler.StepLR(optimizer, step_size=10, gamma=0.5) # step_size=step_size\n",
        "# warmup_epochs = 25  # Number of epochs for warm-up\n",
        "\n",
        "# - - - - - - - - -  Training loop  - - - - - - - - -\n",
        "for epoch in range(num_epochs):\n",
        "    print( \" - - - - - - - - - - - Epoch:\", epoch+1, \" - - - - - - - - - - - - \"  )\n",
        "    ViT_model.train()\n",
        "    text_model.train()\n",
        "    image_projector.train()\n",
        "    text_projector.train()\n",
        "    total_loss = 0.0\n",
        "\n",
        "    for batch_idx, (images, texts) in enumerate(train_dataloader):\n",
        "        # - - - - - - - - -  Forward pass  - - - - - - - - -\n",
        "        optimizer.zero_grad()\n",
        "\n",
        "        # - - - -  Text  - - - -\n",
        "        inputs = tokenizer(texts, return_tensors='pt', padding=\"max_length\", max_length=max_length, truncation=True)\n",
        "        inputs = inputs.to(device)\n",
        "        outputs = text_model(**inputs)\n",
        "        text_embeddings = outputs.last_hidden_state[:, 0, :] # outputs.last_hidden_state.mean(dim=1)\n",
        "        text_projection = text_projector(text_embeddings)\n",
        "\n",
        "        # - - - -  Image  - - - -\n",
        "        images = images.to(device)\n",
        "        image_embeddings = ViT_model(images)\n",
        "        image_projection = image_projector(image_embeddings)\n",
        "\n",
        "        # - - - -  Compute Loss  - - - -\n",
        "        # loss = sym_loss_fn(image_projection, text_projection)\n",
        "        # loss = contrastive_loss(image_projection, text_projection)\n",
        "        loss = contrastive_clip_loss_function( text_projection,  image_projection, mode=\"train\")\n",
        "\n",
        "        # - - - -  Backpropagation  - - - -\n",
        "        loss.backward()\n",
        "        optimizer.step()\n",
        "\n",
        "#     if epoch < warmup_epochs:\n",
        "#         scheduler.step(epoch)\n",
        "#     else:\n",
        "#         scheduler.step()\n",
        "\n",
        "        # - - - - Loss print - - - -\n",
        "        total_loss += loss.item()\n",
        "\n",
        "        if batch_idx % 200 == 0:\n",
        "            print(f\"Epoch [{epoch+1}/{num_epochs}], Batch [{batch_idx}/{len(train_dataloader)}], Loss: {total_loss/((batch_idx+1)*batch_size):.4f}\")\n",
        "\n",
        "\n",
        "    # - - - - Loss each epoch\n",
        "    avg_loss = total_loss / len(train_dataloader)\n",
        "    lr_scheduler.step(avg_loss)\n",
        "    print(f\"Epoch [{epoch+1}/{num_epochs}], Average Loss: {avg_loss:.4f}\")"
      ]
    },
    {
      "cell_type": "code",
      "execution_count": null,
      "metadata": {
        "_kg_hide-output": true,
        "id": "hW7F30p8BGvx",
        "papermill": {
          "duration": 5.371338,
          "end_time": "2023-08-31T05:57:45.42658",
          "exception": false,
          "start_time": "2023-08-31T05:57:40.055242",
          "status": "completed"
        },
        "tags": []
      },
      "outputs": [],
      "source": [
        "\"\"\"\n",
        "# 11891904 + 22155456 + 66362880 + 105987072\n",
        "\n",
        "try:\n",
        "    checkpoint = {\n",
        "        'ViT_model_dict': ViT_model.state_dict(),\n",
        "        # 'resnet_model_dict': resnet_model.state_dict(),\n",
        "        'text_model_dict': text_model.state_dict(),\n",
        "        'image_projector_dict': image_projector.state_dict(),\n",
        "        'text_projector_dict': text_projector.state_dict(),\n",
        "        'optimizer_state_dict': optimizer.state_dict(),\n",
        "    }\n",
        "    torch.save(checkpoint, \"/kaggle/working/CLIP_model_from_Scratch_ResNet_DistilBERT\")\n",
        "\n",
        "except:\n",
        "    print(\"Error in some saving\")\n",
        "\n",
        "\"\"\""
      ]
    },
    {
      "cell_type": "markdown",
      "metadata": {
        "id": "XOPqT3yUBGvx"
      },
      "source": [
        "# Inference | Image Retrieval | ViT Setup"
      ]
    },
    {
      "cell_type": "code",
      "execution_count": null,
      "metadata": {
        "_kg_hide-input": true,
        "_kg_hide-output": true,
        "id": "xclKkfniBGvy",
        "papermill": {
          "duration": 132.447943,
          "end_time": "2023-08-31T06:00:05.398792",
          "exception": false,
          "start_time": "2023-08-31T05:57:52.950849",
          "status": "completed"
        },
        "tags": []
      },
      "outputs": [],
      "source": [
        "ViT_model.eval()\n",
        "image_projector.eval()\n",
        "\n",
        "def create_image_embeddings(images):\n",
        "    with torch.no_grad():\n",
        "        image_embeddings = ViT_model(images)\n",
        "        image_projection = image_projector(image_embeddings)\n",
        "    return image_projection\n",
        "\n",
        "image_embeddings_list_train = []\n",
        "\n",
        "for index in tqdm(range(len( train_dataset ))):\n",
        "    images = train_dataset[index][0]\n",
        "    images = images.to(device)\n",
        "    image_projection = create_image_embeddings(images.unsqueeze(0))\n",
        "    image_embeddings_list_train.append( image_projection[0] )\n",
        "\n",
        "\n",
        "def image_retrieval_function( input_query, n , display=False): # n --> number of images\n",
        "    with torch.no_grad():\n",
        "        inputs = tokenizer(input_query, return_tensors='pt', padding=\"max_length\", max_length=max_length, truncation=True)\n",
        "        inputs = inputs.to(device)\n",
        "        outputs = text_model(**inputs)\n",
        "        text_embeddings = outputs.last_hidden_state.mean(dim=1)\n",
        "        text_projection = text_projector(text_embeddings)\n",
        "\n",
        "    similarity_scores_list = []\n",
        "    for index in tqdm(range(len(image_embeddings_list_train))):\n",
        "        score = torch.dot( text_projection[0], image_embeddings_list_train[index] )\n",
        "        similarity_scores_list.append( score.cpu().numpy() )\n",
        "\n",
        "    max_indexes = np.array(similarity_scores_list).argsort()[-n:][::-1]\n",
        "    if display:\n",
        "        for index in max_indexes:\n",
        "            image_tensor = train_dataset[index][0]\n",
        "            plt.imshow( torch.moveaxis(image_tensor, 0,2) )\n",
        "            plt.show()\n",
        "        return None\n",
        "    else:\n",
        "        return max_indexes"
      ]
    },
    {
      "cell_type": "code",
      "execution_count": null,
      "metadata": {
        "_kg_hide-input": false,
        "_kg_hide-output": false,
        "id": "2eGFHLbvBGvy",
        "papermill": {
          "duration": 1.761107,
          "end_time": "2023-08-31T06:00:07.484356",
          "exception": false,
          "start_time": "2023-08-31T06:00:05.723249",
          "status": "completed"
        },
        "tags": []
      },
      "outputs": [],
      "source": [
        "input_query = \"dog\"\n",
        "image_retrieval_function( input_query, n=3, display=True )"
      ]
    },
    {
      "cell_type": "code",
      "execution_count": null,
      "metadata": {
        "_kg_hide-input": true,
        "_kg_hide-output": true,
        "id": "BB8QFflLBGvy",
        "papermill": {
          "duration": 1.691914,
          "end_time": "2023-08-31T06:00:09.508613",
          "exception": false,
          "start_time": "2023-08-31T06:00:07.816699",
          "status": "completed"
        },
        "tags": []
      },
      "outputs": [],
      "source": [
        "input_query = \"man\"\n",
        "image_retrieval_function( input_query, n=3, display=True )"
      ]
    },
    {
      "cell_type": "code",
      "execution_count": null,
      "metadata": {
        "_kg_hide-input": true,
        "_kg_hide-output": true,
        "id": "_vy-bpu1BGvz",
        "papermill": {
          "duration": 2.273767,
          "end_time": "2023-08-31T06:00:12.128153",
          "exception": false,
          "start_time": "2023-08-31T06:00:09.854386",
          "status": "completed"
        },
        "tags": []
      },
      "outputs": [],
      "source": [
        "input_query = \"women\"\n",
        "image_retrieval_function( input_query, n=5, display=True )"
      ]
    },
    {
      "cell_type": "code",
      "execution_count": null,
      "metadata": {
        "_kg_hide-input": true,
        "_kg_hide-output": true,
        "id": "PG5KWeTmBGvz",
        "papermill": {
          "duration": 2.725346,
          "end_time": "2023-08-31T06:00:15.315965",
          "exception": false,
          "start_time": "2023-08-31T06:00:12.590619",
          "status": "completed"
        },
        "tags": []
      },
      "outputs": [],
      "source": [
        "input_query = \"bike on the road\"\n",
        "image_retrieval_function( input_query, n=5, display=True )"
      ]
    },
    {
      "cell_type": "markdown",
      "metadata": {
        "_kg_hide-input": true,
        "id": "WwyU7_5gBGvz",
        "papermill": {
          "duration": 0.356117,
          "end_time": "2023-08-31T06:00:16.039553",
          "exception": false,
          "start_time": "2023-08-31T06:00:15.683436",
          "status": "completed"
        },
        "tags": []
      },
      "source": [
        "# Evaluation | Testing"
      ]
    },
    {
      "cell_type": "code",
      "execution_count": null,
      "metadata": {
        "_kg_hide-input": false,
        "_kg_hide-output": false,
        "id": "InNh_icMBGvz",
        "papermill": {
          "duration": 100.010034,
          "end_time": "2023-08-31T06:01:56.405376",
          "exception": false,
          "start_time": "2023-08-31T06:00:16.395342",
          "status": "completed"
        },
        "scrolled": true,
        "tags": []
      },
      "outputs": [],
      "source": [
        "accuracy_counter = 0\n",
        "\n",
        "# ViT_model.eval()\n",
        "resnet_model.eval()\n",
        "text_model.eval()\n",
        "image_projector.eval()\n",
        "text_projector.eval()\n",
        "\n",
        "# cosine_similarity = CosineSimilarity(temperature=temperature_value)\n",
        "\n",
        "with torch.no_grad():\n",
        "    for batch_images, batch_captions in tqdm(train_dataloader):\n",
        "        batch_size = batch_images.size(0)\n",
        "\n",
        "        # - - - - - - - - -  Forward pass  - - - - - - - - -\n",
        "        # - - - -  Text  - - - -\n",
        "        inputs = tokenizer(batch_captions, return_tensors='pt', padding=\"max_length\", max_length=max_length, truncation=True)\n",
        "        inputs = inputs.to(device)\n",
        "        outputs = text_model(**inputs)\n",
        "        text_embeddings = outputs.last_hidden_state.mean(dim=1)\n",
        "        text_projection = text_projector(text_embeddings)\n",
        "\n",
        "        # - - - -  Image  - - - -\n",
        "        batch_images = batch_images.to(device)\n",
        "#         image_embeddings = ViT_model(batch_images)\n",
        "#         image_projection = image_projector(image_embeddings)\n",
        "        image_embeddings = resnet_model(batch_images)\n",
        "        image_projection = image_projector(image_embeddings[:,:,0,0])\n",
        "\n",
        "        # Calculate cosine similarities\n",
        "        for index_text in range(batch_size):\n",
        "            similarity_scores_list = []\n",
        "            for index_image in range(len(image_projection)):\n",
        "                score = torch.dot( text_projection[index_text], image_projection[index_image] )\n",
        "                similarity_scores_list.append( score.cpu().numpy() )\n",
        "            similarity_scores_list = np.array(similarity_scores_list)\n",
        "\n",
        "            max_index = np.argmax(similarity_scores_list)\n",
        "            if max_index==index_text:\n",
        "                accuracy_counter += 1\n",
        "\n",
        "#         # Convert indices to captions for comparison\n",
        "#         batch_pred_captions = [batch_captions[index] for index in batch_pred_indices]\n",
        "#         batch_actual_captions = batch_captions\n",
        "\n",
        "#         # Calculate accuracy\n",
        "#         for pred_caption, actual_caption in zip(batch_pred_captions, batch_actual_captions):\n",
        "#             if pred_caption == actual_caption:\n",
        "#                 accuracy_counter += 1\n",
        "\n",
        "total_samples = len(train_dataloader.dataset)\n",
        "accuracy = accuracy_counter / total_samples\n",
        "print(f\"Accuracy (Pencentage of Correct Matching): {accuracy*100:.4f}\")"
      ]
    },
    {
      "cell_type": "code",
      "execution_count": null,
      "metadata": {
        "_kg_hide-input": false,
        "_kg_hide-output": false,
        "id": "iHzqE1FPBGv0",
        "papermill": {
          "duration": 99.963085,
          "end_time": "2023-08-31T06:03:36.773355",
          "exception": false,
          "start_time": "2023-08-31T06:01:56.81027",
          "status": "completed"
        },
        "tags": []
      },
      "outputs": [],
      "source": [
        "accuracy_counter = 0\n",
        "\n",
        "# ViT_model.eval()\n",
        "resnet_model.eval()\n",
        "text_model.eval()\n",
        "image_projector.eval()\n",
        "text_projector.eval()\n",
        "\n",
        "# cosine_similarity = CosineSimilarity(temperature=temperature_value)\n",
        "\n",
        "with torch.no_grad():\n",
        "    for batch_images, batch_captions in tqdm(test_dataloader):\n",
        "        batch_size = batch_images.size(0)\n",
        "\n",
        "        # - - - - - - - - -  Forward pass  - - - - - - - - -\n",
        "        # - - - -  Text  - - - -\n",
        "        inputs = tokenizer(batch_captions, return_tensors='pt', padding=\"max_length\", max_length=max_length, truncation=True)\n",
        "        inputs = inputs.to(device)\n",
        "        outputs = text_model(**inputs)\n",
        "        text_embeddings = outputs.last_hidden_state.mean(dim=1)\n",
        "        text_projection = text_projector(text_embeddings)\n",
        "\n",
        "        # - - - -  Image  - - - -\n",
        "        batch_images = batch_images.to(device)\n",
        "        image_embeddings = resnet_model(batch_images)\n",
        "        image_projection = image_projector(image_embeddings[:,:,0,0])\n",
        "\n",
        "        # Calculate cosine similarities\n",
        "        for index_text in range(batch_size):\n",
        "            similarity_scores_list = []\n",
        "            for index_image in range(len(image_projection)):\n",
        "                score = torch.dot( text_projection[index_text], image_projection[index_image] )\n",
        "                similarity_scores_list.append( score.cpu().numpy() )\n",
        "            similarity_scores_list = np.array(similarity_scores_list)\n",
        "\n",
        "            max_index = np.argmax(similarity_scores_list)\n",
        "            if max_index==index_text:\n",
        "                accuracy_counter += 1\n",
        "\n",
        "total_samples = len(test_dataloader.dataset)\n",
        "accuracy = accuracy_counter / total_samples\n",
        "print(f\"Accuracy (Pencentage of Correct Matching): {accuracy*100:.4f}\")"
      ]
    },
    {
      "cell_type": "markdown",
      "metadata": {
        "id": "odkQh1-pBGv0",
        "papermill": {
          "duration": 0.436423,
          "end_time": "2023-08-31T06:03:38.533049",
          "exception": false,
          "start_time": "2023-08-31T06:03:38.096626",
          "status": "completed"
        },
        "tags": []
      },
      "source": [
        "# References:\n",
        "\n",
        "Image Reference: https://www.youtube.com/watch?v=GLa7z5rkSf4\n",
        "\n",
        "Paper: https://arxiv.org/abs/2103.00020\n",
        "\n",
        "Website: https://openai.com/research/clip\n",
        "\n",
        "Vision Transformer Model (ViT) : https://arxiv.org/pdf/2010.11929v2.pdf  |  https://huggingface.co/docs/transformers/main/model_doc/vit"
      ]
    }
  ],
  "metadata": {
    "colab": {
      "provenance": []
    },
    "kaggle": {
      "accelerator": "nvidiaTeslaT4",
      "dataSources": [
        {
          "datasetId": 516716,
          "sourceId": 951996,
          "sourceType": "datasetVersion"
        }
      ],
      "dockerImageVersionId": 30528,
      "isGpuEnabled": true,
      "isInternetEnabled": true,
      "language": "python",
      "sourceType": "notebook"
    },
    "kernelspec": {
      "display_name": "Python 3 (ipykernel)",
      "language": "python",
      "name": "python3"
    },
    "language_info": {
      "codemirror_mode": {
        "name": "ipython",
        "version": 3
      },
      "file_extension": ".py",
      "mimetype": "text/x-python",
      "name": "python",
      "nbconvert_exporter": "python",
      "pygments_lexer": "ipython3",
      "version": "3.10.9"
    }
  },
  "nbformat": 4,
  "nbformat_minor": 0
}